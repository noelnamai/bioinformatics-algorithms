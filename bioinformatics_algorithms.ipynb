{
 "metadata": {
  "name": "",
  "signature": "sha256:e21ba30260da95f61549d6c606eb50c553761316803068677b07bbe28e09597d"
 },
 "nbformat": 3,
 "nbformat_minor": 0,
 "worksheets": [
  {
   "cells": [
    {
     "cell_type": "code",
     "collapsed": false,
     "input": [
      "import re\n",
      "import math\n",
      "import urllib2\n",
      "import operator\n",
      "import itertools\n",
      "import collections\n",
      "import numpy as np\n",
      "import pandas as pd\n",
      "import matplotlib.pyplot as plt\n",
      "\n",
      "%matplotlib inline"
     ],
     "language": "python",
     "metadata": {},
     "outputs": [],
     "prompt_number": 1
    },
    {
     "cell_type": "markdown",
     "metadata": {},
     "source": [
      "# Chapter 1: Algorithmic Warmup.\n",
      "> ## Where in the Genome Does DNA Replication Begin?"
     ]
    },
    {
     "cell_type": "code",
     "collapsed": false,
     "input": [
      "## Transform symbols A, C, G, and T into the respective integers 0, 1, 2, and 3.\n",
      "\n",
      "def symbol_to_number(symbol):\n",
      "    symbol_dict = {\"A\":0, \"C\":1, \"G\":2, \"T\":3}\n",
      "    return symbol_dict[symbol]\n",
      "    \n",
      "print symbol_to_number(\"T\")"
     ],
     "language": "python",
     "metadata": {},
     "outputs": [
      {
       "output_type": "stream",
       "stream": "stdout",
       "text": [
        "3\n"
       ]
      }
     ],
     "prompt_number": 2
    },
    {
     "cell_type": "code",
     "collapsed": false,
     "input": [
      "## Transform integers 0, 1, 2, and 3 into the respective symbols A, C, G, and T.\n",
      "\n",
      "def number_to_symbol(index):\n",
      "    symbol_dict = {0:\"A\", 1:\"C\", 2:\"G\", 3:\"T\"}\n",
      "    return symbol_dict[index]\n",
      "    \n",
      "print number_to_symbol(3)"
     ],
     "language": "python",
     "metadata": {},
     "outputs": [
      {
       "output_type": "stream",
       "stream": "stdout",
       "text": [
        "T\n"
       ]
      }
     ],
     "prompt_number": 3
    },
    {
     "cell_type": "code",
     "collapsed": false,
     "input": [
      "## Pattern to Number:\n",
      "## Transform a k-mer Pattern into an integer.\n",
      "\n",
      "def pattern_to_number(pattern):\n",
      "    if len(pattern) == 0:\n",
      "        return 0\n",
      "    else:\n",
      "        symbol = pattern[-1]\n",
      "        pattern = pattern[:-1]\n",
      "        return 4*pattern_to_number(pattern) + symbol_to_number(symbol)     \n",
      "        \n",
      "print pattern_to_number(\"ATGCAA\")"
     ],
     "language": "python",
     "metadata": {},
     "outputs": [
      {
       "output_type": "stream",
       "stream": "stdout",
       "text": [
        "912\n"
       ]
      }
     ],
     "prompt_number": 4
    },
    {
     "cell_type": "code",
     "collapsed": false,
     "input": [
      "## Number to Pattern:\n",
      "## Transform an integer between 0 and 4k \u2212 1 into a k-mer.\n",
      "\n",
      "def number_to_pattern(index, k):\n",
      "    if k == 1:\n",
      "        return number_to_symbol(index)\n",
      "    else:\n",
      "        prefix_index = int(math.floor(index/4))\n",
      "        r = index % 4\n",
      "        prefix_pattern = number_to_pattern(prefix_index, k-1)\n",
      "        symbol = number_to_symbol(r)\n",
      "        return prefix_pattern + symbol\n",
      "\n",
      "print number_to_pattern(5752, 9)"
     ],
     "language": "python",
     "metadata": {},
     "outputs": [
      {
       "output_type": "stream",
       "stream": "stdout",
       "text": [
        "AACCGCTGA\n"
       ]
      }
     ],
     "prompt_number": 5
    },
    {
     "cell_type": "code",
     "collapsed": false,
     "input": [
      "## Computing Frequencies:\n",
      "## Input: A DNA string Text followed by an integer k.\n",
      "## Output: FrequencyArray(Text).\n",
      "\n",
      "def computing_frequencies(text, k):\n",
      "    num = 4**k\n",
      "    frequency_array = [0]*num\n",
      "    for i in range(len(text) - k+1):    \n",
      "        pattern = text[i : k+i] \n",
      "        j = pattern_to_number(pattern)\n",
      "        frequency_array[j] = frequency_array[j] + 1        \n",
      "    return frequency_array\n",
      "\n",
      "string = \"\".join(open(\"./data/computing_frequencies.txt\")).split()\n",
      "print computing_frequencies(string[0], int(string[1]))"
     ],
     "language": "python",
     "metadata": {},
     "outputs": [
      {
       "output_type": "stream",
       "stream": "stdout",
       "text": [
        "[0, 0, 2, 0, 0, 1, 2, 3, 0, 1, 1, 0, 2, 1, 1, 0, 0, 2, 0, 0, 0, 1, 0, 0, 1, 2, 2, 3, 2, 2, 1, 1, 1, 0, 0, 1, 1, 2, 1, 2, 1, 0, 0, 1, 1, 2, 1, 0, 0, 1, 0, 1, 1, 1, 1, 1, 2, 0, 0, 0, 0, 0, 0, 1, 1, 1, 2, 1, 1, 0, 2, 1, 1, 0, 0, 1, 1, 0, 0, 0, 1, 0, 0, 0, 0, 1, 1, 3, 0, 0, 1, 0, 0, 0, 0, 0, 2, 1, 1, 0, 0, 0, 0, 3, 0, 1, 1, 2, 1, 1, 1, 3, 0, 2, 1, 2, 0, 1, 3, 0, 2, 1, 0, 1, 1, 0, 0, 1, 1, 1, 2, 0, 0, 1, 0, 0, 1, 0, 0, 0, 0, 0, 1, 0, 2, 1, 0, 1, 0, 2, 0, 1, 1, 0, 0, 0, 0, 2, 1, 1, 1, 1, 0, 1, 2, 0, 0, 1, 1, 0, 0, 0, 1, 0, 0, 0, 1, 0, 1, 1, 1, 1, 0, 0, 1, 1, 1, 0, 2, 0, 1, 0, 0, 1, 1, 2, 0, 1, 1, 1, 0, 0, 0, 0, 1, 1, 1, 0, 0, 0, 0, 1, 2, 0, 0, 2, 0, 0, 1, 2, 0, 0, 2, 1, 1, 1, 0, 2, 1, 2, 1, 1, 0, 1, 0, 0, 1, 0, 0, 0, 0, 1, 0, 1, 1, 1, 0, 0, 1, 0, 0, 0, 1, 1, 1, 1, 1, 2, 0, 0, 1, 0, 3, 1, 1, 3, 1, 0, 0, 1, 0, 0, 1, 0, 2, 1, 0, 1, 0, 0, 1, 0, 2, 1, 0, 0, 2, 0, 2, 1, 0, 0, 1, 0, 0, 0, 1, 0, 0, 0, 1, 0, 1, 0, 2, 0, 0, 0, 0, 0, 1, 0, 1, 2, 0, 0, 0, 2, 0, 1, 0, 1, 1, 0, 2, 0, 1, 0, 0, 1, 0, 0, 1, 1, 2, 1, 0, 1, 0, 2, 2, 0, 0, 1, 0, 1, 0, 1, 0, 2, 1, 1, 2, 0, 0, 2, 1, 0, 1, 0, 1, 0, 1, 1, 0, 0, 1, 1, 0, 1, 1, 1, 0, 3, 0, 1, 0, 2, 1, 2, 1, 0, 2, 1, 3, 1, 1, 1, 1, 0, 0, 1, 0, 1, 1, 0, 2, 1, 0, 1, 1, 0, 0, 0, 0, 0, 0, 2, 0, 0, 0, 2, 2, 1, 0, 1, 0, 0, 0, 1, 0, 2, 0, 0, 1, 3, 1, 0, 1, 1, 1, 0, 0, 2, 1, 1, 1, 0, 2, 1, 0, 2, 1, 1, 0, 0, 0, 4, 1, 0, 0, 0, 2, 1, 1, 1, 0, 2, 0, 1, 1, 0, 1, 1, 1, 0, 1, 0, 3, 1, 1, 2, 1, 0, 0, 2, 1, 0, 1, 0, 0, 1, 1, 0, 1, 2, 1, 1, 1, 1, 1, 1, 1, 2, 2, 1, 0, 1, 1, 1, 0, 1, 0, 0, 0, 0, 1, 2, 2, 0, 1, 0, 1, 3, 0, 2, 0, 0, 2, 2, 0, 1, 0, 3, 0, 2, 0, 0, 1, 0, 0, 0, 0, 2, 0, 0, 0, 0, 0, 1, 2, 0, 1, 0, 1, 0, 0, 0, 2, 0, 0, 0, 1, 2, 0, 0, 0, 0, 1, 0, 1, 1, 0, 1, 0, 1, 0, 1, 0, 2, 0, 0, 1, 0, 1, 2, 1, 2, 1, 0, 0, 1, 1, 0, 1, 0, 1, 0, 0, 0, 1, 1, 0, 1, 0, 0, 1, 1, 1, 0, 1, 1, 2, 1, 0, 1, 1, 3, 1, 0, 1, 1, 0, 1, 1, 0, 0, 1, 1, 0, 2, 2, 0, 0, 1, 2, 0, 0, 1, 2, 0, 0, 0, 1, 1, 2, 1, 0, 1, 1, 1, 1, 0, 0, 0, 0, 0, 1, 0, 0, 1, 0, 1, 0, 0, 2, 1, 0, 1, 1, 1, 1, 2, 1, 0, 1, 1, 1, 1, 0, 1, 1, 1, 0, 1, 0, 1, 1, 1, 1, 0, 1, 1, 0, 1, 0, 0, 0, 1, 2, 0, 0, 1, 0, 0, 2, 1, 0, 0, 0, 0, 0, 0, 0, 1, 0, 2, 0, 1, 1, 1, 1, 1, 1, 0, 1, 1, 0, 1, 0, 2, 1, 1, 0, 0, 0, 0, 1, 2, 1, 1, 0, 0, 3, 1, 0, 3, 0, 2, 0, 0, 1, 2, 0, 0, 3, 0, 0, 0, 2, 2, 0, 1, 0, 0, 1, 0, 1, 0, 0, 1, 0, 0, 1, 2, 1, 0, 2, 0, 1, 0, 2, 1, 0, 1, 0, 1, 1, 0, 1, 0, 0, 1, 1, 3, 2, 0, 0, 1, 1, 1, 0, 2, 1, 0, 1, 1, 2, 0, 1, 0, 0, 1, 0, 0, 1, 0, 2, 0, 1, 1, 0, 1, 0, 0, 3, 1, 1, 0, 1, 0, 2, 1, 1, 1, 1, 1, 1, 1, 0, 0, 0, 1, 1, 1, 0, 1, 0, 0, 1, 1, 0, 0, 1, 0, 0, 0, 1, 1, 1, 1, 3, 0, 1, 0, 0, 3, 0, 0, 0, 3, 1, 3, 0, 1, 1, 0, 1, 0, 1, 0, 1, 0, 0, 2, 0, 1, 1, 2, 0, 0, 0, 1, 0, 1, 1, 0, 1, 0, 1, 2, 1, 0, 1, 0, 0, 1, 1, 1, 1, 0, 1, 1, 1, 0, 1, 1, 1, 0, 1, 1, 1, 0, 1, 1, 0, 0, 0, 3, 1, 2, 1, 1, 1, 0, 0, 2, 0, 0, 0, 0, 1, 0, 2, 2, 1, 0, 0, 0, 1, 0, 2, 0, 0, 1, 0, 1, 0, 1, 0, 2, 1, 3, 0, 1, 3, 0, 1, 1, 1, 1, 1, 0, 0, 2, 0, 1, 1, 0, 0, 2, 2, 0, 3, 1, 0, 0, 1, 0, 0, 1, 0, 2, 2, 0, 1, 0, 0, 0, 0, 0, 0, 0, 1, 0, 1, 0, 0, 0, 0, 0, 0, 0, 1, 0, 0, 3, 2, 1, 2, 3, 1, 0, 2, 1, 0, 0, 0, 0, 2, 2, 1, 0, 1]\n"
       ]
      }
     ],
     "prompt_number": 6
    },
    {
     "cell_type": "code",
     "collapsed": false,
     "input": [
      "## Pattern Count:\n",
      "## Count the number of times that a k-mer Pattern appears as a substring of text\n",
      "## Input: Strings text and pattern\n",
      "## Output: Count(text, pattern)pattern_count\n",
      "\n",
      "def pattern_count(text, pattern):\n",
      "    count = 0\n",
      "    k = len(pattern)\n",
      "    for i in range(len(text) - k+1):\n",
      "        if text[i : k+i] == pattern:\n",
      "            count = count + 1      \n",
      "    return count\n",
      "\n",
      "string = \"\".join(open(\"./data/pattern_count.txt\")).split()\n",
      "print pattern_count(string[1], string[0])"
     ],
     "language": "python",
     "metadata": {},
     "outputs": [
      {
       "output_type": "stream",
       "stream": "stdout",
       "text": [
        "32\n"
       ]
      }
     ],
     "prompt_number": 7
    },
    {
     "cell_type": "code",
     "collapsed": false,
     "input": [
      "## Frequent Words Problem:\n",
      "## Find the most frequent k-mers in a string\n",
      "## Input: A string Text and an integer k\n",
      "## Output: All most frequent k-mers in Text\n",
      "\n",
      "def frequent_words_problem(text, k, t=0):\n",
      "    frequent_patterns = {}\n",
      "    for i in range(len(text) - k):\n",
      "        pattern = text[i : k+i]\n",
      "        frequent_patterns[pattern] = pattern_count(text, pattern)\n",
      "    if t == 0:\n",
      "        return [key for key, value in frequent_patterns.iteritems() if value == max(frequent_patterns.values())]\n",
      "    else:\n",
      "        return [key for key, value in frequent_patterns.iteritems() if value >= t]\n",
      "\n",
      "string = \"\".join(open(\"./data/frequent_words_problem.txt\")).split()\n",
      "print frequent_words_problem(string[0], int(string[1]))"
     ],
     "language": "python",
     "metadata": {},
     "outputs": [
      {
       "output_type": "stream",
       "stream": "stdout",
       "text": [
        "['GAACGTATAGC', 'ACGTATAGCAA', 'AACGTATAGCA']\n"
       ]
      }
     ],
     "prompt_number": 8
    },
    {
     "cell_type": "code",
     "collapsed": false,
     "input": [
      "def faster_frequent_words(text, k):\n",
      "    num = 4**k\n",
      "    frequent_patterns = []\n",
      "    frequency_array = computing_frequencies(text, k)\n",
      "    max_count = max(frequency_array)\n",
      "    for i in range(num):\n",
      "        if frequency_array[i] == max_count:\n",
      "            pattern = number_to_pattern(i, k)\n",
      "            frequent_patterns.append(pattern)\n",
      "    return frequent_patterns\n",
      "    \n",
      "string = \"\".join(open(\"./data/frequent_words_problem.txt\")).split()\n",
      "print faster_frequent_words(string[0], int(string[1]))"
     ],
     "language": "python",
     "metadata": {},
     "outputs": [
      {
       "output_type": "stream",
       "stream": "stdout",
       "text": [
        "['AACGTATAGCA', 'ACGTATAGCAA', 'GAACGTATAGC']\n"
       ]
      }
     ],
     "prompt_number": 9
    },
    {
     "cell_type": "code",
     "collapsed": false,
     "input": [
      "def frequent_words_by_sorting(text, k, t=0):\n",
      "    index = []\n",
      "    count = []\n",
      "    frequent_patterns = []\n",
      "    for i in range(len(text) - k):\n",
      "        pattern = text[i : k+i]\n",
      "        index.append(pattern_to_number(pattern))\n",
      "        count.append(1)\n",
      "    index.sort()\n",
      "    for i in range(len(text) - k):\n",
      "        if index[i] == index[i-1]:\n",
      "            count[i] = count[i-1] + 1\n",
      "    max_count = max(count)\n",
      "    for i in range(len(text) - k):\n",
      "        if t == 0:\n",
      "            if count[i] == max_count:\n",
      "                pattern = number_to_pattern(index[i], k)\n",
      "                frequent_patterns.append(pattern)\n",
      "        else:\n",
      "            if count[i] >= t:\n",
      "                pattern = number_to_pattern(index[i], k)\n",
      "                frequent_patterns.append(pattern)\n",
      "                \n",
      "    return frequent_patterns\n",
      "\n",
      "string = \"\".join(open(\"./data/frequent_words_problem.txt\")).split()\n",
      "print frequent_words_by_sorting(string[0], int(string[1]))"
     ],
     "language": "python",
     "metadata": {},
     "outputs": [
      {
       "output_type": "stream",
       "stream": "stdout",
       "text": [
        "['AACGTATAGCA', 'ACGTATAGCAA', 'GAACGTATAGC']\n"
       ]
      }
     ],
     "prompt_number": 10
    },
    {
     "cell_type": "code",
     "collapsed": false,
     "input": [
      "## Reverse Complement Problem:\n",
      "## Find the reverse complement of a DNA string\n",
      "## Input: A DNA string Pattern\n",
      "## Output: Pattern, the reverse complement of Pattern\n",
      "                \n",
      "def reverse_complement_problem(string):    \n",
      "    dictionary = {\"A\":\"T\", \"T\":\"A\", \"C\":\"G\", \"G\":\"C\"}\n",
      "    output = [dictionary[x] for x in string[::-1]]\n",
      "    return \"\".join(output)\n",
      "    \n",
      "string = \"\".join(open(\"./data/reverse_complement_problem.txt\")).split()\n",
      "print reverse_complement_problem(string[0][:100])"
     ],
     "language": "python",
     "metadata": {},
     "outputs": [
      {
       "output_type": "stream",
       "stream": "stdout",
       "text": [
        "CCCTCATCGGCGATGATCGAAAACGAGAATGGATGGTAGAGCGATAGCAGGATGATCCGGGCGTAAATCACGGATAGTTAGTCTGGCTATAGGAGGCCGA\n"
       ]
      }
     ],
     "prompt_number": 11
    },
    {
     "cell_type": "code",
     "collapsed": false,
     "input": [
      "## Pattern Matching Problem: \n",
      "## Find all occurrences of a pattern in a string\n",
      "## Input: Strings Pattern and Genome\n",
      "## Output: All starting positions in Genome where Pattern appears as a substring\n",
      "\n",
      "def pattern_matching_problem(pattern, genome):    \n",
      "    position = []\n",
      "    k = len(pattern)        \n",
      "    for i in range(len(genome)):\n",
      "        if pattern == genome[i:i+k]:\n",
      "            position.append(str(i))            \n",
      "    return position\n",
      "    \n",
      "string = \"\".join(open(\"./data/pattern_matching_problem.txt\")).split()\n",
      "print pattern_matching_problem(string[0], string[1])"
     ],
     "language": "python",
     "metadata": {},
     "outputs": [
      {
       "output_type": "stream",
       "stream": "stdout",
       "text": [
        "['71', '94', '188', '194', '302', '317', '339', '345', '386', '454', '502', '508', '543', '575', '634', '641', '647', '676', '707', '745', '812', '897', '952', '958', '964', '1112', '1150', '1175', '1190', '1205', '1219', '1226', '1260', '1268', '1274', '1305', '1327', '1395', '1401', '1407', '1420', '1456', '1480', '1540', '1566', '1605', '1655', '1717', '1723', '1735', '1779', '1792', '1841', '1891', '1932', '1939', '1996', '2002', '2016', '2041', '2055', '2081', '2087', '2094', '2148', '2168', '2182', '2309', '2355', '2361', '2367', '2383', '2405', '2433', '2459', '2502', '2570', '2577', '2649', '2655', '2662', '2683', '2750', '2756', '2782', '2885', '2891', '2929', '2951', '2969', '2982', '3034', '3056', '3062', '3080', '3086', '3133', '3140', '3162', '3187', '3203', '3228', '3279', '3295', '3301', '3320', '3326', '3332', '3367', '3374', '3387', '3419', '3447', '3481', '3496', '3523', '3551', '3567', '3593', '3607', '3631', '3637', '3669', '3683', '3689', '3719', '3793', '3799', '3817', '3848', '3958', '4092', '4098', '4104', '4125', '4204', '4248', '4254', '4271', '4311', '4350', '4379', '4412', '4440', '4462', '4523', '4563', '4570', '4626', '4632', '4645', '4651', '4666', '4672', '4679', '4685', '4691', '4735', '4764', '4819', '4826', '4882', '4914', '4990', '4996', '5002', '5034', '5040', '5070', '5121', '5127', '5133', '5144', '5154', '5169', '5176', '5213', '5246', '5295', '5309', '5316', '5364', '5514', '5521', '5541', '5554', '5581', '5604', '5610', '5616', '5630', '5647', '5662', '5669', '5686', '5716', '5731', '5762', '5776', '5782', '5809', '5862', '5878', '5891', '5904', '5930', '5936', '5976', '5983', '5989', '6002', '6008', '6032', '6038', '6044', '6050', '6071', '6084', '6090', '6103', '6109', '6115', '6156', '6172', '6196', '6202', '6208', '6262', '6277', '6353', '6359', '6366', '6372', '6378', '6419', '6438', '6444', '6538', '6544', '6564', '6592', '6601', '6607', '6613', '6658', '6664', '6753', '6759', '6804', '6834', '6899', '6905', '6911', '6930', '6952', '7037', '7045', '7051', '7057', '7090', '7096', '7104', '7110', '7116', '7124', '7140', '7155', '7177', '7190', '7196', '7250', '7257', '7271', '7278', '7343', '7426', '7514', '7541', '7547', '7571', '7577', '7634', '7640', '7662', '7668', '7687', '7718', '7762', '7860', '7874', '7906', '8000', '8006', '8127', '8167', '8181', '8215', '8227', '8261', '8284', '8290', '8301', '8319', '8325', '8366', '8379', '8400', '8411', '8522', '8538', '8578', '8612', '8638', '8644', '8650', '8667', '8677', '8683', '8711', '8724', '8744', '8757', '8772', '8814', '8829', '8872', '8878', '8902', '8917', '8938', '8944']\n"
       ]
      }
     ],
     "prompt_number": 12
    },
    {
     "cell_type": "code",
     "collapsed": false,
     "input": [
      "## Pattern Matching Problem to the Vibrio cholerae genome\n",
      "\n",
      "pattern = \"ATGATCAAG\"\n",
      "genome = urllib2.urlopen(\"https://stepic.org/media/attachments/lessons/3/Vibrio_cholerae.txt\").read()\n",
      "print pattern_matching_problem(pattern, genome)"
     ],
     "language": "python",
     "metadata": {},
     "outputs": [
      {
       "output_type": "stream",
       "stream": "stdout",
       "text": [
        "['116556', '149355', '151913', '152013', '152394', '186189', '194276', '200076', '224527', '307692', '479770', '610980', '653338', '679985', '768828', '878903', '985368']\n"
       ]
      }
     ],
     "prompt_number": 13
    },
    {
     "cell_type": "code",
     "collapsed": false,
     "input": [
      "## Pattern Matching Problem to the Vibrio cholerae genome\n",
      "\n",
      "pattern = \"CTTGATCAT\" \n",
      "print pattern_matching_problem(pattern, genome)"
     ],
     "language": "python",
     "metadata": {},
     "outputs": [
      {
       "output_type": "stream",
       "stream": "stdout",
       "text": [
        "['60039', '98409', '129189', '152283', '152354', '152411', '163207', '197028', '200160', '357976', '376771', '392723', '532935', '600085', '622755', '1065555']\n"
       ]
      }
     ],
     "prompt_number": 14
    },
    {
     "cell_type": "code",
     "collapsed": false,
     "input": [
      "## Frequent Words Problem to the Thermotoga petrophila genome\n",
      "\n",
      "genome = urllib2.urlopen(\"https://stepic.org/media/attachments/lessons/4/Thermotoga-petrophila.txt\").read()\n",
      "print frequent_words_problem(genome[:1000], 9)"
     ],
     "language": "python",
     "metadata": {},
     "outputs": [
      {
       "output_type": "stream",
       "stream": "stdout",
       "text": [
        "['TTGAAATCT', 'TTTGAAATC', 'CTATGAGAA', 'GAATTTCTC', 'TCGTTTCCT']\n"
       ]
      }
     ],
     "prompt_number": 15
    },
    {
     "cell_type": "code",
     "collapsed": false,
     "input": [
      "print faster_frequent_words(genome, 9)"
     ],
     "language": "python",
     "metadata": {},
     "outputs": [
      {
       "output_type": "stream",
       "stream": "stdout",
       "text": [
        "['TTTTTCTTT']\n"
       ]
      }
     ],
     "prompt_number": 16
    },
    {
     "cell_type": "code",
     "collapsed": false,
     "input": [
      "print frequent_words_by_sorting(genome, 9)"
     ],
     "language": "python",
     "metadata": {},
     "outputs": [
      {
       "output_type": "stream",
       "stream": "stdout",
       "text": [
        "['TTTTTCTTT']\n"
       ]
      }
     ],
     "prompt_number": 17
    },
    {
     "cell_type": "code",
     "collapsed": false,
     "input": [
      "## Clump Finding Problem: \n",
      "## Find patterns forming clumps in a string\n",
      "## Input: A string Genome, and integers k, L, and t\n",
      "## Output: All distinct k-mers forming (L, t)-clumps in Genome\n",
      "\n",
      "def clump_finding_problem(string, k, L, t):\n",
      "    words = []    \n",
      "    for i in range(len(string) - L+1):\n",
      "        clump = string[i: L+i]\n",
      "        words.append(frequent_words_by_sorting(clump, k, t))\n",
      "    return list(set(list(itertools.chain(*words))))\n",
      "\n",
      "## string = \"CGGACTCGACAGATGTGAAGAACGACAATGTGAAGACTCGACACGACAGAGTGAAGAGAAGAGGAAACATTGTAA\"\n",
      "## print clump_finding_problem(string, k=5, L=50, t=4)\n",
      "\n",
      "string = \"\".join(open(\"./data/clump_finding_problem.txt\")).split()\n",
      "print clump_finding_problem(string[0], int(string[1]), int(string[2]), int(string[3]))"
     ],
     "language": "python",
     "metadata": {},
     "outputs": [
      {
       "output_type": "stream",
       "stream": "stdout",
       "text": [
        "['CATGACACCG', 'GCTAGGTCTC', 'CATTTAGCAC', 'GCAACTCTTT', 'CGACTTTATA', 'TATTACCGCT', 'TAGAATTTTA', 'AGGTAGCGCC']\n"
       ]
      }
     ],
     "prompt_number": 18
    },
    {
     "cell_type": "code",
     "collapsed": false,
     "input": [
      "def clump_finding_problem(genome, k, L, t):\n",
      "    num = 4**k\n",
      "    clump = [0]*num\n",
      "    frequent_patterns = []\n",
      "    for i in range(len(genome) - L+1):  \n",
      "        text = genome[i: L+i]\n",
      "        frequency_array = computing_frequencies(text, k)\n",
      "        for j in range(num):\n",
      "            if frequency_array[j] >= t:\n",
      "                clump[j] = 1\n",
      "    for i in range(num):\n",
      "        if clump[i] == 1:\n",
      "            pattern = number_to_pattern(i, k)\n",
      "            frequent_patterns.append(pattern)\n",
      "    return frequent_patterns\n",
      "\n",
      "string = \"CGGACTCGACAGATGTGAAGAACGACAATGTGAAGACTCGACACGACAGAGTGAAGAGAAGAGGAAACATTGTAA\"\n",
      "print clump_finding_problem(string, k=5, L=50, t=4)\n",
      "\n",
      "## string = \"\".join(open(\"./data/clump_finding_problem.txt\")).split()\n",
      "## clump_finding_problem(string[0], int(string[1]), int(string[2]), int(string[3]))"
     ],
     "language": "python",
     "metadata": {},
     "outputs": [
      {
       "output_type": "stream",
       "stream": "stdout",
       "text": [
        "['CGACA', 'GAAGA']\n"
       ]
      }
     ],
     "prompt_number": 19
    },
    {
     "cell_type": "code",
     "collapsed": false,
     "input": [
      "def better_clump_finding(genome, k, L, t):\n",
      "    num = 4**k\n",
      "    clump = [0]*num\n",
      "    frequent_patterns = []\n",
      "    text = genome[0:L]\n",
      "    frequency_array = computing_frequencies(text, k)\n",
      "    for i in range(num):\n",
      "        if frequency_array[i] >= t:\n",
      "            clump[i] = 1\n",
      "    for i in range(len(genome) - L+1):\n",
      "        first_pattern = genome[i : i+k]\n",
      "        j = pattern_to_number(first_pattern)\n",
      "        frequency_array[j] = frequency_array[j] - 1\n",
      "        last_pattern = genome[i+L-k : i+L]\n",
      "        j = pattern_to_number(last_pattern)\n",
      "        frequency_array[j] = frequency_array[j] + 1\n",
      "        if frequency_array[j] >= t:\n",
      "            clump[j] = 1\n",
      "    for i in range(num):\n",
      "        if clump[i] == 1:\n",
      "            pattern = number_to_pattern(i, k)\n",
      "            frequent_patterns.append(pattern)\n",
      "    return frequent_patterns    \n",
      "\n",
      "## string = \"CGGACTCGACAGATGTGAAGAACGACAATGTGAAGACTCGACACGACAGAGTGAAGAGAAGAGGAAACATTGTAA\"\n",
      "## print better_clump_finding(string, k=5, L=50, t=4)\n",
      "\n",
      "string = \"\".join(open(\"./data/clump_finding_problem.txt\")).split()\n",
      "print better_clump_finding(string[0], int(string[1]), int(string[2]), int(string[3]))"
     ],
     "language": "python",
     "metadata": {},
     "outputs": [
      {
       "output_type": "stream",
       "stream": "stdout",
       "text": [
        "['AGGTAGCGCC', 'CATGACACCG', 'CATTTAGCAC', 'CGACTTTATA', 'GCAACTCTTT', 'GCTAGGTCTC', 'TAGAATTTTA', 'TATTACCGCT']\n"
       ]
      }
     ],
     "prompt_number": 20
    },
    {
     "cell_type": "code",
     "collapsed": false,
     "input": [
      "## How many different 9-mers form (500,3)-clumps in the E. coli genome\n",
      "\n",
      "genome = urllib2.urlopen(\"https://stepic.org/media/attachments/lessons/4/E-coli.txt\").read()\n",
      "print better_clump_finding(genome, 9, 500, 3)"
     ],
     "language": "python",
     "metadata": {},
     "outputs": [
      {
       "output_type": "stream",
       "stream": "stdout",
       "text": [
        "['AAAAAAAAG', 'AAAAAAAGC', 'AAAAAAGCC', 'AAAAACCCG', 'AAAAAGCAG', 'AAAAAGCCC', 'AAAAAGCCG', 'AAAAATGAT', 'AAAAATTGA', 'AAAACCCGC', 'AAAAGCCCG', 'AAAAGCGGC', 'AAAAGTTGC', 'AAAATATTT', 'AAAATCGCA', 'AAACCCGCC', 'AAACGCCTT', 'AAACTGACC', 'AAACTGGCA', 'AAAGAAGCT', 'AAAGCAGAA', 'AAAGCCCGT', 'AAAGCCGCC', 'AAAGCGCGC', 'AAAGCGGCA', 'AAAGCGGCT', 'AAAGCGGTT', 'AAAGTGATG', 'AAAGTTGCC', 'AAATAATCT', 'AAATATGGC', 'AAATCCGGC', 'AAATCGCAG', 'AAATGATGA', 'AAATGGCGA', 'AAATGGCGC', 'AAATGGCGG', 'AACAACCGG', 'AACACCTGA', 'AACAGCAAC', 'AACAGCACG', 'AACAGGCTA', 'AACAGGTCG', 'AACCAGCAG', 'AACCCCCAC', 'AACCCGAAG', 'AACCCGCCG', 'AACCGATGC', 'AACCGGTTG', 'AACCGTAGG', 'AACCTCCGA', 'AACGCCTGA', 'AACGCCTTA', 'AACGCGTCT', 'AACGCTCTC', 'AACGGCTGT', 'AACTGACCG', 'AACTGGCTG', 'AACTGTAGG', 'AAGAAAGCG', 'AAGAACAGC', 'AAGAACAGG', 'AAGACGCAC', 'AAGACGCAT', 'AAGACGCGC', 'AAGACGCGT', 'AAGAGATGG', 'AAGATGCGC', 'AAGCAGAAG', 'AAGCCCGTA', 'AAGCCGCCG', 'AAGCCGCTA', 'AAGCCGCTT', 'AAGCGCGCA', 'AAGCGGCAG', 'AAGCGGCTG', 'AAGCGGGTT', 'AAGCGGTTG', 'AAGCGTAGC', 'AAGCGTCGC', 'AAGCTAGCG', 'AAGCTGGAA', 'AAGCTTCTC', 'AAGGAGGGG', 'AAGGATTAC', 'AAGGCACTT', 'AAGGCGGTT', 'AAGGCGTTC', 'AAGGCGTTT', 'AAGGTCGGG', 'AAGGTCGTC', 'AAGTGATGG', 'AAGTGCTCC', 'AAGTTGAAG', 'AAGTTGCCG', 'AATAATCTA', 'AATAGCCTG', 'AATAGCTCA', 'AATATCAGC', 'AATATGGCG', 'AATATTGGT', 'AATCAATGC', 'AATCAATTG', 'AATCCGGCC', 'AATCCTGCA', 'AATCGCAGC', 'AATCTGGCA', 'AATCTGTAG', 'AATGATGAA', 'AATGCCAGC', 'AATGCCTGA', 'AATGGCGCT', 'AATTCCGCC', 'AATTGGTCG', 'AATTTGTAG', 'ACAAAATCG', 'ACAAACGCA', 'ACAACCGAT', 'ACAACCGGT', 'ACAAGGAGG', 'ACAATGCCT', 'ACACCGCTG', 'ACACCTGAA', 'ACACTAACA', 'ACAGCAACA', 'ACAGCGCAA', 'ACAGCGTCG', 'ACAGGCTAA', 'ACAGGTCGA', 'ACAGTCATT', 'ACATCAACG', 'ACATCCAAC', 'ACATCTAAC', 'ACATTATTG', 'ACCAATTCC', 'ACCCACCAA', 'ACCCACCAC', 'ACCCCCACG', 'ACCCCGTAG', 'ACCCGAAGG', 'ACCCGCCGA', 'ACCGATAAG', 'ACCGATGCC', 'ACCGCTACT', 'ACCGCTCGG', 'ACCGCTGTG', 'ACCGCTTGG', 'ACCGGTTGC', 'ACCGTAGGC', 'ACCGTGCTG', 'ACCGTTGCC', 'ACCTACGGT', 'ACCTCCCTT', 'ACCTCCGAC', 'ACCTGAAGC', 'ACCTGTAGG', 'ACCTTGCCA', 'ACGAAAAAA', 'ACGACCCAC', 'ACGACCTTG', 'ACGACGCGG', 'ACGACGTTC', 'ACGACTGCC', 'ACGAGCTCT', 'ACGATATTA', 'ACGCACAGC', 'ACGCATAGC', 'ACGCATTAC', 'ACGCCAGAC', 'ACGCCGCAT', 'ACGCCTGAT', 'ACGCCTTAT', 'ACGCGACTT', 'ACGCGCAAG', 'ACGCGGGGT', 'ACGCGTCGC', 'ACGCGTCTT', 'ACGCGTTAG', 'ACGCTCTCT', 'ACGCTCTTT', 'ACGCTGGCG', 'ACGCTGTCG', 'ACGCTTAAC', 'ACGGAGGGT', 'ACGGATGCA', 'ACGGATGGC', 'ACGGCTGCC', 'ACGGTCTGT', 'ACGGTGCTA', 'ACGGTTATG', 'ACGTCCGTA', 'ACTAAAGCC', 'ACTAACACC', 'ACTATGGCA', 'ACTCAGCGC', 'ACTCGCTTC', 'ACTCTATCC', 'ACTGAACTG', 'ACTGACCGA', 'ACTGCCGGA', 'ACTGCGTTC', 'ACTGGAGTT', 'ACTGGCTGT', 'ACTGTAGGC', 'ACTGTAGGT', 'ACTTATCAG', 'ACTTGAACC', 'ACTTGTGCC', 'ACTTTCGTA', 'ACTTTTAAT', 'AGAAAAAGC', 'AGAAAGCGG', 'AGAACAGGT', 'AGAAGAACA', 'AGAATATTT', 'AGAATCTGT', 'AGACAGCGC', 'AGACGCACA', 'AGACGCATA', 'AGACGCATT', 'AGACGCGCA', 'AGACGCGTT', 'AGAGATGGT', 'AGAGCACCT', 'AGAGCACGA', 'AGAGCAGTT', 'AGATGCGCA', 'AGATGGGAG', 'AGATGGTGC', 'AGCAACAGG', 'AGCACCTCC', 'AGCACGACC', 'AGCAGAAGC', 'AGCAGCCGC', 'AGCAGCCTG', 'AGCAGTTGA', 'AGCCCGCTC', 'AGCCCGTAC', 'AGCCGAGTA', 'AGCCGCAAC', 'AGCCGCCGT', 'AGCCGCTAT', 'AGCCGCTTT', 'AGCCGGTTG', 'AGCCTGATT', 'AGCCTGGTA', 'AGCGCAATA', 'AGCGCACCA', 'AGCGCATCA', 'AGCGCCTTA', 'AGCGCGCAA', 'AGCGCGTCT', 'AGCGCTGCG', 'AGCGGCTGC', 'AGCGGGTTT', 'AGCGGTTGA', 'AGCGTAGCG', 'AGCGTCGCA', 'AGCGTGATT', 'AGCTACGGA', 'AGCTAGCGC', 'AGCTCAGCT', 'AGCTCAGTT', 'AGCTCCGGC', 'AGCTCGTCG', 'AGCTCTTCT', 'AGCTGAGCT', 'AGCTGCAGC', 'AGCTGGAAC', 'AGCTGGATG', 'AGCTGGGAG', 'AGCTTCTCA', 'AGGAGGGGG', 'AGGAGTTAA', 'AGGATTACT', 'AGGATTCGA', 'AGGCAACGG', 'AGGCACTTG', 'AGGCAGTCG', 'AGGCATCTG', 'AGGCATTTG', 'AGGCCGGAT', 'AGGCCTACA', 'AGGCCTACG', 'AGGCCTGAT', 'AGGCGGTTA', 'AGGCGTTCA', 'AGGCGTTTA', 'AGGCTAATG', 'AGGGGGGGA', 'AGGGGGGGG', 'AGGGGGTCG', 'AGGGTGCGG', 'AGGTCGATC', 'AGGTCGGAT', 'AGGTCGGGG', 'AGGTCGTCG', 'AGGTGAAAC', 'AGGTGGGTC', 'AGGTTCGAA', 'AGGTTTTCC', 'AGTACTCTA', 'AGTCATCCT', 'AGTCATTCA', 'AGTCGGCAC', 'AGTCTCGTT', 'AGTGATGGT', 'AGTGCTCCA', 'AGTTAAATA', 'AGTTCGAGT', 'AGTTGACTT', 'AGTTGCCGT', 'AGTTGGCGC', 'AGTTGGTAG', 'AGTTGTCGA', 'AGTTTGGCA', 'ATAAAATAT', 'ATAACCCGA', 'ATAAGACGC', 'ATAAGATGC', 'ATAAGCCGC', 'ATAAGCGTA', 'ATAAGGCAC', 'ATAAGGCGG', 'ATAAGGCGT', 'ATAATCTAC', 'ATACAGCGA', 'ATACCCCAA', 'ATACCGCTA', 'ATAGCCTGA', 'ATAGCGTCG', 'ATAGCTCAG', 'ATATCAGCA', 'ATATGGATT', 'ATATGGCGG', 'ATATTAATA', 'ATATTGGTG', 'ATATTTTTT', 'ATCAACGCC', 'ATCAATGCC', 'ATCAATTGG', 'ATCACCCAC', 'ATCAGCACC', 'ATCAGCAGC', 'ATCAGGCAA', 'ATCAGGCAG', 'ATCAGGCAT', 'ATCAGGCCT', 'ATCAGGCGT', 'ATCATGCCT', 'ATCCAGCGT', 'ATCCAGCTG', 'ATCCCCCCG', 'ATCCCCGCT', 'ATCCCGTCA', 'ATCCGACAA', 'ATCCGACAT', 'ATCCGACCT', 'ATCCGCCCT', 'ATCCGCGCA', 'ATCCGGCAA', 'ATCCGGCAG', 'ATCCGGCCC', 'ATCCGGCCT', 'ATCCGGGAG', 'ATCCTGCAC', 'ATCCTTCCC', 'ATCGCAGCG', 'ATCGCATCC', 'ATCGGCATC', 'ATCGGGAAA', 'ATCGTTTGA', 'ATCTAACGC', 'ATCTATTCA', 'ATCTGCGCA', 'ATCTGTAGG', 'ATCTTCTTC', 'ATCTTTCTG', 'ATGAAATGA', 'ATGAAATTT', 'ATGAAGCAA', 'ATGATGAAA', 'ATGCATCGG', 'ATGCCGCAT', 'ATGCCTACA', 'ATGCCTGAT', 'ATGCGACGC', 'ATGCGCAAG', 'ATGCGCCGC', 'ATGCGCTTT', 'ATGCGGCGC', 'ATGCGGCGT', 'ATGGCACTA', 'ATGGCGGTG', 'ATGGTGCAT', 'ATGGTGGTG', 'ATTACGCGT', 'ATTACTCAG', 'ATTAGCTCA', 'ATTATTGCG', 'ATTCATCTT', 'ATTCCGCCA', 'ATTCGAACC', 'ATTCTGGTG', 'ATTGACTCG', 'ATTGCGGAT', 'ATTGCGGCA', 'ATTGGTCGC', 'ATTTAGCGT', 'ATTTGTAGG', 'ATTTTGTAG', 'CAAAAGTTG', 'CAAAATCGC', 'CAAAGCCGC', 'CAAAGCGCG', 'CAAATCAAC', 'CAAATCCGG', 'CAACAACCG', 'CAACAGGCT', 'CAACCGATG', 'CAACCGGTT', 'CAACGCCTG', 'CAACGCTCT', 'CAACGGCTG', 'CAACGGTGG', 'CAACTGGCT', 'CAAGCGTCG', 'CAAGCTGGA', 'CAAGGAGGG', 'CAAGGTCGG', 'CAATAGCCT', 'CAATATCAG', 'CAATATTGG', 'CAATCAATG', 'CAATGCCTG', 'CAATTCCGC', 'CAATTGGTC', 'CACAATGCC', 'CACAGCGTC', 'CACCAGCGC', 'CACCCACCA', 'CACCCCGTA', 'CACCGCTGT', 'CACCGTTGC', 'CACCTCCCT', 'CACCTGAAG', 'CACCTTCGC', 'CACGACCCA', 'CACGACCTT', 'CACGACGTT', 'CACGACTGC', 'CACGCCGCA', 'CACGCTGCC', 'CACGGTCTG', 'CACGTCCGT', 'CACTAACAC', 'CACTATGGC', 'CACTGAACT', 'CACTGCGTT', 'CACTGGAGT', 'CACTGTAGG', 'CACTTGTGC', 'CAGAAAAAG', 'CAGAAGAAC', 'CAGAAGCAG', 'CAGAATATT', 'CAGACAGCG', 'CAGCAACAG', 'CAGCACGCC', 'CAGCAGCAA', 'CAGCAGCCG', 'CAGCAGGCC', 'CAGCCACAA', 'CAGCCCGCT', 'CAGCCGCAA', 'CAGCCTGGT', 'CAGCGCAAT', 'CAGCGCACC', 'CAGCGCTGC', 'CAGCGTCGC', 'CAGCTCCGG', 'CAGCTGAGC', 'CAGCTGGGA', 'CAGGAGTTA', 'CAGGCAACG', 'CAGGCAGTC', 'CAGGCATCT', 'CAGGCATTT', 'CAGGCCTAC', 'CAGGCTAAT', 'CAGGTCGAT', 'CAGGTGAAA', 'CAGGTTCGA', 'CAGTCATTC', 'CAGTCGGCA', 'CAGTTCCAG', 'CAGTTGACT', 'CAGTTGGCG', 'CAGTTGGTA', 'CAGTTGTCG', 'CATAACCCG', 'CATAGCGTC', 'CATCAACGC', 'CATCACCCA', 'CATCAGGCA', 'CATCAGGCG', 'CATCATCAT', 'CATCCAACG', 'CATCCCCCC', 'CATCCGACA', 'CATCCGGCA', 'CATCCGGGA', 'CATCCTGCA', 'CATCCTTCC', 'CATCGGGAA', 'CATCTAACG', 'CATCTGCGC', 'CATCTTTCT', 'CATGCCGAC', 'CATGCCTAC', 'CATTACGCG', 'CATTATTGC', 'CATTCATCT', 'CATTCTGAT', 'CCAAAGCGC', 'CCAACTGGC', 'CCAAGGTCG', 'CCAATTCCG', 'CCACCAGCA', 'CCACCCCGT', 'CCACCTCTT', 'CCACCTTCG', 'CCACGTCCG', 'CCAGAAGAA', 'CCAGACAGC', 'CCAGCAGCA', 'CCAGCAGGC', 'CCAGCTCTT', 'CCAGCTGAG', 'CCAGTTCCA', 'CCAGTTGTC', 'CCCACCAAT', 'CCCACCACT', 'CCCACGTCC', 'CCCCACGTC', 'CCCCCACGT', 'CCCCCCGGT', 'CCCCCGCAA', 'CCCCCGGTG', 'CCCCGCAAC', 'CCCCGCTGG', 'CCCCGGTCG', 'CCCCGGTGT', 'CCCCGTAGG', 'CCCCTCCAA', 'CCCGAAGGT', 'CCCGCAACC', 'CCCGCCGAA', 'CCCGCTCAC', 'CCCGCTCCA', 'CCCGCTGGC', 'CCCGGACGG', 'CCCGGTCGG', 'CCCGGTGTG', 'CCCGGTTTA', 'CCCGTACTT', 'CCCGTAGGT', 'CCCGTCATC', 'CCCTACATG', 'CCCTCCAAA', 'CCCTGCGGG', 'CCCTTACAA', 'CCCTTCGGG', 'CCGAACCGT', 'CCGAAGCGG', 'CCGAAGGTC', 'CCGACAACC', 'CCGACATCA', 'CCGACATCC', 'CCGACATTA', 'CCGACCGCT', 'CCGACCTAC', 'CCGACCTGT', 'CCGAGCCGG', 'CCGAGTACT', 'CCGATAAGC', 'CCGATGCCT', 'CCGCAACAA', 'CCGCAACCA', 'CCGCAGGCG', 'CCGCATCCG', 'CCGCCACCT', 'CCGCCCTAC', 'CCGCCGAAG', 'CCGCCGTCG', 'CCGCGCAAA', 'CCGCTACTA', 'CCGCTATTG', 'CCGCTCACT', 'CCGCTCCAA', 'CCGCTCGGT', 'CCGCTGACG', 'CCGCTGGCG', 'CCGCTGTGA', 'CCGCTGTTC', 'CCGCTTGGC', 'CCGCTTTCT', 'CCGGACGGT', 'CCGGATAAG', 'CCGGATGCG', 'CCGGCAATC', 'CCGGCAGTT', 'CCGGCCCCC', 'CCGGCCTAC', 'CCGGGAGGA', 'CCGGTCGGG', 'CCGGTGCCT', 'CCGGTGTGT', 'CCGGTTGCC', 'CCGGTTGCG', 'CCGGTTTAT', 'CCGTACTTT', 'CCGTAGGCC', 'CCGTAGGTC', 'CCGTCATCA', 'CCGTCGAAG', 'CCGTTGCCG', 'CCTACAAAA', 'CCTACAACT', 'CCTACACCG', 'CCTACATGT', 'CCTACGCCA', 'CCTACGGAG', 'CCTACGGAT', 'CCTACGGGG', 'CCTACGGTT', 'CCTCCAAAA', 'CCTCCCTTA', 'CCTCCGACC', 'CCTGAAGCT', 'CCTGATAAG', 'CCTGATGCG', 'CCTGATTTA', 'CCTGCACGA', 'CCTGCGGCA', 'CCTGCGGGC', 'CCTGGCGCT', 'CCTGGTAGC', 'CCTGTAGGC', 'CCTTACAAG', 'CCTTACCGC', 'CCTTATCCG', 'CCTTCCCCG', 'CCTTCGGGT', 'CCTTGCCAA', 'CGAAAAAAA', 'CGAACCGTA', 'CGAACCTCC', 'CGAAGCCGC', 'CGAAGCGGG', 'CGAAGCTTC', 'CGAAGGTCG', 'CGAAGTTGA', 'CGAATCCTG', 'CGACAACCG', 'CGACATCAA', 'CGACATCCA', 'CGACATTAT', 'CGACCCACC', 'CGACCGCTC', 'CGACCTACG', 'CGACCTGTA', 'CGACCTTGC', 'CGACGCGGC', 'CGACGCTGG', 'CGACGCTGT', 'CGACGCTTA', 'CGACGCTTG', 'CGACTGCCG', 'CGACTTATC', 'CGAGCCGGT', 'CGAGCGCCT', 'CGAGCTCTT', 'CGAGGGGGG', 'CGAGTACTC', 'CGAGTCATC', 'CGAGTCTCG', 'CGAGTTCGA', 'CGATAAGCC', 'CGATACCCC', 'CGATCCCGT', 'CGATCCGCG', 'CGATGCCTG', 'CGCAAAGCC', 'CGCAACAAC', 'CGCAACCAA', 'CGCAAGCGT', 'CGCAAGCTG', 'CGCAATAGC', 'CGCACAATG', 'CGCACAGCG', 'CGCACCAAA', 'CGCACGACT', 'CGCAGGTTC', 'CGCATAGCG', 'CGCATCAGG', 'CGCATCCGA', 'CGCATCCGG', 'CGCATTACG', 'CGCCACCTT', 'CGCCAGACA', 'CGCCAGCAG', 'CGCCAGTTG', 'CGCCCTACA', 'CGCCCTGCG', 'CGCCCTTCG', 'CGCCGAAGC', 'CGCCGCAGC', 'CGCCGCATC', 'CGCCGCGCC', 'CGCCGCTGA', 'CGCCGTCGA', 'CGCCTGATG', 'CGCCTTATC', 'CGCGACTTA', 'CGCGAGCGC', 'CGCGAGTTC', 'CGCGCAAAG', 'CGCGCAAGC', 'CGCGCTTCG', 'CGCGGGGAA', 'CGCGGGGTG', 'CGCGTCGCA', 'CGCGTCTAC', 'CGCGTCTGC', 'CGCGTCTTA', 'CGCGTTAGC', 'CGCTACGGC', 'CGCTACTAA', 'CGCTATTGC', 'CGCTCACTG', 'CGCTCCAAA', 'CGCTCGCCC', 'CGCTCGGCA', 'CGCTCGGTT', 'CGCTCTCTC', 'CGCTGAAAG', 'CGCTGACGC', 'CGCTGATTG', 'CGCTGCGCG', 'CGCTGGCGC', 'CGCTGGTGG', 'CGCTGTAAT', 'CGCTGTCGC', 'CGCTGTGAA', 'CGCTTAACG', 'CGCTTCACC', 'CGCTTCGCC', 'CGCTTCGCT', 'CGCTTGGCG', 'CGCTTTCTT', 'CGCTTTGCT', 'CGCTTTGTT', 'CGGACGGTG', 'CGGAGGGTG', 'CGGATAAGA', 'CGGATAAGG', 'CGGATACGG', 'CGGATGCAT', 'CGGATGCGC', 'CGGATGCGG', 'CGGATGGCG', 'CGGCAACGC', 'CGGCAATCA', 'CGGCACTGG', 'CGGCAGTTG', 'CGGCCCCCG', 'CGGCCTACA', 'CGGCCTACG', 'CGGCGCGAG', 'CGGCGCTGG', 'CGGCGGCGG', 'CGGCGGTTC', 'CGGCGTAAA', 'CGGCGTGAA', 'CGGCTGCCG', 'CGGGAATAG', 'CGGGAATTT', 'CGGGAGGAT', 'CGGGCAGCC', 'CGGGCTCAT', 'CGGGGAACA', 'CGGGGAACT', 'CGGGGCTTC', 'CGGGGTCGC', 'CGGGGTGGA', 'CGGGTCGTT', 'CGGGTTTTT', 'CGGTCGGGG', 'CGGTCTGTC', 'CGGTGAGGG', 'CGGTGCCTT', 'CGGTGCTAC', 'CGGTGTGTG', 'CGGTTACGC', 'CGGTTATGT', 'CGGTTCAAA', 'CGGTTCGAT', 'CGGTTCGTA', 'CGGTTGCCT', 'CGGTTGCGC', 'CGGTTTATC', 'CGTAAACGC', 'CGTACGAGC', 'CGTACTTTC', 'CGTAGCCGA', 'CGTAGCGCA', 'CGTAGGCCG', 'CGTCATCAC', 'CGTCCGTAA', 'CGTCGAAGC', 'CGTCGCATC', 'CGTCGGGCT', 'CGTCGGTTC', 'CGTCTACCA', 'CGTCTTATC', 'CGTGAACGC', 'CGTGATCGT', 'CGTGATTTT', 'CGTGCTTCT', 'CGTGGACAG', 'CGTTAGCGT', 'CGTTAGCTC', 'CGTTCACGC', 'CGTTCACGG', 'CGTTCTTTA', 'CGTTGCCGG', 'CGTTGCCTG', 'CGTTGCTGC', 'CGTTTATGC', 'CGTTTCCCG', 'CTAACACCT', 'CTAACGCCC', 'CTAATGCGG', 'CTACAAAAT', 'CTACACCGC', 'CTACATGTG', 'CTACCAATT', 'CTACCGCTA', 'CTACGCCAG', 'CTACGGAGG', 'CTACGGATG', 'CTACGGGGT', 'CTACGGTTA', 'CTACTAAAG', 'CTAGCGCGT', 'CTATCCAGC', 'CTATGGCAC', 'CTATTGCCC', 'CTCACTGCG', 'CTCAGCGCT', 'CTCAGCTGG', 'CTCAGTTGG', 'CTCATAACC', 'CTCATCCCC', 'CTCATCCTT', 'CTCCAAAAG', 'CTCCACCCC', 'CTCCCTTAC', 'CTCCGACCG', 'CTCGCCCTG', 'CTCGCTTCG', 'CTCGGTTCG', 'CTCGTCGGG', 'CTCGTTTCC', 'CTCTATCCA', 'CTCTCGCTG', 'CTCTCTCGC', 'CTCTTCTTT', 'CTGAAAGAA', 'CTGAACTGT', 'CTGAAGCTA', 'CTGACCGAT', 'CTGACGCGA', 'CTGAGCTAC', 'CTGATAAGA', 'CTGATAAGC', 'CTGATGCGA', 'CTGATGCGC', 'CTGATTTAG', 'CTGCACGAC', 'CTGCAGCTG', 'CTGCCAGCG', 'CTGCCCCTC', 'CTGCCGGAT', 'CTGCGCACG', 'CTGCGCCTG', 'CTGCGCGCT', 'CTGCGGCAA', 'CTGCGGGCA', 'CTGCGTTCA', 'CTGCTCCCT', 'CTGCTGAAA', 'CTGGAACAG', 'CTGGAGTTT', 'CTGGCAGTC', 'CTGGCAGTT', 'CTGGCGCAG', 'CTGGCGCGG', 'CTGGCGCGT', 'CTGGCGCTG', 'CTGGCGGAT', 'CTGGCGGCA', 'CTGGCGGCG', 'CTGGCTGGC', 'CTGGCTGTC', 'CTGGGAGAG', 'CTGGGGTAC', 'CTGGTAGCT', 'CTGTAGGCC', 'CTGTAGGTC', 'CTGTCCAAC', 'CTGTCGCCA', 'CTGTCGCGT', 'CTGTGAAGT', 'CTGTTCATA', 'CTTAACGCG', 'CTTACAAGG', 'CTTACCGCT', 'CTTATCAGG', 'CTTATCATG', 'CTTATCCGC', 'CTTATCCGG', 'CTTCCCCGC', 'CTTCGCCCT', 'CTTCGCTCG', 'CTTCGGGTC', 'CTTCTCATC', 'CTTCTTTAA', 'CTTGAACCC', 'CTTGCCAAG', 'CTTGGCGAT', 'CTTGTGCCG', 'CTTTAAATA', 'CTTTCGTAC', 'CTTTCTGCC', 'CTTTCTTTT', 'CTTTGCTTA', 'CTTTTAATC', 'CTTTTGAAA', 'CTTTTGGGT', 'GAAAAAAAA', 'GAAAAAGCC', 'GAAACTGAC', 'GAAAGAAGC', 'GAAAGCCAG', 'GAAAGCGGC', 'GAAAGTGAT', 'GAAATGATG', 'GAACAGCAA', 'GAACCCCCA', 'GAACCGTAG', 'GAACCTCCG', 'GAACGCCTT', 'GAACTGGAA', 'GAACTGTAG', 'GAAGAAAGC', 'GAAGAACAG', 'GAAGAGATC', 'GAAGCCGCT', 'GAAGCGGGT', 'GAAGCTAGC', 'GAAGCTTCT', 'GAAGGATTA', 'GAAGGTCGT', 'GAAGTGCTC', 'GAAGTTGAA', 'GAATAGCTC', 'GAATCCTGC', 'GAATCTGTA', 'GAATGCCGG', 'GAATTTGTA', 'GACAACCGA', 'GACAGCGCA', 'GACAGTCAT', 'GACATCAAC', 'GACATCCAA', 'GACATTATT', 'GACCCACCA', 'GACCGATAA', 'GACCGCTCG', 'GACCTACGG', 'GACCTGTAG', 'GACCTTGCC', 'GACCTTTCG', 'GACGCACAG', 'GACGCATAG', 'GACGCATTA', 'GACGCGACT', 'GACGCGCAA', 'GACGCGGGG', 'GACGCGTTA', 'GACGCTGGC', 'GACGCTGTC', 'GACGCTTAA', 'GACGGTGCT', 'GACTCGCTT', 'GACTGCCGG', 'GACTTATCA', 'GACTTGAAC', 'GACTTTTAA', 'GAGAGCACC', 'GAGATGGGA', 'GAGATGGTG', 'GAGCACCTC', 'GAGCACGAC', 'GAGCAGCCT', 'GAGCAGTTG', 'GAGCCGGTT', 'GAGCGCCTT', 'GAGCTACGG', 'GAGCTCTTC', 'GAGGATTCG', 'GAGGGGGGG', 'GAGGGGGTC', 'GAGGGTGCG', 'GAGTACTCT', 'GAGTCATCC', 'GAGTCTCGT', 'GAGTTAAAT', 'GAGTTCGAG', 'GAGTTTGGC', 'GATAAGACG', 'GATAAGATG', 'GATAAGCCG', 'GATAAGCGT', 'GATAAGGCA', 'GATAAGGCG', 'GATACCCCA', 'GATACCGCT', 'GATACGGGC', 'GATCAGCAC', 'GATCCCGTC', 'GATCCGCGC', 'GATCGGTTC', 'GATGAAATG', 'GATGCATCG', 'GATGCCTGA', 'GATGCGACG', 'GATGCGCAA', 'GATGCGCCG', 'GATGCGCTT', 'GATGCGGCG', 'GATGGTGCA', 'GATGGTGGT', 'GATTACTCA', 'GATTAGCTC', 'GATTCGAAC', 'GATTGACTC', 'GATTGCCGA', 'GATTTAGCG', 'GATTTTGTA', 'GCAAAGCCG', 'GCAACAACC', 'GCAACAGGC', 'GCAACCAAT', 'GCAACGCTC', 'GCAACGGCT', 'GCAAGCGTC', 'GCAAGCTGG', 'GCAATAGCC', 'GCAATCAAT', 'GCACAATGC', 'GCACAGCGT', 'GCACCGTTG', 'GCACCTCCC', 'GCACGACCC', 'GCACGACCT', 'GCACGACTG', 'GCACTATGG', 'GCACTGAAC', 'GCACTGGAG', 'GCACTTGTG', 'GCAGAAAAA', 'GCAGAAGCA', 'GCAGAATAT', 'GCAGAGAAG', 'GCAGCCACA', 'GCAGCCCGC', 'GCAGCCGCA', 'GCAGCCTGG', 'GCAGCTCCG', 'GCAGGAAGG', 'GCAGGTTCG', 'GCAGTCGGC', 'GCAGTTGAC', 'GCAGTTGGC', 'GCATAGCGT', 'GCATCAGGC', 'GCATCCGAC', 'GCATCCGGC', 'GCATCCGGG', 'GCATCGGGA', 'GCATCTGCG', 'GCATTACGC', 'GCCAAAGCG', 'GCCAAGGTC', 'GCCACCTTC', 'GCCAGACAG', 'GCCAGCAGC', 'GCCAGCAGG', 'GCCAGCCAC', 'GCCAGTTGT', 'GCCCCCGCA', 'GCCCCTCCA', 'GCCCGCTCA', 'GCCCGTACT', 'GCCCTACAT', 'GCCCTGCGG', 'GCCCTTCGG', 'GCCGAACCG', 'GCCGAAGCG', 'GCCGACCAG', 'GCCGACCTG', 'GCCGAGGAT', 'GCCGAGTAC', 'GCCGCAACA', 'GCCGCATCC', 'GCCGCCAGT', 'GCCGCCGCC', 'GCCGCCGTC', 'GCCGCTATT', 'GCCGCTGAC', 'GCCGCTTTC', 'GCCGGATAA', 'GCCGGATGC', 'GCCGGTATC', 'GCCGGTTGC', 'GCCGTCGAA', 'GCCTACAAA', 'GCCTACAAC', 'GCCTACACC', 'GCCTACGCC', 'GCCTACGGA', 'GCCTACGGG', 'GCCTGATAA', 'GCCTGATGC', 'GCCTGATTT', 'GCCTGCGCC', 'GCCTGCGGC', 'GCCTGGTAG', 'GCCTTACCG', 'GCCTTATCC', 'GCGAAAGTG', 'GCGACCAGC', 'GCGACGCTG', 'GCGACGCTT', 'GCGACTTAT', 'GCGAGCGCC', 'GCGAGGGGG', 'GCGAGTTCG', 'GCGATACCC', 'GCGCAAAGC', 'GCGCAAGCG', 'GCGCAATAG', 'GCGCACAAT', 'GCGCACGAC', 'GCGCATCAG', 'GCGCCAGTT', 'GCGCCGCTG', 'GCGCCTTAT', 'GCGCGAGCG', 'GCGCGCTTC', 'GCGCGGGGA', 'GCGCGTCTA', 'GCGCGTCTG', 'GCGCGTCTT', 'GCGCTACGG', 'GCGCTGCGC', 'GCGCTGCTC', 'GCGCTGGAA', 'GCGCTGGCG', 'GCGCTTCGC', 'GCGCTTTGC', 'GCGGACTGA', 'GCGGATGCG', 'GCGGATTCG', 'GCGGCAACG', 'GCGGCACTG', 'GCGGCGCGA', 'GCGGCGGCG', 'GCGGCGTAA', 'GCGGCGTGA', 'GCGGGAATA', 'GCGGGAATT', 'GCGGGCAGC', 'GCGGGGAAC', 'GCGGGGTGG', 'GCGGGTTTT', 'GCGGTGAGG', 'GCGGTTACG', 'GCGGTTCGA', 'GCGGTTTAT', 'GCGTAAACG', 'GCGTAGCGC', 'GCGTCGCAT', 'GCGTCTACC', 'GCGTCTTAT', 'GCGTGAACG', 'GCGTGATTT', 'GCGTTAGCG', 'GCGTTCACG', 'GCGTTTATG', 'GCTAATGCG', 'GCTACCGCT', 'GCTACGGAT', 'GCTACTAAA', 'GCTAGCGCG', 'GCTATAGCC', 'GCTATTGCC', 'GCTCACTGC', 'GCTCAGCTG', 'GCTCAGTTG', 'GCTCATAAC', 'GCTCCACCC', 'GCTCGCCCT', 'GCTCGGTTC', 'GCTCGTCGG', 'GCTCTCTCG', 'GCTCTTCTT', 'GCTGACGCC', 'GCTGACGCG', 'GCTGAGCTA', 'GCTGATTGC', 'GCTGCAGCT', 'GCTGCCGGA', 'GCTGCGCGC', 'GCTGCTGAA', 'GCTGCTGCT', 'GCTGCTGGC', 'GCTGGAACA', 'GCTGGCAGT', 'GCTGGCGAT', 'GCTGGCGCG', 'GCTGGCTGG', 'GCTGGGAGA', 'GCTGGGGTA', 'GCTGTCGCC', 'GCTGTCGCG', 'GCTGTGAAG', 'GCTTAACGC', 'GCTTATCCG', 'GCTTCGCCC', 'GCTTCGCTC', 'GCTTCTCAT', 'GCTTGGCGA', 'GCTTTCTTT', 'GCTTTGCTT', 'GCTTTGTTG', 'GGAACAGCA', 'GGAAGGATT', 'GGAATAGCT', 'GGAATGCCG', 'GGAATTTGT', 'GGACAGTCA', 'GGACGGTGC', 'GGACTTGAA', 'GGAGAGCAC', 'GGAGCAGCC', 'GGAGGATTC', 'GGAGGGGGT', 'GGAGGGTGC', 'GGAGTTAAA', 'GGAGTTAAG', 'GGAGTTTGG', 'GGATAAGAC', 'GGATAAGAT', 'GGATAAGGC', 'GGATACGGG', 'GGATGCATC', 'GGATGCGCT', 'GGATGCGGC', 'GGATTACTC', 'GGATTCGAA', 'GGATTGACT', 'GGCAACGCT', 'GGCAACGGC', 'GGCAATCAA', 'GGCACCGTT', 'GGCACTATG', 'GGCACTGGA', 'GGCACTTGT', 'GGCAGAATA', 'GGCAGCCCG', 'GGCAGGAAG', 'GGCAGTCGG', 'GGCAGTTGG', 'GGCATCTGC', 'GGCCCCCGC', 'GGCCGGATA', 'GGCCTACAA', 'GGCCTACAC', 'GGCCTACGA', 'GGCCTACGC', 'GGCCTACGG', 'GGCCTGATA', 'GGCGATACC', 'GGCGCACAA', 'GGCGCAGGC', 'GGCGCGAGC', 'GGCGCGGGG', 'GGCGCGTCT', 'GGCGCTGCT', 'GGCGCTGGA', 'GGCGCTGGC', 'GGCGGATGC', 'GGCGGTGAG', 'GGCGGTTAC', 'GGCGGTTCG', 'GGCGTAAAC', 'GGCGTGAAC', 'GGCGTTCAC', 'GGCGTTTAT', 'GGCTAATGC', 'GGCTCATAA', 'GGCTGCCGG', 'GGCTGGCGT', 'GGCTGGGGT', 'GGCTGTCGC', 'GGCTTCTCA', 'GGGAACTCG', 'GGGAACTCT', 'GGGAAGGAT', 'GGGAATAGC', 'GGGAATTTG', 'GGGACTTGA', 'GGGAGAGCA', 'GGGAGGATT', 'GGGATTGAC', 'GGGCAGAAT', 'GGGCAGCCC', 'GGGCTCATA', 'GGGCTTCTC', 'GGGGAACAC', 'GGGGAACTC', 'GGGGAAGGA', 'GGGGACTTG', 'GGGGATTGA', 'GGGGCAAAA', 'GGGGCTTCT', 'GGGGGAAGG', 'GGGGGACTT', 'GGGGGATTG', 'GGGGGGACT', 'GGGGGGATT', 'GGGGGGGAC', 'GGGGGGGAT', 'GGGGGGGGA', 'GGGGGTCGG', 'GGGGTCGCG', 'GGGGTCGGC', 'GGGGTGGAG', 'GGGTCAAAA', 'GGGTCGCGA', 'GGGTCGGCG', 'GGGTCGTTA', 'GGGTCGTTG', 'GGGTGATTA', 'GGGTGCGGG', 'GGGTGGAGC', 'GGGTTTTTA', 'GGTAAAGTG', 'GGTAGAGCA', 'GGTAGCTCG', 'GGTCAAAAG', 'GGTCGATCC', 'GGTCGCAGG', 'GGTCGCGAG', 'GGTCGGATA', 'GGTCGGCGG', 'GGTCGGGGC', 'GGTCGGGGT', 'GGTCGTCGG', 'GGTCGTTAG', 'GGTCGTTGC', 'GGTCTGTCC', 'GGTGAAACT', 'GGTGAGGGG', 'GGTGATGTT', 'GGTGATTAG', 'GGTGCACTG', 'GGTGCATCC', 'GGTGCCTTA', 'GGTGCGAGG', 'GGTGCGGGA', 'GGTGCTACC', 'GGTGGAGCA', 'GGTGGGGGA', 'GGTGGGTCA', 'GGTGGTGGG', 'GGTGTGTGC', 'GGTTAACAA', 'GGTTACGCC', 'GGTTATGTT', 'GGTTCAAAT', 'GGTTCGAAT', 'GGTTCGATC', 'GGTTCGTAG', 'GGTTGCCTG', 'GGTTGCGCC', 'GGTTTATCC', 'GGTTTTTAC', 'GTAAACGCC', 'GTACGAGCT', 'GTACTCTAT', 'GTACTTTCG', 'GTAGAGCAC', 'GTAGAGCAG', 'GTAGCCGAG', 'GTAGCGCAT', 'GTAGCTCGT', 'GTAGGCCGG', 'GTAGGCCTG', 'GTAGGTCGG', 'GTCAAAAGT', 'GTCACCATT', 'GTCATCACC', 'GTCATCCTG', 'GTCATTCAT', 'GTCCAACTG', 'GTCCGTAAG', 'GTCGAAGCC', 'GTCGAAGCT', 'GTCGATCCG', 'GTCGCAGGT', 'GTCGCATCA', 'GTCGCATCC', 'GTCGCCAGT', 'GTCGCGAGT', 'GTCGCGTCT', 'GTCGGATAA', 'GTCGGATGC', 'GTCGGCACC', 'GTCGGCGGT', 'GTCGGGCTC', 'GTCGGGGCT', 'GTCGGGGTC', 'GTCGGTTCA', 'GTCGTCGGT', 'GTCGTGGAC', 'GTCGTTAGC', 'GTCGTTGCC', 'GTCTACCAA', 'GTCTCGTTT', 'GTCTGCTTC', 'GTCTGTCCA', 'GTCTTATCA', 'GTCTTCAAT', 'GTGAAACTG', 'GTGAACGCC', 'GTGAAGTGC', 'GTGAGGGGG', 'GTGATCGTG', 'GTGATGGTG', 'GTGATTAGC', 'GTGATTTTG', 'GTGCACTGA', 'GTGCATCCG', 'GTGCCGAAC', 'GTGCCGCAT', 'GTGCCTTAC', 'GTGCGAGGG', 'GTGCGGGAA', 'GTGCTCCAC', 'GTGCTTCTT', 'GTGGACAGT', 'GTGGAGCAG', 'GTGGGGGAA', 'GTGGGTCAA', 'GTGGTGGGG', 'GTGTGCAAT', 'GTGTGTGCA', 'GTTAAATAA', 'GTTACGCCG', 'GTTAGCGTC', 'GTTAGCTCA', 'GTTATGTTC', 'GTTCAAATC', 'GTTCACGCC', 'GTTCACGGT', 'GTTCGAATC', 'GTTCGAGTC', 'GTTCGATCC', 'GTTCGCCAC', 'GTTCGTAGC', 'GTTGACGGC', 'GTTGACTTT', 'GTTGCCAGG', 'GTTGCCGGA', 'GTTGCCGTT', 'GTTGCCTGA', 'GTTGCCTGC', 'GTTGGCGCA', 'GTTGGTAGA', 'GTTTATCCC', 'GTTTATGCC', 'GTTTCCCGC', 'GTTTGGCAA', 'GTTTGTAGG', 'GTTTTTACG', 'TAAACGCCT', 'TAAATAATC', 'TAAATATGG', 'TAAATATTG', 'TAACACCTG', 'TAACCCGAA', 'TAACGCGTC', 'TAAGACGCA', 'TAAGACGCG', 'TAAGAGATG', 'TAAGATGCG', 'TAAGCCGCT', 'TAAGCGTAG', 'TAAGGCACT', 'TAAGGCGGT', 'TAAGGCGTT', 'TAATCAATT', 'TAATGCGGA', 'TACAAAATC', 'TACAAGGAG', 'TACACCGCT', 'TACCAATTC', 'TACCGCTAC', 'TACCGCTTG', 'TACGAGCTC', 'TACGCCAGA', 'TACGCCGCA', 'TACGCGTCG', 'TACGGAGGG', 'TACGGATGC', 'TACGGATGG', 'TACGGGGTG', 'TACGGTTAT', 'TACTAAAGC', 'TACTCAGCG', 'TACTCTATC', 'TACTTTCGT', 'TAGAGCACG', 'TAGAGCAGT', 'TAGCCGAGT', 'TAGCCTGAT', 'TAGCGCATC', 'TAGCGCGTC', 'TAGCGTCGC', 'TAGCGTGAT', 'TAGCTCAGC', 'TAGCTCAGT', 'TAGCTCGTC', 'TAGGCCGGA', 'TAGGCCTGA', 'TAGGGCAGA', 'TAGGTCGGA', 'TATAAAATA', 'TATCAGCAG', 'TATCAGGCC', 'TATCATGCC', 'TATCCAGCG', 'TATCCAGCT', 'TATCCCCGC', 'TATCCGACC', 'TATCCGCCC', 'TATCCGGCC', 'TATGCCGCA', 'TATGGATTA', 'TATGGCACT', 'TATGGCGGT', 'TATGTTCCG', 'TATTGCCCG', 'TATTGCGGC', 'TATTGGTGA', 'TCAAAAGTT', 'TCAAATCCG', 'TCAACGCCT', 'TCAATATTG', 'TCAATGCCT', 'TCAATTGGT', 'TCACCCACC', 'TCACGACGT', 'TCACGCCGC', 'TCACGGTCT', 'TCACTGCGT', 'TCAGCAGCC', 'TCAGCGCCT', 'TCAGCGCTG', 'TCAGCTGGG', 'TCAGGAGTT', 'TCAGGCAAC', 'TCAGGCAGT', 'TCAGGCATC', 'TCAGGCATT', 'TCAGGCCTA', 'TCAGGCGTT', 'TCAGTTGGT', 'TCATAACCC', 'TCATCACCC', 'TCATCCCCC', 'TCATCCGGC', 'TCATCCTGA', 'TCATCCTGC', 'TCATCCTTC', 'TCATCTTTC', 'TCATGCCTA', 'TCATTCATC', 'TCCAACTGG', 'TCCACCCCG', 'TCCAGACGA', 'TCCAGCTGA', 'TCCCCCCGG', 'TCCCCGCTG', 'TCCCGCTCC', 'TCCCGTCAT', 'TCCCTTACA', 'TCCGACAAC', 'TCCGACATC', 'TCCGACATT', 'TCCGACCGC', 'TCCGACCTA', 'TCCGCCACC', 'TCCGCCCTA', 'TCCGCGCAA', 'TCCGGCAAT', 'TCCGGCAGT', 'TCCGGCCCC', 'TCCGGCCTA', 'TCCGGGAGG', 'TCCGGTTAA', 'TCCTGCACG', 'TCCTTCCCC', 'TCGAACCCC', 'TCGAACCTC', 'TCGAACCTT', 'TCGAAGCCG', 'TCGAAGCTT', 'TCGAATCCT', 'TCGAGTCTC', 'TCGATCCCG', 'TCGATCCGC', 'TCGCAGGTT', 'TCGCATCAG', 'TCGCATCCG', 'TCGCCAGTT', 'TCGCCCTGC', 'TCGCCCTTC', 'TCGCGAGTT', 'TCGCGTCTT', 'TCGCTCGCC', 'TCGCTTCGC', 'TCGGAAAGC', 'TCGGATAAG', 'TCGGATGCG', 'TCGGCATCG', 'TCGGCGGTT', 'TCGGGCTCA', 'TCGGGGCTT', 'TCGGGGTCG', 'TCGGGTCGT', 'TCGGTTCAA', 'TCGGTTCGT', 'TCGGTTTAT', 'TCGTACGAG', 'TCGTAGCCG', 'TCGTCGGGC', 'TCGTCGGTT', 'TCGTGGACA', 'TCGTTAGCT', 'TCGTTGCCT', 'TCGTTTCCC', 'TCTAACGCC', 'TCTACCAAT', 'TCTATCCAG', 'TCTCACTCC', 'TCTCATCCC', 'TCTCATCCT', 'TCTCCGTTC', 'TCTCGTTTC', 'TCTCTCGCT', 'TCTGCCCCT', 'TCTGCGCAC', 'TCTGTAGGC', 'TCTGTCCAA', 'TCTTATCAG', 'TCTTATCAT', 'TCTTCTTTA', 'TCTTTAAAT', 'TCTTTCTGC', 'TCTTTTGGG', 'TGAAACTGA', 'TGAAAGAAG', 'TGAAAGTGA', 'TGAAATGAT', 'TGAACCCCC', 'TGAACGCCT', 'TGAACTGGC', 'TGAACTGTA', 'TGAAGCTAG', 'TGAAGTGCT', 'TGAATCAGC', 'TGACCGATA', 'TGACGCGAC', 'TGACTCGCT', 'TGACTTTTA', 'TGAGCTACG', 'TGAGGGGGG', 'TGATAAAAA', 'TGATAAGAC', 'TGATAAGCG', 'TGATACCGC', 'TGATCCAGT', 'TGATGAAAT', 'TGATGAAGC', 'TGATGCGAC', 'TGATGCGCC', 'TGATGGTGG', 'TGATGTTGC', 'TGATTAGCT', 'TGATTTAGC', 'TGATTTTGT', 'TGCACCTTT', 'TGCACGACC', 'TGCACTGAA', 'TGCAGCTGA', 'TGCATAATC', 'TGCATCCGG', 'TGCATCGGG', 'TGCCAAGGT', 'TGCCCCTCC', 'TGCCGAACC', 'TGCCGACCT', 'TGCCGCATC', 'TGCCGGATG', 'TGCCTGATG', 'TGCCTGCGG', 'TGCCTTACC', 'TGCGACGCT', 'TGCGAGGGG', 'TGCGCACGA', 'TGCGCCGCT', 'TGCGCCTGT', 'TGCGCGCTT', 'TGCGCTTTG', 'TGCGGATTC', 'TGCGGCAAC', 'TGCGGCACT', 'TGCGGCGCG', 'TGCGGCGTA', 'TGCGGCGTG', 'TGCGGGAAT', 'TGCGGGCAG', 'TGCGTATCG', 'TGCGTTCAC', 'TGCTCCACC', 'TGCTCCCTT', 'TGCTGAAAA', 'TGCTGAAAC', 'TGCTTATCC', 'TGCTTCTTC', 'TGGAACAGC', 'TGGACAGTC', 'TGGAGCAGC', 'TGGAGTTTG', 'TGGCAACAG', 'TGGCAATGG', 'TGGCACTAT', 'TGGCGATAC', 'TGGCGCACA', 'TGGCGCGGG', 'TGGCGCGTC', 'TGGCGCTGC', 'TGGCGGATG', 'TGGCGGTGA', 'TGGCTGGGG', 'TGGCTGTCG', 'TGGGAGAGC', 'TGGGCAGAA', 'TGGGGGAAG', 'TGGGTATAG', 'TGGGTCAAA', 'TGGTAGAGC', 'TGGTAGCTC', 'TGGTCGCAG', 'TGGTGCATC', 'TGGTGCGAG', 'TGGTGGGGG', 'TGGTGGTGG', 'TGTAGGCCT', 'TGTAGGTCG', 'TGTCCAACT', 'TGTCGCCAG', 'TGTCGCGTC', 'TGTCGGATG', 'TGTCGTGGA', 'TGTGAAGTG', 'TGTGCAATA', 'TGTGCCGAA', 'TGTGCCGCA', 'TGTGTGCAA', 'TGTTCATAT', 'TTAAATAAT', 'TTAAATATG', 'TTAAATGAT', 'TTAACGCGT', 'TTAATCAAT', 'TTACAAGGA', 'TTACCGCTT', 'TTACGCCGC', 'TTACGCGTC', 'TTACGTAAA', 'TTACTCAGC', 'TTAGCGTCG', 'TTAGCGTGA', 'TTAGCTCAG', 'TTATCAAAA', 'TTATCAGGC', 'TTATCATGC', 'TTATCCCCG', 'TTATCCGCC', 'TTATCCGGC', 'TTATGCCGC', 'TTATGTTCC', 'TTATTGCGG', 'TTCAAATCC', 'TTCAATATT', 'TTCACGACG', 'TTCACGCCG', 'TTCACGGTC', 'TTCATCTTT', 'TTCCCGCTC', 'TTCCGCCAC', 'TTCCGGGTA', 'TTCGAACCT', 'TTCGAATCC', 'TTCGAGTCT', 'TTCGATCCC', 'TTCGCCCTT', 'TTCGCTCGC', 'TTCGGGTCG', 'TTCGTACGA', 'TTCGTAGCC', 'TTCTCATCC', 'TTCTGCCCC', 'TTCTTTAAA', 'TTCTTTTGG', 'TTGAAAGTG', 'TTGAACCCC', 'TTGAAGTTG', 'TTGACTCGC', 'TTGACTTTT', 'TTGATACCG', 'TTGCCAAGG', 'TTGCCGACC', 'TTGCCGCCG', 'TTGCCGGAT', 'TTGCCGTTA', 'TTGCCTGAT', 'TTGCCTGCG', 'TTGCGGATT', 'TTGCGGCAC', 'TTGCTTATC', 'TTGGCAACA', 'TTGGCGATA', 'TTGGCGCAC', 'TTGGGTATA', 'TTGGTAGAG', 'TTGGTCGCA', 'TTGGTGCGA', 'TTGTAGGCC', 'TTGTAGGTC', 'TTGTGCCGC', 'TTTAAATAT', 'TTTAATCAA', 'TTTACCGCT', 'TTTACGTAA', 'TTTAGCGTG', 'TTTATCCCC', 'TTTATCGCC', 'TTTATGCCG', 'TTTCAATAT', 'TTTCCCGCT', 'TTTCGTACG', 'TTTCTGCCC', 'TTTCTTTTG', 'TTTGAAAGT', 'TTTGCTTAT', 'TTTGGCAAC', 'TTTGGGTAT', 'TTTGTAGGC', 'TTTGTAGGT', 'TTTGTGCTG', 'TTTTAATCA', 'TTTTACGTA', 'TTTTGAAAG', 'TTTTGGGTA', 'TTTTGTAGG', 'TTTTTACGT']\n"
       ]
      }
     ],
     "prompt_number": 21
    },
    {
     "cell_type": "code",
     "collapsed": false,
     "input": [
      "## Skewi(Genome) is the difference between the total number of occurrences of G \n",
      "## and the total number of occurrences of C in the first i nucleotides of Genome.  \n",
      "\n",
      "def skew(genome):\n",
      "    output = [0]\n",
      "    count = 0    \n",
      "    for x in genome:\n",
      "        count = count+1 if x==\"G\" else count\n",
      "        count = count-1 if x==\"C\" else count\n",
      "        output.append(count)       \n",
      "    return output\n",
      "\n",
      "genome = \"GAGCCACCGCGATA\"\n",
      "print skew(genome)"
     ],
     "language": "python",
     "metadata": {},
     "outputs": [
      {
       "output_type": "stream",
       "stream": "stdout",
       "text": [
        "[0, 1, 1, 2, 1, 0, 0, -1, -2, -1, -2, -1, -1, -1, -1]\n"
       ]
      }
     ],
     "prompt_number": 22
    },
    {
     "cell_type": "code",
     "collapsed": false,
     "input": [
      "## Minimum Skew Problem: Find a position in a genome minimizing the skew.\n",
      "## Input: A DNA string Genome.\n",
      "## Output: All integer(s) i minimizing Skew_i(Genome) among all values of i (from 0 to |Genome|).\n",
      "\n",
      "def minimum_skew_problem(genome):            \n",
      "    p = np.array(skew(genome))\n",
      "    minimum_skew = np.where(p == min(p))\n",
      "    return list(minimum_skew[0])\n",
      "\n",
      "genome = \"\".join(open(\"./data/minimum_skew_problem.txt\")).split()            \n",
      "print minimum_skew_problem(genome[0])"
     ],
     "language": "python",
     "metadata": {},
     "outputs": [
      {
       "output_type": "stream",
       "stream": "stdout",
       "text": [
        "[2692, 2693]\n"
       ]
      }
     ],
     "prompt_number": 23
    },
    {
     "cell_type": "code",
     "collapsed": false,
     "input": [
      "## Hamming Distance Problem: Compute the Hamming distance between two strings.\n",
      "## Input: Two strings of equal length.\n",
      "## Output: The Hamming distance between these strings.\n",
      "\n",
      "def hamming_distance(p, q):\n",
      "    dist = 0\n",
      "    if len(p) == len(q):\n",
      "        for x, y in zip(p, q):\n",
      "            dist = dist+1 if x != y else dist\n",
      "    return dist\n",
      "\n",
      "genome = \"\".join(open(\"./data/hamming_distance_problem.txt\")).split()            \n",
      "print hamming_distance(genome[0], genome[1])"
     ],
     "language": "python",
     "metadata": {},
     "outputs": [
      {
       "output_type": "stream",
       "stream": "stdout",
       "text": [
        "845\n"
       ]
      }
     ],
     "prompt_number": 24
    },
    {
     "cell_type": "code",
     "collapsed": false,
     "input": [
      "## Approximate Pattern Matching Problem: Find all approximate occurrences of a pattern in a string.\n",
      "## Input: Strings Pattern and Text along with an integer d.\n",
      "## Output: All starting positions where Pattern appears as a substring of Text with at most d mismatches.\n",
      "\n",
      "def approximate_pattern_matching_problem(pattern, genome, d):\n",
      "    pos = []\n",
      "    k = len(pattern)\n",
      "    for i in range(len(genome)-k+1):\n",
      "        dist = hamming_distance(pattern, genome[i:i+k])\n",
      "        if dist <= d:\n",
      "            pos.append(i)\n",
      "    return pos\n",
      "\n",
      "## pattern =\"ATTCTGGA\"\n",
      "## genome = \"CGCCCGAATCCAGAACGCATTCCCATATTTCGGGACCACTGGCCTCCACGGTACGGACGTCAATCAAAT\"\n",
      "## d = 3\n",
      "## print approximate_pattern_matching_problem(pattern, genome, d)\n",
      "\n",
      "string =  \"\".join(open(\"./data/approximate_pattern_matching_problem.txt\")).split()\n",
      "print approximate_pattern_matching_problem(string[0], string[1], int(string[2]))"
     ],
     "language": "python",
     "metadata": {},
     "outputs": [
      {
       "output_type": "stream",
       "stream": "stdout",
       "text": [
        "[34, 376, 400, 466, 502, 514, 564, 719, 743, 756, 781, 838, 874, 970, 1018, 1135, 1247, 1293, 1344, 1409, 1524, 1549, 1777, 1810, 1940, 1964, 1982, 2099, 2142, 2189, 2229, 2257, 2290, 2308, 2317, 2388, 2417, 2525, 2630, 2644, 2723, 2832, 2896, 2970, 3425, 3573, 3596, 3731, 3743, 3750, 3879, 3896, 3913, 3916, 3928, 4059, 4110, 4146, 4171, 4177, 4185, 4394, 4423, 4500, 4546, 4565, 4581, 4656, 4709, 4800, 4840, 4892, 4930, 4990, 5094, 5250, 5308, 5331, 5432, 5451, 5500, 5523, 5614, 5673, 5794, 5889, 5890, 5902, 6003, 6058, 6100, 6213, 6404, 6472, 6490, 6530, 6557, 6656, 7003, 7020, 7027, 7104, 7297, 7369, 7413, 7470, 7652, 7730, 7805, 8201, 8312, 8316, 8349, 8370, 8413, 8454, 8504, 8709, 8738, 8762, 8794, 9126, 9179, 9255, 9334, 9406, 9419, 9439, 9465, 9548, 9595, 9651, 9693, 9728, 9741, 9822, 9841, 9877, 9940, 9941, 10068, 10115, 10150, 10201, 10219, 10304, 10310, 10435, 10463, 10515, 10527, 10548, 10565, 10605, 10663, 10690, 10757, 10819, 10836, 11050, 11067, 11122, 11153, 11161, 11171, 11212, 11223, 11243, 11252, 11293, 11348, 11390, 11450, 11487, 11549, 11571, 11636, 11694, 11728, 11768, 11789, 11875, 11895, 12033, 12042, 12188, 12233, 12308, 12397, 12409, 12444, 12503, 12611, 12687, 12727, 12733, 12787, 12863, 12942, 12947, 13105, 13116, 13147, 13282, 13290, 13304, 13320, 13474, 13504, 13628, 13656, 13836, 13855, 13895, 14055, 14126, 14225, 14237, 14309, 14398, 14525, 14529, 14535, 14641, 14647, 14753, 14805, 14819, 14828, 14848, 14953, 15050, 15116, 15187, 15215, 15327, 15406, 15462, 15546, 15828, 15855, 15937, 15960, 16211, 16233, 16297, 16451, 16536, 16585, 16591, 16634, 16648, 16709, 16763, 16874, 17065, 17098, 17192, 17309, 17337, 17347, 17520, 17526, 17577, 17629, 17704, 17855, 17941, 18035, 18121, 18229, 18230, 18403, 18440, 18463, 18478, 18555, 18578, 18584, 18696, 18700, 18708, 18724, 18757, 18903, 18981, 19114, 19158, 19277, 19290, 19299, 19391]\n"
       ]
      }
     ],
     "prompt_number": 25
    },
    {
     "cell_type": "code",
     "collapsed": false,
     "input": [
      "## Implement ApproximatePatternCount.\n",
      "## Input: Strings Text and Pattern as well as an integer d.\n",
      "## Output: Count_d(Text, Pattern).            \n",
      "##        Given strings Text and Pattern as well as an integer d, we define Count_d(Text, Pattern) \n",
      "##        as the total number of occurrences of Pattern in Text with at most d mismatches.\n",
      "\n",
      "def approximate_pattern_count(text, pattern, d):\n",
      "    return len(approximate_pattern_matching_problem(pattern, text, d))\n",
      "    \n",
      "string = \"\".join(open(\"./data/approximate_pattern_count.txt\")).split()\n",
      "print approximate_pattern_count(string[0], string[1], int(string[2]))"
     ],
     "language": "python",
     "metadata": {},
     "outputs": [
      {
       "output_type": "stream",
       "stream": "stdout",
       "text": [
        "59\n"
       ]
      }
     ],
     "prompt_number": 26
    },
    {
     "cell_type": "code",
     "collapsed": false,
     "input": [
      "## Generate the 1-neigborhood of Pattern.\n",
      "\n",
      "def immediate_neighbors(pattern):\n",
      "    neighborhood = [pattern]\n",
      "    for i in range(len(pattern)):\n",
      "        symbol = pattern[i]\n",
      "        for x in pattern:\n",
      "            if x != symbol:\n",
      "                temp = list(pattern)\n",
      "                temp[i] = x\n",
      "                neighborhood.append(\"\".join(temp))\n",
      "    return neighborhood\n",
      "\n",
      "print immediate_neighbors(\"ACGT\")"
     ],
     "language": "python",
     "metadata": {},
     "outputs": [
      {
       "output_type": "stream",
       "stream": "stdout",
       "text": [
        "['ACGT', 'CCGT', 'GCGT', 'TCGT', 'AAGT', 'AGGT', 'ATGT', 'ACAT', 'ACCT', 'ACTT', 'ACGA', 'ACGC', 'ACGG']\n"
       ]
      }
     ],
     "prompt_number": 27
    },
    {
     "cell_type": "code",
     "collapsed": false,
     "input": [
      "## Given a k-mer Pattern, we therefore define its d-neighborhood Neighbors(Pattern, d) \n",
      "## as the set of all k-mers that are close to Pattern.\n",
      "## Implement Neighbors to find the d-neighborhood of a string.\n",
      "## Input: A string Pattern and an integer d.\n",
      "## Output: The collection of strings Neighbors(Pattern, d).\n",
      "\n",
      "def neighbors(pattern, d):\n",
      "    if d == 0:\n",
      "        return pattern\n",
      "    if len(pattern) == 1: \n",
      "        return [\"A\",\"C\",\"T\",\"G\"]\n",
      "    neighborhood = []\n",
      "    suffix_neighbors = neighbors(pattern[1:], d) \n",
      "    for text in suffix_neighbors:\n",
      "        if hamming_distance(pattern[1:], text) < d:\n",
      "            for x in [\"A\",\"C\",\"G\",\"T\"]:\n",
      "                neighborhood.append(x + text)\n",
      "        else:\n",
      "            neighborhood.append(pattern[0] + text)\n",
      "    return neighborhood\n",
      "\n",
      "print neighbors(\"ACATG\", 2)"
     ],
     "language": "python",
     "metadata": {},
     "outputs": [
      {
       "output_type": "stream",
       "stream": "stdout",
       "text": [
        "['ACAAA', 'ACACA', 'ACAGA', 'AAATA', 'ACATA', 'CCATA', 'GCATA', 'TCATA', 'AGATA', 'ATATA', 'ACCTA', 'ACGTA', 'ACTTA', 'ACAAC', 'ACACC', 'ACAGC', 'AAATC', 'ACATC', 'CCATC', 'GCATC', 'TCATC', 'AGATC', 'ATATC', 'ACCTC', 'ACGTC', 'ACTTC', 'ACAAT', 'ACACT', 'ACAGT', 'AAATT', 'ACATT', 'CCATT', 'GCATT', 'TCATT', 'AGATT', 'ATATT', 'ACCTT', 'ACGTT', 'ACTTT', 'AAAAG', 'ACAAG', 'CCAAG', 'GCAAG', 'TCAAG', 'AGAAG', 'ATAAG', 'ACCAG', 'ACGAG', 'ACTAG', 'AAACG', 'ACACG', 'CCACG', 'GCACG', 'TCACG', 'AGACG', 'ATACG', 'ACCCG', 'ACGCG', 'ACTCG', 'AAAGG', 'ACAGG', 'CCAGG', 'GCAGG', 'TCAGG', 'AGAGG', 'ATAGG', 'ACCGG', 'ACGGG', 'ACTGG', 'AAATG', 'CAATG', 'GAATG', 'TAATG', 'ACATG', 'CCATG', 'GCATG', 'TCATG', 'AGATG', 'CGATG', 'GGATG', 'TGATG', 'ATATG', 'CTATG', 'GTATG', 'TTATG', 'AACTG', 'ACCTG', 'CCCTG', 'GCCTG', 'TCCTG', 'AGCTG', 'ATCTG', 'AAGTG', 'ACGTG', 'CCGTG', 'GCGTG', 'TCGTG', 'AGGTG', 'ATGTG', 'AATTG', 'ACTTG', 'CCTTG', 'GCTTG', 'TCTTG', 'AGTTG', 'ATTTG']\n"
       ]
      }
     ],
     "prompt_number": 28
    },
    {
     "cell_type": "code",
     "collapsed": false,
     "input": [
      "def exact_neighbors(pattern, d):\n",
      "    return [text for text in neighbors(pattern, d) if hamming_distance(pattern, text) == d]\n",
      "    \n",
      "print exact_neighbors(\"ACATG\", 2)"
     ],
     "language": "python",
     "metadata": {},
     "outputs": [
      {
       "output_type": "stream",
       "stream": "stdout",
       "text": [
        "['ACAAA', 'ACACA', 'ACAGA', 'AAATA', 'CCATA', 'GCATA', 'TCATA', 'AGATA', 'ATATA', 'ACCTA', 'ACGTA', 'ACTTA', 'ACAAC', 'ACACC', 'ACAGC', 'AAATC', 'CCATC', 'GCATC', 'TCATC', 'AGATC', 'ATATC', 'ACCTC', 'ACGTC', 'ACTTC', 'ACAAT', 'ACACT', 'ACAGT', 'AAATT', 'CCATT', 'GCATT', 'TCATT', 'AGATT', 'ATATT', 'ACCTT', 'ACGTT', 'ACTTT', 'AAAAG', 'CCAAG', 'GCAAG', 'TCAAG', 'AGAAG', 'ATAAG', 'ACCAG', 'ACGAG', 'ACTAG', 'AAACG', 'CCACG', 'GCACG', 'TCACG', 'AGACG', 'ATACG', 'ACCCG', 'ACGCG', 'ACTCG', 'AAAGG', 'CCAGG', 'GCAGG', 'TCAGG', 'AGAGG', 'ATAGG', 'ACCGG', 'ACGGG', 'ACTGG', 'CAATG', 'GAATG', 'TAATG', 'CGATG', 'GGATG', 'TGATG', 'CTATG', 'GTATG', 'TTATG', 'AACTG', 'CCCTG', 'GCCTG', 'TCCTG', 'AGCTG', 'ATCTG', 'AAGTG', 'CCGTG', 'GCGTG', 'TCGTG', 'AGGTG', 'ATGTG', 'AATTG', 'CCTTG', 'GCTTG', 'TCTTG', 'AGTTG', 'ATTTG']\n"
       ]
      }
     ],
     "prompt_number": 29
    },
    {
     "cell_type": "code",
     "collapsed": false,
     "input": [
      "## A most frequent k-mer with up to d mismatches in Text is simply a string Pattern maximizing Countd(Text, Pattern) among all k-mers. \n",
      "## Frequent Words with Mismatches Problem: Find the most frequent k-mers with mismatches in a string.\n",
      "## Input: A string Text as well as integers k and d. (You may assume k \u2264 12 and d \u2264 3.)\n",
      "## Output: All most frequent k-mers with up to d mismatches in Text.\n",
      "\n",
      "def frequent_words_with_mismatches_problem(text, k, d):\n",
      "    num = 4**k\n",
      "    frequent_patterns = []\n",
      "    close = [0]*num\n",
      "    frequency_array = [0]*num\n",
      "    for i in range(len(text) - k):\n",
      "        neighborhood = neighbors(text[i: i+k], d)\n",
      "        for pattern in neighborhood:\n",
      "            index = pattern_to_number(pattern)\n",
      "            close[index] = 1\n",
      "    for i in range(num):\n",
      "        if close[i] == 1:\n",
      "            pattern = number_to_pattern(i, k)\n",
      "            frequency_array[i] = approximate_pattern_count(text, pattern, d)\n",
      "        max_count = max(frequency_array)\n",
      "    for i in range(num):\n",
      "        if frequency_array[i] == max_count:\n",
      "            pattern = number_to_pattern(i, k)\n",
      "            frequent_patterns.append(pattern)\n",
      "    return frequent_patterns \n",
      "        \n",
      "text = \"ACGTTGCATGTCGCATGATGCATGAGAGCT\"\n",
      "k = 4 \n",
      "d = 1  \n",
      "print frequent_words_with_mismatches_problem(text, k, d)"
     ],
     "language": "python",
     "metadata": {},
     "outputs": [
      {
       "output_type": "stream",
       "stream": "stdout",
       "text": [
        "['ATGC', 'ATGT', 'GATG']\n"
       ]
      }
     ],
     "prompt_number": 30
    },
    {
     "cell_type": "code",
     "collapsed": false,
     "input": [
      "## Frequent Words with Mismatches Problem by sorting.\n",
      "\n",
      "def frequent_words_with_mismatches_problem_sorting(text, k, d):\n",
      "    frequent_patterns = []\n",
      "    neighborhoods = []\n",
      "    for i in range(len(text) - k):\n",
      "        neighborhood = neighbors(text[i: i+k], d)\n",
      "        for n in neighborhood:\n",
      "            neighborhoods.append(n) \n",
      "    index = []\n",
      "    count = []\n",
      "    for i in range(len(neighborhoods)):\n",
      "        pattern = neighborhoods[i] \n",
      "        index.append(pattern_to_number(pattern))\n",
      "        count.append(1)\n",
      "    index.sort()\n",
      "    for i in range(len(neighborhoods)-1):\n",
      "        if index[i] == index[i+1]:\n",
      "            count[i+1] = count[i] + 1\n",
      "    max_count = max(count)\n",
      "    for i in range(len(neighborhoods)):\n",
      "        if count[i] == max_count:\n",
      "            pattern = number_to_pattern(index[i], k)\n",
      "            frequent_patterns.append(pattern)\n",
      "    return frequent_patterns \n",
      "\n",
      "## text = \"ACGTTGCATGTCGCATGATGCATGAGAGCT\"\n",
      "## k = 4 \n",
      "## d = 1  \n",
      "## print frequent_words_with_mismatches_problem(text, k, d)\n",
      "\n",
      "string = \"\".join(open(\"./data/frequent_words_with_mismatches_problem.txt\")).split()\n",
      "print frequent_words_with_mismatches_problem_sorting(string[0], int(string[1]), int(string[2]))"
     ],
     "language": "python",
     "metadata": {},
     "outputs": [
      {
       "output_type": "stream",
       "stream": "stdout",
       "text": [
        "['GTTGAGTTT']\n"
       ]
      }
     ],
     "prompt_number": 31
    },
    {
     "cell_type": "code",
     "collapsed": false,
     "input": [
      "## Frequent Words with Mismatches and Reverse Complements Problem: Find the most frequent k-mers (with mismatches and reverse complements) in a DNA string.\n",
      "## Input: A DNA string Text as well as integers k and d.\n",
      "## Output: All k-mers Pattern maximizing the sum Countd(Text, Pattern)+ Countd(Text, Pattern) over all possible k-mers.\n",
      "\n",
      "def frequent_words_with_mismatches_and_reverse_complements_problem(text, k, d):\n",
      "    num = 4**k\n",
      "    frequent_patterns = []\n",
      "    close = [0]*num\n",
      "    frequency_array = [0]*num\n",
      "    for i in range(len(text) - k):\n",
      "        neighborhood = neighbors(text[i: i+k], d)\n",
      "        for pattern in neighborhood:\n",
      "            index = pattern_to_number(pattern)\n",
      "            close[index] = 1\n",
      "    for i in range(num):\n",
      "        if close[i] == 1:\n",
      "            pattern = number_to_pattern(i, k)\n",
      "            complement = reverse_complement_problem(pattern)\n",
      "            frequency_array[i] = approximate_pattern_count(text, pattern, d) + approximate_pattern_count(text, complement, d)\n",
      "    max_count = max(frequency_array)\n",
      "    for i in range(num):\n",
      "        if frequency_array[i] == max_count:\n",
      "            pattern = number_to_pattern(i, k)\n",
      "            frequent_patterns.append(pattern)\n",
      "    return frequent_patterns \n",
      "\n",
      "## text = \"ACGTTGCATGTCGCATGATGCATGAGAGCT\"\n",
      "## k = 4\n",
      "## d = 1\n",
      "## print frequent_words_with_mismatches_and_reverse_complements_problem(text, k, d)\n",
      "\n",
      "string = \"\".join(open(\"./data/frequent_words_with_mismatches_and_reverse_complements_problem.txt\")).split()\n",
      "print frequent_words_with_mismatches_and_reverse_complements_problem(string[0], int(string[1]), int(string[2]))"
     ],
     "language": "python",
     "metadata": {},
     "outputs": [
      {
       "output_type": "stream",
       "stream": "stdout",
       "text": [
        "['CGCGGAACTC', 'GAGTTCCGCG']\n"
       ]
      }
     ],
     "prompt_number": 32
    },
    {
     "cell_type": "markdown",
     "metadata": {},
     "source": [
      "# Chapter 2: Brute Force Algorithms.\n",
      "> ## How Do We Sequence Antibiotics?"
     ]
    },
    {
     "cell_type": "code",
     "collapsed": false,
     "input": [
      "genetic_code = pd.read_csv(\"./data/codon_table.txt\", delimiter=\" \", names=[\"codon\", \"amino_acid\"])\n",
      "genetic_code.head()"
     ],
     "language": "python",
     "metadata": {},
     "outputs": [
      {
       "html": [
        "<div style=\"max-height:1000px;max-width:1500px;overflow:auto;\">\n",
        "<table border=\"1\" class=\"dataframe\">\n",
        "  <thead>\n",
        "    <tr style=\"text-align: right;\">\n",
        "      <th></th>\n",
        "      <th>codon</th>\n",
        "      <th>amino_acid</th>\n",
        "    </tr>\n",
        "  </thead>\n",
        "  <tbody>\n",
        "    <tr>\n",
        "      <th>0</th>\n",
        "      <td> AAA</td>\n",
        "      <td> K</td>\n",
        "    </tr>\n",
        "    <tr>\n",
        "      <th>1</th>\n",
        "      <td> AAC</td>\n",
        "      <td> N</td>\n",
        "    </tr>\n",
        "    <tr>\n",
        "      <th>2</th>\n",
        "      <td> AAG</td>\n",
        "      <td> K</td>\n",
        "    </tr>\n",
        "    <tr>\n",
        "      <th>3</th>\n",
        "      <td> AAU</td>\n",
        "      <td> N</td>\n",
        "    </tr>\n",
        "    <tr>\n",
        "      <th>4</th>\n",
        "      <td> ACA</td>\n",
        "      <td> T</td>\n",
        "    </tr>\n",
        "  </tbody>\n",
        "</table>\n",
        "<p>5 rows \u00d7 2 columns</p>\n",
        "</div>"
       ],
       "metadata": {},
       "output_type": "pyout",
       "prompt_number": 33,
       "text": [
        "  codon amino_acid\n",
        "0   AAA          K\n",
        "1   AAC          N\n",
        "2   AAG          K\n",
        "3   AAU          N\n",
        "4   ACA          T\n",
        "\n",
        "[5 rows x 2 columns]"
       ]
      }
     ],
     "prompt_number": 33
    },
    {
     "cell_type": "code",
     "collapsed": false,
     "input": [
      "protein_dictionary = {\"His\":\"H\", \"Gln\":\"Q\", \"Pro\":\"P\", \"Arg\":\"R\", \"Leu\":\"L\", \"Asp\":\"D\", \"Glu\":\"E\", \"Ala\":\"A\", \"Gly\":\"G\", \"Val\":\"V\",\n",
      "                      \"Tyr\":\"Y\", \"Ser\":\"S\", \"Cys\":\"C\", \"Trp\":\"W\", \"Phe\":\"F\", \"Asn\":\"N\", \"Lys\":\"K\", \"Thr\":\"T\", \"Ile\":\"I\", \"Met\":\"M\"}\n",
      "protein_dictionary"
     ],
     "language": "python",
     "metadata": {},
     "outputs": [
      {
       "metadata": {},
       "output_type": "pyout",
       "prompt_number": 34,
       "text": [
        "{'Ala': 'A',\n",
        " 'Arg': 'R',\n",
        " 'Asn': 'N',\n",
        " 'Asp': 'D',\n",
        " 'Cys': 'C',\n",
        " 'Gln': 'Q',\n",
        " 'Glu': 'E',\n",
        " 'Gly': 'G',\n",
        " 'His': 'H',\n",
        " 'Ile': 'I',\n",
        " 'Leu': 'L',\n",
        " 'Lys': 'K',\n",
        " 'Met': 'M',\n",
        " 'Phe': 'F',\n",
        " 'Pro': 'P',\n",
        " 'Ser': 'S',\n",
        " 'Thr': 'T',\n",
        " 'Trp': 'W',\n",
        " 'Tyr': 'Y',\n",
        " 'Val': 'V'}"
       ]
      }
     ],
     "prompt_number": 34
    },
    {
     "cell_type": "code",
     "collapsed": false,
     "input": [
      "## Protein Translation Problem: Translate an RNA string into an amino acid string.\n",
      "## Input: An RNA string Pattern and the array GeneticCode.\n",
      "## Output: The translation of Pattern into an amino acid string Peptide.\n",
      "                \n",
      "def protein_translation_problem(pattern, genetic_code):\n",
      "    peptide = []\n",
      "    genes = re.findall(\"...\", pattern)\n",
      "    for gene in genes:\n",
      "        amino_acid = genetic_code[genetic_code.codon==gene].amino_acid.values[0]\n",
      "        if str(amino_acid) != \"nan\":\n",
      "            peptide.append(amino_acid)\n",
      "    return \"\".join(str(x) for x in peptide)    \n",
      "\n",
      "## pattern = \"AUGGCCAUGGCGCCCAGAACUGAGAUCAAUAGUACCCGUAUUAACGGGUGA\"\n",
      "## print protein_translation_problem(pattern, genetic_code)\n",
      "\n",
      "string = \"\".join(open(\"./data/protein_translation_problem.txt\")).split()\n",
      "protein_translation_problem(string[0], genetic_code)"
     ],
     "language": "python",
     "metadata": {},
     "outputs": [
      {
       "metadata": {},
       "output_type": "pyout",
       "prompt_number": 35,
       "text": [
        "'MLVQSFNPAPDSCSSTTLPYSSQDGVRLSPAVVPTSLRSHLPNMEYGTTKNLNESPLWDTNSNRAIKDYLSCTPLCPLFPSVVTCSTRESSSLETTWGIRVCLAKYLLYRPIVYTANFSSWVSVRCVSYQENFVLTERQYPTYRSIILSYLLARPWTLIGKLLVGDELGLPQTLVGTLLVTRPTIVVIKIPSAGLHCCTIITLKLWDVGHDVMAGSSTTNGQGTRPQAVPPNHRLSLGMAYTPTMGGRGVIGGLKAVSAVRSNPEMCTTGPDQIYVVDPLKTLGGPPCPLDTQLASPEWNSGRLRRSDLTSSNTCSTRSWCLSTSTVERVISSPRRLFRTTGHIPVINSPRITLPIIGPTSGGMLPPRCLVTLLDRTNYWPRKHGLAHYWASCSLPSSRWPYQAGAHATSPALKRSPFQSYSCLALNSCVRRFVCPEQADHTYCSIHPVLSITDWALVNLWRLVQCNCLPTSSVHSEHGVVPGPENQPGLDYRQQMQMREDFSTRRAAVNLGLTGHTPQTVGAQSHGYTRAALLCTERPRFAPSSVSFAKVRDYELRRILSKNTVATRIESEFVTKFAQSSLVRSSLNKGGSSRTRLAECGPGQTRAKVTPYELLLFDWGAKSYSPFAAGTSAGLSNLPAKLVRLYGIRRRETSPMALNETLPAQRAILLKRLPIWVQLAAPSRQTVSRELNASHSVRAGLPICMYASAIDCVAWNMTGELRGLKWPAIGSVEPLRGKPFSLRLRLWLERLMMMIKGGAQYVAVPARGVSVLGRLMRAAGSLQRYAWSDEITNLSDALGVFKSCQRRLHETYISSLRSQYGERRNGQPLEALSFRTHFRVCASIERRPSKTWGLSSSVTSVFSMSRPGPLSVLSTGERRRMPRKKTGLLICALCHHQHEEEKSMGNLQCYLLLSRLLKARVCPNRLHESELPVESSTVICRRMLLGCTVTQDARSGSLLCSRVRCKGYRTNLYIRLPKIHSQGQHHMLARKLRVLYATMSPSVPVPFYLTGTPVLVTYHYATCGGKPIFLVPAMVSHSIVPPKPSAHGVSHLTRWLHYRGGLGACSARGGFGDEDTPAYYCFAPCCDGLTAAGACRAGPPWHILTMFKLGPAHSPGAADLTLVVYHHFDIDSLILLVFLGDKSLNRERDSRKASTDRRRDYKLLSGTIRAQPEDEFFVRQLTRFLSQIPQGCPGQQPLIEWKIIISLVLLGFIELEFCQGQSTHLRRLRQRSGQERKDSPPVPLKMRGRLPILKHDQGICIIAATVFQRRYVNMTILGMDPQDLALWAILRLSEVGTMQEWKAYLGPCAQRQGPSRARPAGIIWGTDLHSIAIAHRLQMDANAFRLNVYHCRAKPKRFHYNYQFDRVGCLIQKVPRAGRTSLVDTAYTPSRMAPPGSIAGYVSTPVRLNATLRRHPVPTDDSCDTSLVVIRLLVNVIYLLCRRRRRNNPLPEECPMVRPIKRERKLSPTHWEYVSHGTLLSMGPNNYPPYTVLLSQQCFLHRNCTSASSKEGRLHATFMSLAFRGFGRDANPEYEQNSIGWGSCKRCATTGHNVVCTHLADLLSLLGHIMLMSTLLSSNLYNSRNRRQLRLNIQVEWQQQVGANLSVQRPHYEGDSAPWAPPPNIEPEKTLVTVTGFLSLIPCCHVCNYWKRLRTEVACETEHKLQEQRNRHANVVQPDGEISAPRRLNERGLLLSPPSSEYYWTVRETFRRVPSRAILRSQKWASRVHRGATCVTSADLVAARAYSGRVISDTKLSTSPIANGLLNLCGHDNSTMVARLTIVYRMCYLSLLHRPIRAVRIPLKLCDIFVRSAPRQLTIHCRRAYPSKRISSLDIGGSSRSPFVRHGPPRVYHSSVVTQQRCYPPKESVLRKYVINLYCPLVAFAGTYDKVMTFLVVTHHELITIWQIFLKRWVFGKPLHVPGGQGARSRAVISPGIRAHLKQRFLILLWARAHGWVLPSPIYSRPGALQQVDMSELAACMFGSQPPFTLAIVIVLSLDSFLLWSGETPSCTVVRRNGVHEAYQAGCREVGRAPPQFPRSGYISWTASNSLPTNHAKPRLYHISNIRNPTVPLCKQFQAQTASTRGFTYPFPSTWYTRAPGPGQLKGRNTVSLIANGSPCTHNDNMNEGRYGVRVVDNGQSNRLSAAASRMVPRLLTRLPVSGVPVRGTITRRSHKQISDGNLVSFQAQPGGLLERTIHRWPMNFTSRSRRRVHAAVGEVSGPSQVRSVIHKYNRSDPVSRLENTPQCCQDVVRFPHRLCRITVNAAGRKSGGPATSLRPSRPRREGLVNYHGRGLKARRLHLFLRSVPSENRLTRPGQAYTGVAGWGYTCIFWNALAESTICTINPMLVTRGISVTQDYKLNIKDVQTMQEKWPLRSQGPKSYPGLIGEPTSYALYAVWDILYRYQHRITASDKHNSSTNTPPIDVLFDILPTDVPPQVFSIRCRQNTFSVSSKITAADRLVSSWAALTAQWSVMQHATARYLYSARGANDFFLKGPAASTTRFPRWICPPKSHIITEDPSGRLLSGGPNVALRLPKMLRRYGRHRKRKKNPPPFFPELRSSAFVYSKIPAQQTACYYKPPSQLGPSPARGAASSMRNVNTVLMRADNPVRTSPLVSRGGIGRPFFLFIEGLADIGIVMLPWGCIMPATSRAWCNALTSTLLNSSSAVSPVFLQRFASSERIPRHAPNTALVRLIWYRKVQGNTPLAYLFIGQAMQANSARSHESDVSVTHHFRRQDDLYVRHTSIRFRRLIREHIQTHRSEVLSTMHLRARTTLANITRCSVPPHYQRLLETLKHLASLRPYTRQTIPVAVYPPPDRRPCSYADGATPLFAKALPGRDPIPGEVSKRVPSEAPSAGPASLPPPCDLVGKQCSITSVKEKNSSVSPMGSQMDIDCARAPPMALWFSHPIVVNWVGVNLNKGSQSKPPLSAGRTTVMHLKPSSHRHKPRATLLKPLPLMTPTASVSRLTFHVMVHAAAKPDDRAIELSPVSNTLMWQRASGIYRLTIWLDAWDIKMEDLQCVASLAREQPVVISPEILASDDPFNSRRTNISSICAARVSLLPCVRDLACRTLRFPSFD'"
       ]
      }
     ],
     "prompt_number": 35
    },
    {
     "cell_type": "code",
     "collapsed": false,
     "input": [
      "## Peptide Encoding Problem: Find substrings of a genome encoding a given amino acid sequence.\n",
      "## Input: A DNA string Text, an amino acid string Peptide, and the array GeneticCode.\n",
      "## Output: All substrings of Text encoding Peptide (if any such substrings exist).\n",
      "\n",
      "def peptide_encoding_problem(dna, amino_acid, genetic_code):\n",
      "    n = 3*len(amino_acid)\n",
      "    substrings = []\n",
      "    dnas = [dna[i: i+n] for i in range(0, len(dna)-n)]\n",
      "    for d in dnas:\n",
      "        for string in [d, reverse_complement_problem(d)]:\n",
      "            p = string.replace(\"T\", \"U\")\n",
      "            peptide = protein_translation_problem(p, genetic_code)  \n",
      "            if peptide==amino_acid:\n",
      "                substrings.append(d)\n",
      "    return \"\\n\".join(substrings)\n",
      "\n",
      "## text = \"ATGGCCATGGCCCCCAGAACTGAGATCAATAGTACCCGTATTAACGGGTGA\"\n",
      "## peptide = \"MA\"\n",
      "## peptide_encoding_problem(text, peptide, genetic_code)\n",
      "\n",
      "string = \"\".join(open(\"./data/peptide_encoding_problem.txt\")).split()\n",
      "print peptide_encoding_problem(string[0], string[1], genetic_code)"
     ],
     "language": "python",
     "metadata": {},
     "outputs": [
      {
       "output_type": "stream",
       "stream": "stdout",
       "text": [
        "TATTACCTAAAAGAAAGGGCGAACTCGCAG\n",
        "TACTATCTCAAGGAGCGTGCTAACTCTCAG\n",
        "CTGGGAATTTGCACGCTCCTTTAAATAGTA\n",
        "TATTATTTAAAGGAGCGAGCCAACTCTCAG\n",
        "TACTATTTGAAGGAGCGCGCTAACAGCCAG\n",
        "TTGTGAGTTAGCGCGCTCCTTTAGGTAGTA\n",
        "TTGGCTATTTGCCCGCTCTTTAAGGTAGTA\n",
        "TTGGGAATTTGCTCTTTCCTTTAGGTAGTA\n",
        "CTGTGAGTTGGCCCTTTCTTTAAGATAGTA\n",
        "TTGTGAATTTGCTCTTTCCTTAAGGTAATA\n",
        "TACTACCTGAAAGAGCGGGCTAACTCTCAG\n",
        "TTGACTGTTCGCACGTTCTTTTAAGTAATA\n",
        "TTGACTGTTAGCTCTCTCTTTTAAGTAATA\n",
        "CTGGCTATTAGCCCTTTCTTTTAAATAATA\n",
        "CTGACTGTTCGCACGTTCTTTTAGGTAATA\n",
        "TTGGCTGTTTGCACGCTCTTTAAGGTAGTA\n",
        "TATTACCTCAAGGAGAGAGCAAATAGCCAA\n",
        "TATTATCTGAAGGAACGCGCTAATTCGCAA\n",
        "TACTATCTTAAAGAACGGGCTAATTCGCAG\n"
       ]
      }
     ],
     "prompt_number": 36
    },
    {
     "cell_type": "code",
     "collapsed": false,
     "input": [
      "## Solve the Peptide Encoding Problem for Bacillus brevis and Tyrocidine B1 (Val-Lys-Leu-Phe-Pro-Trp-Phe-Asn-Gln-Tyr). \n",
      "## How many starting positions in Bacillus brevis encode this peptide? \n",
      "\n",
      "bacillus_brevis = urllib2.urlopen(\"https://stepic.org/media/attachments/lessons/96/B_brevis.txt\").read()\n",
      "bacillus_brevis = bacillus_brevis.replace(\"\\n\", \"\")\n",
      "\n",
      "tyrocidine_b1 = \"Val-Lys-Leu-Phe-Pro-Trp-Phe-Asn-Gln-Tyr\"\n",
      "tyrocidine_b1 = tyrocidine_b1.split(\"-\")\n",
      "tyrocidine_b1 = \"\".join(protein_dictionary[p] for p in tyrocidine_b1)\n",
      "\n",
      "## peptide_encoding_problem(bacillus_brevis, tyrocidine_b1, genetic_code)"
     ],
     "language": "python",
     "metadata": {},
     "outputs": [],
     "prompt_number": 37
    },
    {
     "cell_type": "code",
     "collapsed": false,
     "input": [
      "## Assume for simplicity that the mass spectrometer breaks the copies of a cyclic peptide at every possible two bonds, \n",
      "## so that the resulting experimental spectrum contains the masses of all possible linear fragments of the peptide, \n",
      "## which are called subpeptides.\n",
      "\n",
      "def sub_peptides(peptide):\n",
      "    my_list = []\n",
      "    l = len(peptide)\n",
      "    looped = peptide + peptide\n",
      "    for start in range(0, l):\n",
      "        for length in range(1, l):\n",
      "            my_list.append(looped[start: start+length])\n",
      "    return my_list\n",
      "            \n",
      "print sub_peptides(\"LEQN\")"
     ],
     "language": "python",
     "metadata": {},
     "outputs": [
      {
       "output_type": "stream",
       "stream": "stdout",
       "text": [
        "['L', 'LE', 'LEQ', 'E', 'EQ', 'EQN', 'Q', 'QN', 'QNL', 'N', 'NL', 'NLE']\n"
       ]
      }
     ],
     "prompt_number": 38
    },
    {
     "cell_type": "code",
     "collapsed": false,
     "input": [
      "integer_mass_table = {}\n",
      "table = open(\"./data/integer_mass_table.txt\")\n",
      "for line in table:\n",
      "    l = line.split()\n",
      "    integer_mass_table[l[0]] = int(l[1])\n",
      "\n",
      "amino_acids = sorted(list(set(integer_mass_table.keys())))\n",
      "amino_acid_masses = sorted(list(set(integer_mass_table.values())))\n",
      "\n",
      "print integer_mass_table"
     ],
     "language": "python",
     "metadata": {},
     "outputs": [
      {
       "output_type": "stream",
       "stream": "stdout",
       "text": [
        "{'A': 71, 'C': 103, 'E': 129, 'D': 115, 'G': 57, 'F': 147, 'I': 113, 'H': 137, 'K': 128, 'M': 131, 'L': 113, 'N': 114, 'Q': 128, 'P': 97, 'S': 87, 'R': 156, 'T': 101, 'W': 186, 'V': 99, 'Y': 163}\n"
       ]
      }
     ],
     "prompt_number": 39
    },
    {
     "cell_type": "code",
     "collapsed": false,
     "input": [
      "## Implement LinearSpectrum.\n",
      "## Input: An amino acid string Peptide.\n",
      "## Output: The linear spectrum of Peptide.\n",
      "\n",
      "def linear_spectrum(peptide):\n",
      "    prefix_mass = [0]\n",
      "    linear_spectrum = [0]\n",
      "    for i in range(1, len(peptide)+1):\n",
      "        p = peptide[i-1]\n",
      "        prefix_mass.append(prefix_mass[i-1] + integer_mass_table[p])\n",
      "    for i in range(0, len(peptide)):\n",
      "        for j in range(i+1, len(peptide)+1):\n",
      "            linear_spectrum.append(prefix_mass[j] - prefix_mass[i])\n",
      "    return [x for x in sorted(linear_spectrum)]\n",
      "    \n",
      "#linear_spectrum(\"NQEL\")\n",
      "\n",
      "print linear_spectrum(\"FSWVHQKNWWGMFPDQMMWNRTVNKSQLTSFMVGVPKFPRE\")"
     ],
     "language": "python",
     "metadata": {},
     "outputs": [
      {
       "output_type": "stream",
       "stream": "stdout",
       "text": [
        "[0, 57, 57, 87, 87, 87, 97, 97, 97, 99, 99, 99, 99, 101, 101, 113, 114, 114, 114, 115, 128, 128, 128, 128, 128, 128, 129, 131, 131, 131, 131, 137, 147, 147, 147, 147, 156, 156, 156, 156, 186, 186, 186, 186, 188, 188, 196, 200, 212, 213, 214, 215, 215, 225, 230, 234, 234, 236, 241, 242, 242, 243, 243, 244, 244, 253, 253, 255, 256, 257, 259, 262, 265, 270, 273, 275, 278, 278, 285, 285, 287, 300, 300, 301, 314, 317, 324, 328, 329, 335, 335, 340, 341, 342, 343, 352, 356, 359, 364, 365, 370, 371, 372, 372, 372, 372, 374, 374, 375, 377, 381, 382, 386, 390, 393, 400, 420, 422, 428, 428, 429, 429, 429, 431, 432, 434, 442, 448, 448, 456, 456, 457, 464, 466, 469, 470, 470, 471, 471, 480, 483, 486, 487, 490, 492, 505, 507, 509, 516, 519, 521, 521, 528, 528, 529, 529, 533, 543, 547, 550, 556, 556, 557, 557, 560, 562, 565, 568, 570, 576, 576, 579, 584, 587, 598, 602, 606, 611, 614, 618, 618, 618, 620, 622, 625, 625, 627, 630, 637, 644, 656, 656, 657, 657, 663, 669, 671, 671, 674, 675, 678, 678, 685, 688, 690, 691, 693, 707, 707, 712, 717, 718, 721, 724, 724, 733, 735, 742, 749, 749, 754, 758, 758, 758, 765, 770, 770, 770, 781, 784, 787, 788, 791, 792, 792, 794, 799, 799, 802, 804, 805, 806, 806, 813, 818, 819, 821, 834, 845, 846, 853, 855, 857, 861, 863, 871, 879, 879, 880, 880, 893, 898, 901, 902, 905, 905, 910, 912, 918, 918, 919, 922, 926, 927, 930, 931, 935, 936, 937, 946, 947, 949, 950, 958, 961, 962, 978, 978, 985, 992, 992, 1002, 1004, 1009, 1011, 1021, 1026, 1027, 1029, 1032, 1033, 1035, 1036, 1040, 1046, 1046, 1047, 1049, 1049, 1058, 1059, 1059, 1062, 1065, 1066, 1067, 1077, 1078, 1089, 1093, 1105, 1113, 1114, 1116, 1123, 1123, 1135, 1135, 1140, 1141, 1146, 1158, 1159, 1160, 1160, 1161, 1161, 1161, 1164, 1166, 1174, 1177, 1178, 1180, 1187, 1190, 1192, 1205, 1206, 1212, 1214, 1221, 1226, 1228, 1234, 1236, 1237, 1244, 1245, 1247, 1251, 1258, 1261, 1274, 1274, 1275, 1287, 1288, 1289, 1289, 1291, 1291, 1292, 1303, 1306, 1308, 1309, 1309, 1311, 1313, 1327, 1334, 1335, 1336, 1346, 1352, 1357, 1372, 1374, 1375, 1375, 1375, 1388, 1390, 1392, 1392, 1393, 1398, 1402, 1403, 1405, 1410, 1414, 1417, 1420, 1421, 1423, 1423, 1426, 1431, 1437, 1439, 1455, 1458, 1459, 1475, 1487, 1488, 1490, 1491, 1491, 1494, 1495, 1499, 1500, 1503, 1506, 1516, 1518, 1519, 1525, 1536, 1545, 1548, 1548, 1549, 1551, 1554, 1561, 1579, 1586, 1586, 1587, 1587, 1588, 1588, 1589, 1593, 1596, 1605, 1609, 1609, 1615, 1616, 1618, 1646, 1647, 1647, 1650, 1653, 1662, 1663, 1674, 1676, 1679, 1680, 1683, 1685, 1692, 1692, 1707, 1711, 1715, 1716, 1716, 1717, 1723, 1731, 1733, 1734, 1737, 1744, 1760, 1761, 1762, 1765, 1778, 1779, 1784, 1791, 1798, 1802, 1803, 1804, 1816, 1823, 1823, 1828, 1830, 1832, 1835, 1839, 1848, 1851, 1858, 1859, 1862, 1863, 1865, 1865, 1866, 1872, 1879, 1893, 1915, 1916, 1919, 1922, 1922, 1926, 1929, 1931, 1945, 1947, 1951, 1954, 1960, 1965, 1970, 1975, 1979, 1979, 1980, 1986, 1993, 2002, 2007, 2015, 2016, 2019, 2021, 2044, 2045, 2050, 2053, 2057, 2066, 2073, 2076, 2078, 2079, 2079, 2082, 2101, 2101, 2106, 2108, 2108, 2110, 2116, 2116, 2116, 2133, 2135, 2144, 2163, 2163, 2163, 2172, 2175, 2181, 2188, 2193, 2197, 2204, 2207, 2207, 2207, 2209, 2215, 2230, 2236, 2236, 2238, 2245, 2264, 2272, 2272, 2287, 2294, 2294, 2294, 2296, 2303, 2306, 2310, 2319, 2321, 2321, 2335, 2335, 2337, 2349, 2351, 2353, 2371, 2373, 2374, 2386, 2393, 2401, 2401, 2408, 2416, 2422, 2434, 2434, 2441, 2441, 2449, 2449, 2450, 2450, 2450, 2452, 2472, 2472, 2488, 2498, 2515, 2521, 2535, 2536, 2536, 2537, 2540, 2547, 2549, 2549, 2557, 2562, 2571, 2572, 2572, 2577, 2581, 2586, 2597, 2629, 2635, 2636, 2644, 2646, 2649, 2658, 2664, 2664, 2671, 2677, 2678, 2684, 2685, 2696, 2701, 2703, 2709, 2714, 2723, 2728, 2728, 2745, 2750, 2757, 2774, 2777, 2785, 2791, 2792, 2793, 2801, 2806, 2813, 2815, 2824, 2827, 2832, 2834, 2837, 2844, 2870, 2871, 2878, 2884, 2892, 2900, 2905, 2914, 2921, 2921, 2921, 2924, 2929, 2958, 2962, 2963, 2965, 2971, 2981, 2984, 2991, 2999, 3001, 3006, 3018, 3028, 3042, 3052, 3068, 3070, 3077, 3086, 3086, 3091, 3093, 3100, 3105, 3109, 3112, 3115, 3141, 3143, 3157, 3165, 3167, 3173, 3174, 3199, 3206, 3214, 3214, 3230, 3233, 3240, 3242, 3243, 3256, 3256, 3271, 3295, 3296, 3301, 3303, 3320, 3321, 3327, 3329, 3342, 3353, 3353, 3370, 3371, 3377, 3399, 3414, 3428, 3442, 3448, 3450, 3452, 3467, 3470, 3476, 3481, 3498, 3508, 3509, 3515, 3515, 3527, 3539, 3561, 3581, 3595, 3595, 3602, 3607, 3607, 3626, 3628, 3638, 3662, 3662, 3664, 3695, 3706, 3723, 3723, 3725, 3742, 3749, 3749, 3763, 3763, 3793, 3824, 3839, 3851, 3860, 3862, 3870, 3880, 3881, 3892, 3896, 3949, 3959, 3967, 3979, 3988, 3995, 3998, 4010, 4027, 4036, 4048, 4087, 4095, 4123, 4124, 4126, 4135, 4135, 4145, 4183, 4232, 4232, 4234, 4251, 4252, 4273, 4282, 4331, 4360, 4379, 4380, 4388, 4420, 4487, 4507, 4507, 4517, 4517, 4604, 4616, 4654, 4673, 4751, 4760, 4802, 4889, 4907, 5036]\n"
       ]
      }
     ],
     "prompt_number": 40
    },
    {
     "cell_type": "code",
     "collapsed": false,
     "input": [
      "## Generating Theoretical Spectrum Problem: Generate the theoretical spectrum of a cyclic peptide.\n",
      "## Input: An amino acid string Peptide.\n",
      "## Output: Cyclospectrum(Peptide).\n",
      "\n",
      "def cyclic_spectrum(peptide):\n",
      "    prefix_mass = [0]\n",
      "    cyclic_spectrum = [0]\n",
      "    for i in range(1, len(peptide)+1):\n",
      "        p = peptide[i-1]\n",
      "        prefix_mass.append(prefix_mass[i-1] + integer_mass_table[p])\n",
      "    peptide_mass = prefix_mass[len(peptide)]\n",
      "    for i in range(0, len(peptide)):\n",
      "        for j in range(i+1, len(peptide)+1):\n",
      "            cyclic_spectrum.append(prefix_mass[j] - prefix_mass[i])\n",
      "            if i > 0 and j < len(peptide):\n",
      "                cyclic_spectrum.append(peptide_mass - (prefix_mass[j] - prefix_mass[i]))\n",
      "    return [x for x in sorted(cyclic_spectrum)]\n",
      "    \n",
      "print cyclic_spectrum(\"MARRLQSLFCST\")"
     ],
     "language": "python",
     "metadata": {},
     "outputs": [
      {
       "output_type": "stream",
       "stream": "stdout",
       "text": [
        "[0, 71, 87, 87, 101, 103, 113, 113, 128, 131, 147, 156, 156, 188, 190, 200, 202, 215, 227, 232, 241, 250, 260, 269, 291, 303, 312, 319, 328, 328, 337, 347, 358, 363, 383, 390, 397, 422, 425, 438, 441, 450, 450, 459, 475, 484, 493, 496, 514, 537, 546, 551, 553, 569, 578, 588, 597, 615, 624, 627, 638, 640, 640, 649, 665, 682, 691, 702, 711, 728, 744, 753, 753, 755, 766, 769, 778, 796, 805, 815, 824, 840, 842, 847, 856, 879, 897, 900, 909, 918, 934, 943, 943, 952, 955, 968, 971, 996, 1003, 1010, 1030, 1035, 1046, 1056, 1065, 1065, 1074, 1081, 1090, 1102, 1124, 1133, 1143, 1152, 1161, 1166, 1178, 1191, 1193, 1203, 1205, 1237, 1237, 1246, 1262, 1265, 1280, 1280, 1290, 1292, 1306, 1306, 1322, 1393]\n"
       ]
      }
     ],
     "prompt_number": 41
    },
    {
     "cell_type": "code",
     "collapsed": false,
     "input": [
      "## Counting Peptides with Given Mass Problem: Compute the number of peptides of given total mass.\n",
      "## Input: An integer m.\n",
      "## Output: The number of linear peptides having integer mass m.\n",
      "\n",
      "def pep_counter(m):\n",
      "    dic = {0:1}\n",
      "    minmum = min(amino_acid_masses)\n",
      "    for i in range(m - minmum+1):\n",
      "        j = i + minmum\n",
      "        for mass in amino_acid_masses:\n",
      "            if j-mass in dic:\n",
      "                dic[j] = dic.get(j, 0) + dic[j-mass]\n",
      "    return dic\n",
      "\n",
      "pep_counter(1265)[1265]"
     ],
     "language": "python",
     "metadata": {},
     "outputs": [
      {
       "metadata": {},
       "output_type": "pyout",
       "prompt_number": 42,
       "text": [
        "10864742522353L"
       ]
      }
     ],
     "prompt_number": 42
    },
    {
     "cell_type": "code",
     "collapsed": false,
     "input": [
      "l = []\n",
      "d = pep_counter(1265)\n",
      "for i in range(1265):\n",
      "    if i in d:\n",
      "        l += [d[i]]\n",
      "    else: \n",
      "        l += [0]\n",
      "        \n",
      "fig = plt.figure(figsize=(15,10), dpi=100)\n",
      "ax = fig.add_subplot(1,1,1)\n",
      "line, = ax.plot(l, color='red', lw=1)\n",
      "ax.set_yscale('log')\n",
      "plt.show()"
     ],
     "language": "python",
     "metadata": {},
     "outputs": [
      {
       "metadata": {},
       "output_type": "display_data",
       "png": "[encoded data removed]",
       "text": [
        "<matplotlib.figure.Figure at 0xc3cd128>"
       ]
      }
     ],
     "prompt_number": 43
    },
    {
     "cell_type": "markdown",
     "metadata": {},
     "source": [
      "We know that $y(n) = kC^n$ therefore $k = \\dfrac{y(n)}{C^n}$. Thus if $m > n$ then $C^{m-n} = \\dfrac{y(m)}{y(n)}$\n",
      "\n",
      "We take $m = n+1$ for $n \\rightarrow \\infty$ and calculate $\\dfrac{y(m)}{y(n)}$"
     ]
    },
    {
     "cell_type": "code",
     "collapsed": false,
     "input": [
      "## How many subpeptides does a linear peptide of given length n have? (Include the empty peptide and the entire peptide.)\n",
      "\n",
      "def number_linear(n):\n",
      "    return n*(n+1)/2+1\n",
      "\n",
      "def number_cyclic(n):\n",
      "    return n*(n-1)+2\n",
      "\n",
      "number_linear(21012)"
     ],
     "language": "python",
     "metadata": {},
     "outputs": [
      {
       "metadata": {},
       "output_type": "pyout",
       "prompt_number": 44,
       "text": [
        "220762579"
       ]
      }
     ],
     "prompt_number": 44
    },
    {
     "cell_type": "code",
     "collapsed": false,
     "input": [
      "def expand_peptides(p):\n",
      "    if len(p) == 0:\n",
      "        return amino_acids\n",
      "    else:\n",
      "        return [\"\".join((x, y)) for x in p for y in amino_acids]\n",
      "\n",
      "print expand_peptides([])"
     ],
     "language": "python",
     "metadata": {},
     "outputs": [
      {
       "output_type": "stream",
       "stream": "stdout",
       "text": [
        "['A', 'C', 'D', 'E', 'F', 'G', 'H', 'I', 'K', 'L', 'M', 'N', 'P', 'Q', 'R', 'S', 'T', 'V', 'W', 'Y']\n"
       ]
      }
     ],
     "prompt_number": 45
    },
    {
     "cell_type": "code",
     "collapsed": false,
     "input": [
      "def get_mass(peptide):\n",
      "    mass = 0\n",
      "    for p in peptide:\n",
      "        mass = mass + integer_mass_table[p]\n",
      "    return mass\n",
      "    \n",
      "print get_mass(\"NQEL\")   "
     ],
     "language": "python",
     "metadata": {},
     "outputs": [
      {
       "output_type": "stream",
       "stream": "stdout",
       "text": [
        "484\n"
       ]
      }
     ],
     "prompt_number": 46
    },
    {
     "cell_type": "code",
     "collapsed": false,
     "input": [
      "def check_consistent(peptide, spectrum):\n",
      "    result = True\n",
      "    for p in linear_spectrum(peptide):\n",
      "        if p not in spectrum:\n",
      "            result = False\n",
      "    return result\n",
      "\n",
      "spectrum = \"0 113 128 186 241 299 314 427\"\n",
      "spectrum = spectrum.split(\" \")\n",
      "spectrum = map(int, spectrum)\n",
      "\n",
      "check_consistent(\"I\", spectrum)"
     ],
     "language": "python",
     "metadata": {},
     "outputs": [
      {
       "metadata": {},
       "output_type": "pyout",
       "prompt_number": 47,
       "text": [
        "True"
       ]
      }
     ],
     "prompt_number": 47
    },
    {
     "cell_type": "code",
     "collapsed": false,
     "input": [
      "## Cyclopeptide Sequencing Problem: Given an ideal experimental spectrum, find a cyclic peptide whose theoretical \n",
      "## spectrum matches the experimental spectrum.\n",
      "## Input: A collection of (possibly repeated) integers Spectrum corresponding to an ideal experimental spectrum.\n",
      "## Output: An amino acid string Peptide such that Cyclospectrum(Peptide) = Spectrum (if such a string exists).\n",
      "\n",
      "def cyclopeptide_sequencing_problem(spectrum):\n",
      "    output = []\n",
      "    peptides = [\"\"]\n",
      "    while len(peptides) > 0:\n",
      "        peptides = expand_peptides(peptides)\n",
      "        for peptide in peptides[:]:\n",
      "            if get_mass(peptide) == max(spectrum):\n",
      "                if set(cyclic_spectrum(peptide)) == set(spectrum):\n",
      "                    d = \"-\".join(str(get_mass(x)) for x in peptide)\n",
      "                    output.append(d)\n",
      "                peptides.remove(peptide)                \n",
      "            else:\n",
      "                if check_consistent(peptide, spectrum) == False:\n",
      "                    peptides.remove(peptide)\n",
      "    return sorted(list(set(output)), reverse=True)\n",
      "        \n",
      "spectrum = map(int, \"\".join(open(\"./data/cyclopeptide_sequencing_problem.txt\")).split())\n",
      "\n",
      "print cyclopeptide_sequencing_problem(spectrum)"
     ],
     "language": "python",
     "metadata": {},
     "outputs": [
      {
       "output_type": "stream",
       "stream": "stdout",
       "text": [
        "['97-131-87-71-137-114-137-113-186-115', '97-115-186-113-137-114-137-71-87-131', '87-71-137-114-137-113-186-115-97-131', '87-131-97-115-186-113-137-114-137-71', '71-87-131-97-115-186-113-137-114-137', '71-137-114-137-113-186-115-97-131-87', '186-115-97-131-87-71-137-114-137-113', '186-113-137-114-137-71-87-131-97-115', '137-71-87-131-97-115-186-113-137-114', '137-114-137-71-87-131-97-115-186-113', '137-114-137-113-186-115-97-131-87-71', '137-113-186-115-97-131-87-71-137-114', '131-97-115-186-113-137-114-137-71-87', '131-87-71-137-114-137-113-186-115-97', '115-97-131-87-71-137-114-137-113-186', '115-186-113-137-114-137-71-87-131-97', '114-137-71-87-131-97-115-186-113-137', '114-137-113-186-115-97-131-87-71-137', '113-186-115-97-131-87-71-137-114-137', '113-137-114-137-71-87-131-97-115-186']\n"
       ]
      }
     ],
     "prompt_number": 48
    },
    {
     "cell_type": "code",
     "collapsed": false,
     "input": [
      "## Cyclopeptide Scoring Problem: Compute the score of a cyclic peptide against a spectrum.\n",
      "## Input: An amino acid string Peptide and a collection of integers Spectrum. \n",
      "## Output: The score of Peptide against Spectrum, Score(Peptide, Spectrum).\n",
      "\n",
      "def score(peptide, experimental_spectrum):\n",
      "    the_score = 0\n",
      "    theoretical_spectrum = cyclic_spectrum(peptide)\n",
      "    for p in experimental_spectrum:\n",
      "        if p in theoretical_spectrum:\n",
      "            the_score = the_score + 1\n",
      "            theoretical_spectrum.remove(p)\n",
      "    return the_score\n",
      "            \n",
      "## peptide = \"NQEL\" \n",
      "## spectrum = [0, 99, 113, 114, 128, 227, 257, 299, 355, 356, 370, 371, 484]\n",
      "\n",
      "string = \" \".join(open(\"./data/cyclopeptide_scoring_problem.txt\")).split()\n",
      "peptide = string[0]\n",
      "spectrum = [int(x) for x in string[1:]]\n",
      "score(peptide, spectrum)"
     ],
     "language": "python",
     "metadata": {},
     "outputs": [
      {
       "metadata": {},
       "output_type": "pyout",
       "prompt_number": 49,
       "text": [
        "574"
       ]
      }
     ],
     "prompt_number": 49
    },
    {
     "cell_type": "code",
     "collapsed": false,
     "input": [
      "string = urllib2.urlopen(\"https://d396qusza40orc.cloudfront.net/bioinformatics/data/antibiotics/CyclicScoring.txt\").read().split()\n",
      "peptide = string[1]\n",
      "spectrum = [int(x) for x in string[2:-2]]\n",
      "print score(peptide, spectrum), string[-1]"
     ],
     "language": "python",
     "metadata": {},
     "outputs": [
      {
       "output_type": "stream",
       "stream": "stdout",
       "text": [
        "521 521\n"
       ]
      }
     ],
     "prompt_number": 50
    },
    {
     "cell_type": "code",
     "collapsed": false,
     "input": [
      "## Compute the score of a linear peptide with respect to a spectrum.\n",
      "## Input: An amino acid string Peptide and a collection of integers Spectrum.\n",
      "## Output: The linear score of Peptide with respect to Spectrum, LinearScore(Peptide, Spectrum).\n",
      "\n",
      "def linear_score(peptide, experimental_spectrum):\n",
      "    the_score = 0\n",
      "    theoretical_spectrum = linear_spectrum(peptide)\n",
      "    for p in experimental_spectrum:\n",
      "        if p in theoretical_spectrum:\n",
      "            the_score = the_score + 1\n",
      "            theoretical_spectrum.remove(p)\n",
      "    return the_score\n",
      "            \n",
      "string = \" \".join(open(\"./data/linear_peptide_scoring_problem.txt\")).split()\n",
      "peptide = string[0]\n",
      "spectrum = [int(x) for x in string[1:]]\n",
      "linear_score(peptide, spectrum)"
     ],
     "language": "python",
     "metadata": {},
     "outputs": [
      {
       "metadata": {},
       "output_type": "pyout",
       "prompt_number": 51,
       "text": [
        "221"
       ]
      }
     ],
     "prompt_number": 51
    },
    {
     "cell_type": "code",
     "collapsed": false,
     "input": [
      "## Implement Trim (reproduced below).\n",
      "## Input: A collection of peptides Leaderboard, a collection of integers Spectrum, and an integer N.\n",
      "## Output: The N highest-scoring linear peptides on Leaderboard with respect to Spectrum.\n",
      "                \n",
      "def trim(leader_board, spectrum, N):\n",
      "    results = []\n",
      "    linear_scores = {}\n",
      "    for peptide in leader_board:\n",
      "        linear_scores[peptide] = linear_score(peptide, spectrum)  \n",
      "    d = sorted(linear_scores.items(), key=operator.itemgetter(1), reverse=True)\n",
      "    for k,v in d:\n",
      "        if v >= d[N-1][1]:\n",
      "            results.append(k)\n",
      "    return results\n",
      "        \n",
      "leader_board = [\"LAST\", \"ALST\", \"TLLT\", \"TQAS\"]\n",
      "spectrum = [0, 71, 87, 101, 113, 158, 184, 188, 259, 271, 372]\n",
      "N = 2\n",
      "\n",
      "trim(leader_board, spectrum, N)"
     ],
     "language": "python",
     "metadata": {},
     "outputs": [
      {
       "metadata": {},
       "output_type": "pyout",
       "prompt_number": 52,
       "text": [
        "['LAST', 'ALST']"
       ]
      }
     ],
     "prompt_number": 52
    },
    {
     "cell_type": "code",
     "collapsed": false,
     "input": [
      "string = \" \".join(open(\"./data/trimming_problem.txt\")).split(\"\\n\")\n",
      "leader_board = string[0].split()\n",
      "spectrum = [int(x) for x in string[1].split()]\n",
      "N = int(string[2].lstrip())\n",
      "\n",
      "trim(leader_board, spectrum, N)"
     ],
     "language": "python",
     "metadata": {},
     "outputs": [
      {
       "metadata": {},
       "output_type": "pyout",
       "prompt_number": 53,
       "text": [
        "['KLFPIKKYNGASPQYPEHEVTNCGGKWWWNFVKMTYW',\n",
        " 'PPQECVMSNERYLTRKEDWQGPSMENVMHNQFDACNY',\n",
        " 'SLGKQKGAWRCRVFKMIPQWVNYAQPLQRMTWYREYV',\n",
        " 'LSPSQAKFDKYCTYSSPEVGSMAWALQQNMTHMTTTQ',\n",
        " 'YQKQKVDPYCRLEDHRRSAINWAFQNKYIHMTEEITN']"
       ]
      }
     ],
     "prompt_number": 53
    },
    {
     "cell_type": "code",
     "collapsed": false,
     "input": [
      "## CODE CHALLENGE: Implement LEADERBOARDCYCLOPEPTIDESEQUENCING.\n",
      "## Input: An integer N and a collection of integers Spectrum.\n",
      "## Output: LeaderPeptide after running LEADERBOARDCYCLOPEPTIDESEQUENCING(Spectrum, N).\n",
      "\n",
      "def leaderboard_cyclopeptide_sequencing(spectrum, N):\n",
      "    leader_board = [\"\"]\n",
      "    leader_peptide = \"\"\n",
      "    while len(leader_board) > 0:\n",
      "        leader_board = expand_peptides(leader_board)\n",
      "        for peptide in leader_board:\n",
      "            peptide_mass = get_mass(peptide)\n",
      "            if peptide_mass == max(spectrum):\n",
      "                if score(peptide, spectrum) > score(leader_peptide, spectrum):\n",
      "                    leader_peptide = peptide\n",
      "            if peptide_mass > max(spectrum):\n",
      "                leader_board.remove(peptide)\n",
      "        leader_board = trim(leader_board, spectrum, N)\n",
      "    return leader_peptide    \n",
      "    \n",
      "N = 10\n",
      "spectrum = [0, 71, 113, 129, 147, 200, 218, 260, 313, 331, 347, 389, 460]\n",
      "\n",
      "## leaderboard_cyclopeptide_sequencing(spectrum, N)"
     ],
     "language": "python",
     "metadata": {},
     "outputs": [],
     "prompt_number": 54
    },
    {
     "cell_type": "markdown",
     "metadata": {},
     "source": [
      "# Chapter 3: Randomized Algorithms.\n",
      "> ## Which DNA Patterns Act As Cellular Clocks? "
     ]
    },
    {
     "cell_type": "code",
     "collapsed": false,
     "input": [
      "## Implanted Motif Problem: Find all (k, d)-motifs in a collection of strings.\n",
      "## Input: A collection of strings Dna, and integers k and d.\n",
      "## Output: All (k, d)-motifs in Dna.\n",
      "\n",
      "def motif_enumeration(dna, k, d):\n",
      "    neigborhoods = {}\n",
      "    for string in dna:\n",
      "        for i in range(len(string)-k+1):\n",
      "            k_mer = string[i: i+k]\n",
      "            neigborhood = neighbors(k_mer, d)\n",
      "            if string not in neigborhoods:\n",
      "                neigborhoods[string] = neigborhood\n",
      "            else:\n",
      "                neigborhoods[string] += neigborhood\n",
      "                \n",
      "    return \" \".join(sorted([x for x in set.intersection(*map(set, neigborhoods.values()))]))\n",
      "    \n",
      "dna = [\"ATTTGGC\", \"TGCCTTA\", \"CGGTATC\", \"GAAAATT\"]  \n",
      "k = 3 \n",
      "d = 1\n",
      "\n",
      "motif_enumeration(dna, k, d)"
     ],
     "language": "python",
     "metadata": {},
     "outputs": [
      {
       "metadata": {},
       "output_type": "pyout",
       "prompt_number": 55,
       "text": [
        "'ATA ATT GTT TTT'"
       ]
      }
     ],
     "prompt_number": 55
    },
    {
     "cell_type": "code",
     "collapsed": false,
     "input": [
      "string = \" \".join(open(\"./data/motif_enumeration_problem.txt\")).split()\n",
      "k = int(string[0])\n",
      "d = int(string[1])\n",
      "dna = [x for x in string[2].split()]\n",
      "\n",
      "motif_enumeration(dna, k, d)"
     ],
     "language": "python",
     "metadata": {},
     "outputs": [
      {
       "metadata": {},
       "output_type": "pyout",
       "prompt_number": 56,
       "text": [
        "'AAAAA AAAAC AAAAG AAAAT AAACA AAACC AAACG AAACT AAAGA AAAGC AAAGG AAAGT AAATA AAATC AAATG AAATT AACAA AACAC AACAG AACAT AACCA AACCG AACCT AACGA AACGC AACGG AACGT AACTA AACTC AACTG AACTT AAGAA AAGAC AAGAG AAGAT AAGCA AAGCG AAGCT AAGGA AAGGC AAGGG AAGGT AAGTA AAGTC AAGTG AAGTT AATAA AATAC AATAG AATAT AATCA AATCC AATCG AATCT AATGA AATGC AATGG AATGT AATTA AATTC AATTG AATTT ACAAA ACAAC ACAAG ACAAT ACACA ACACC ACACG ACACT ACAGA ACAGC ACAGG ACAGT ACATA ACATC ACATG ACATT ACCAA ACCAC ACCAG ACCAT ACCCT ACCGA ACCGG ACCGT ACCTA ACCTG ACCTT ACGAA ACGAC ACGAG ACGAT ACGCA ACGCC ACGCG ACGCT ACGGA ACGGC ACGGG ACGGT ACGTA ACGTC ACGTG ACGTT ACTAA ACTAC ACTAG ACTAT ACTCA ACTCT ACTGA ACTGC ACTGG ACTGT ACTTA ACTTG ACTTT AGAAA AGAAC AGAAG AGAAT AGACA AGACC AGACG AGACT AGAGA AGAGC AGAGG AGAGT AGATA AGATC AGATG AGATT AGCAA AGCAT AGCCA AGCCG AGCGA AGCGC AGCGG AGCGT AGCTA AGCTG AGGAA AGGAC AGGAG AGGAT AGGCA AGGCC AGGCG AGGCT AGGGA AGGGC AGGGG AGGGT AGGTA AGGTC AGGTG AGGTT AGTAA AGTAC AGTAG AGTAT AGTCA AGTCG AGTCT AGTGA AGTGC AGTGG AGTGT AGTTA AGTTG AGTTT ATAAA ATAAC ATAAG ATAAT ATACA ATACC ATACG ATACT ATAGA ATAGC ATAGG ATAGT ATATA ATATC ATATG ATATT ATCAA ATCAC ATCAG ATCAT ATCCA ATCGA ATCGT ATCTA ATCTC ATCTG ATCTT ATGAA ATGAC ATGAG ATGAT ATGCA ATGCC ATGCG ATGCT ATGGA ATGGC ATGGG ATGGT ATGTA ATGTC ATGTG ATGTT ATTAA ATTAC ATTAG ATTAT ATTCA ATTCT ATTGA ATTGC ATTGG ATTGT ATTTA ATTTC ATTTG ATTTT CAAAA CAAAC CAAAG CAAAT CAACA CAACC CAACG CAACT CAAGA CAAGC CAAGG CAAGT CAATA CAATC CAATG CAATT CACAA CACAC CACAG CACAT CACCA CACCG CACCT CACGA CACGG CACGT CACTA CACTC CACTG CACTT CAGAA CAGAC CAGAG CAGAT CAGCA CAGCG CAGCT CAGGA CAGGC CAGGG CAGGT CAGTA CAGTC CAGTG CAGTT CATAA CATAG CATAT CATCA CATCC CATCG CATCT CATGA CATGC CATGG CATGT CATTA CATTC CATTG CATTT CCAAA CCAAC CCAAG CCAAT CCACA CCACC CCACG CCACT CCAGA CCAGG CCAGT CCATA CCATC CCATG CCATT CCCAA CCCAC CCCAT CCCCA CCCGA CCCGG CCCTG CCGAA CCGAC CCGAG CCGAT CCGCA CCGCC CCGCG CCGGA CCGGC CCGGG CCGGT CCGTA CCGTC CCGTG CCTAC CCTAT CCTCA CCTCT CCTGA CCTGG CCTGT CCTTG CGAAA CGAAC CGAAG CGAAT CGACA CGACC CGACG CGACT CGAGA CGAGC CGAGG CGAGT CGATA CGATC CGATG CGATT CGCAA CGCAG CGCAT CGCCA CGCCC CGCCG CGCCT CGCGA CGCGC CGCGG CGCGT CGCTA CGCTG CGGAA CGGAC CGGAG CGGAT CGGCA CGGCC CGGCG CGGCT CGGGA CGGGC CGGGG CGGGT CGGTA CGGTC CGGTG CGGTT CGTAA CGTAC CGTAG CGTAT CGTCA CGTCC CGTCG CGTCT CGTGA CGTGC CGTGG CGTGT CGTTA CGTTG CGTTT CTAAA CTAAC CTAAG CTAAT CTACA CTACC CTACG CTACT CTAGA CTAGC CTAGG CTATA CTATC CTATG CTATT CTCAA CTCCA CTCGA CTCGG CTCTA CTCTC CTCTG CTGAA CTGAC CTGAG CTGAT CTGCA CTGCG CTGGA CTGGC CTGGG CTGGT CTGTA CTGTC CTGTG CTGTT CTTAA CTTAT CTTCA CTTCT CTTGA CTTGG CTTGT CTTTA CTTTC CTTTG GAAAA GAAAC GAAAG GAAAT GAACA GAACC GAACG GAACT GAAGA GAAGC GAAGG GAAGT GAATA GAATC GAATG GAATT GACAA GACAC GACAG GACAT GACCA GACCC GACCG GACCT GACGA GACGC GACGG GACGT GACTA GACTC GACTG GACTT GAGAA GAGAC GAGAG GAGAT GAGCA GAGCC GAGCG GAGCT GAGGA GAGGC GAGGG GAGGT GAGTA GAGTC GAGTG GATAA GATAC GATAG GATAT GATCA GATCC GATCG GATCT GATGA GATGC GATGG GATGT GATTA GATTC GATTG GATTT GCAAA GCAAC GCAAG GCAAT GCACA GCACC GCACG GCACT GCAGA GCAGC GCAGG GCAGT GCATA GCATC GCATG GCATT GCCAA GCCAC GCCAG GCCAT GCCCA GCCCC GCCCG GCCGA GCCGC GCCGG GCCGT GCCTA GCCTC GCGAA GCGAC GCGAG GCGAT GCGCA GCGCC GCGCG GCGCT GCGGA GCGGC GCGGG GCGGT GCGTA GCGTC GCGTG GCGTT GCTAA GCTAC GCTAG GCTAT GCTCC GCTCG GCTCT GCTGA GCTGC GCTGG GCTGT GCTTC GGAAA GGAAC GGAAG GGAAT GGACA GGACC GGACG GGACT GGAGA GGAGC GGAGG GGAGT GGATA GGATC GGATG GGATT GGCAA GGCAC GGCAG GGCAT GGCCA GGCCC GGCCG GGCCT GGCGA GGCGC GGCGG GGCGT GGCTA GGCTC GGCTG GGCTT GGGAA GGGAC GGGAG GGGAT GGGCA GGGCC GGGCG GGGCT GGGGA GGGGC GGGGG GGGGT GGGTA GGGTC GGGTG GGGTT GGTAA GGTAC GGTAG GGTAT GGTCA GGTCC GGTCG GGTCT GGTGA GGTGC GGTGG GGTGT GGTTA GGTTC GGTTG GGTTT GTAAA GTAAC GTAAG GTAAT GTACA GTACC GTACG GTACT GTAGA GTAGC GTAGG GTAGT GTATA GTATC GTATG GTATT GTCAA GTCAC GTCAG GTCAT GTCCA GTCCC GTCCG GTCGA GTCGC GTCGG GTCGT GTCTA GTCTC GTCTG GTCTT GTGAA GTGAC GTGAG GTGAT GTGCA GTGCC GTGCG GTGCT GTGGA GTGGC GTGGG GTGGT GTGTA GTGTC GTGTG GTGTT GTTAA GTTAC GTTAT GTTCC GTTCG GTTCT GTTGA GTTGC GTTGT GTTTA GTTTC GTTTG GTTTT TAAAA TAAAC TAAAG TAAAT TAACA TAACC TAACG TAACT TAAGA TAAGG TAAGT TAATA TAATC TAATG TAATT TACAA TACAC TACAG TACAT TACCA TACCC TACCG TACCT TACGA TACGG TACGT TACTA TACTG TACTT TAGAA TAGAC TAGAG TAGAT TAGCA TAGCC TAGCG TAGCT TAGGA TAGGC TAGGG TAGGT TAGTA TAGTG TAGTT TATAA TATAC TATAG TATAT TATCA TATCC TATCG TATCT TATGA TATGC TATGG TATGT TATTA TATTC TATTG TATTT TCAAA TCAAC TCAAG TCAAT TCACA TCACG TCACT TCAGA TCAGC TCAGG TCAGT TCATA TCATC TCATG TCATT TCCAA TCCAC TCCAG TCCAT TCCCG TCCCT TCCGA TCCGC TCCGG TCCGT TCCTG TCGAA TCGAC TCGAG TCGAT TCGCA TCGCC TCGCG TCGCT TCGGA TCGGC TCGGG TCGGT TCGTA TCGTC TCGTG TCGTT TCTAA TCTAC TCTAG TCTAT TCTCA TCTCC TCTCG TCTCT TCTGA TCTGC TCTGG TCTGT TCTTG TCTTT TGAAA TGAAC TGAAG TGAAT TGACA TGACC TGACG TGACT TGAGA TGAGC TGAGG TGAGT TGATA TGATC TGATG TGATT TGCAA TGCAC TGCAG TGCAT TGCCA TGCCG TGCCT TGCGA TGCGC TGCGG TGCGT TGCTA TGCTT TGGAA TGGAC TGGAG TGGAT TGGCA TGGCC TGGCG TGGCT TGGGA TGGGC TGGGG TGGGT TGGTA TGGTC TGGTG TGGTT TGTAA TGTAC TGTAG TGTAT TGTCA TGTCC TGTCG TGTCT TGTGA TGTGC TGTGG TGTGT TGTTA TGTTC TGTTG TGTTT TTAAA TTAAC TTAAG TTAAT TTACA TTACC TTACT TTAGA TTAGC TTAGG TTATA TTATC TTATG TTATT TTCAA TTCAT TTCCT TTCGA TTCGG TTCTA TTCTC TTGAA TTGAC TTGAG TTGAT TTGCA TTGCG TTGCT TTGGA TTGGC TTGGG TTGGT TTGTA TTGTC TTGTG TTGTT TTTAA TTTAC TTTAG TTTAT TTTCA TTTCC TTTCG TTTCT TTTGA TTTGG TTTGT TTTTA TTTTC TTTTT'"
       ]
      }
     ],
     "prompt_number": 56
    },
    {
     "cell_type": "code",
     "collapsed": false,
     "input": [
      "## CODE CHALLENGE: Implement DistanceBetweenPatternAndStrings.\n",
      "## Input: A string Pattern followed by a collection of strings Dna.\n",
      "## Output: d(Pattern, Dna).\n",
      "\n",
      "def distance_between_pattern_and_strings(pattern, dna):\n",
      "    k = len(pattern)\n",
      "    distance = 0\n",
      "    for text in dna:\n",
      "        h_distance = np.inf\n",
      "        for i in range(len(text)-k+1):\n",
      "            k_mer = text[i: i+k]\n",
      "            dummy_distance = hamming_distance(pattern, k_mer)\n",
      "            if h_distance > dummy_distance:\n",
      "                 h_distance = dummy_distance\n",
      "        distance = distance + h_distance\n",
      "    return distance    \n",
      "\n",
      "pattern = \"AAA\"\n",
      "dna = [\"TTACCTTAAC\", \"GATATCTGTC\", \"ACGGCGTTCG\", \"CCCTAAAGAG\", \"CGTCAGAGGT\"]\n",
      "\n",
      "distance_between_pattern_and_strings(pattern, dna)"
     ],
     "language": "python",
     "metadata": {},
     "outputs": [
      {
       "metadata": {},
       "output_type": "pyout",
       "prompt_number": 57,
       "text": [
        "5"
       ]
      }
     ],
     "prompt_number": 57
    },
    {
     "cell_type": "code",
     "collapsed": false,
     "input": [
      "string = \" \".join(open(\"./data/distance_between_pattern_and_strings_problem.txt\")).split(\"\\n\")\n",
      "pattern = string[0]\n",
      "dna = string[1].split()\n",
      "\n",
      "distance_between_pattern_and_strings(pattern, dna)"
     ],
     "language": "python",
     "metadata": {},
     "outputs": [
      {
       "metadata": {},
       "output_type": "pyout",
       "prompt_number": 58,
       "text": [
        "50"
       ]
      }
     ],
     "prompt_number": 58
    },
    {
     "cell_type": "code",
     "collapsed": false,
     "input": [
      "## Median String Problem: Find a median string.\n",
      "## Input: A collection of strings Dna and an integer k.\n",
      "## Output: A k-mer Pattern that minimizes d(Pattern, Dna) among all k-mers Pattern.\n",
      "            \n",
      "def median_string(dna, k):\n",
      "    distance = np.Inf\n",
      "    for i in range(4**k):\n",
      "        pattern = number_to_pattern(i, k)\n",
      "        dummy_distance = distance_between_pattern_and_strings(pattern, dna)\n",
      "        if distance > dummy_distance:\n",
      "            distance = dummy_distance\n",
      "            median = pattern\n",
      "    return median\n",
      "\n",
      "k = 3\n",
      "dna = [\"AAATTGACGCAT\", \"GACGACCACGTT\", \"CGTCAGCGCCTG\", \"GCTGAGCACCGG\", \"AGTACGGGACAG\"]\n",
      "\n",
      "median_string(dna, k)"
     ],
     "language": "python",
     "metadata": {},
     "outputs": [
      {
       "metadata": {},
       "output_type": "pyout",
       "prompt_number": 59,
       "text": [
        "'ACG'"
       ]
      }
     ],
     "prompt_number": 59
    },
    {
     "cell_type": "code",
     "collapsed": false,
     "input": [
      "string = \" \".join(open(\"./data/median_string_problem.txt\")).split()\n",
      "k = int(string[0])\n",
      "dna = string[1:]\n",
      "\n",
      "median_string(dna, k)"
     ],
     "language": "python",
     "metadata": {},
     "outputs": [
      {
       "metadata": {},
       "output_type": "pyout",
       "prompt_number": 60,
       "text": [
        "'ACGATC'"
       ]
      }
     ],
     "prompt_number": 60
    },
    {
     "cell_type": "code",
     "collapsed": false,
     "input": [
      "## Profile-most Probable k-mer Problem: Find a Profile-most probable k-mer in a string.\n",
      "## Input: A string Text, an integer k, and a 4 \u00d7 k matrix Profile.\n",
      "## Output: A Profile-most probable k-mer in Text.\n",
      "\n",
      "def profile_most_probable_kmer_problem(text, k, profile):\n",
      "    probabilities = {}\n",
      "    profile = np.matrix(profile).reshape(4, k)\n",
      "    for i in range(len(text)-k+1):\n",
      "        k_mer = text[i: i+k]\n",
      "        prob = 1\n",
      "        for j in range(len(k_mer)):\n",
      "            r = pattern_to_number(k_mer[j])\n",
      "            prob = prob * profile[r, j]\n",
      "        probabilities[k_mer] = prob\n",
      "    return max(probabilities.iteritems(), key=operator.itemgetter(1))[0]\n",
      "    \n",
      "text = \"ACCTGTTTATTGCCTAAGTTCCGAACAAACCCAATATAGCCCGAGGGCCT\"\n",
      "k = 5\n",
      "profile = [0.2, 0.2, 0.3, 0.2, 0.3, 0.4, 0.3, 0.1, 0.5, 0.1, 0.3, 0.3, 0.5, 0.2, 0.4, 0.1, 0.2, 0.1, 0.1, 0.2]\n",
      "\n",
      "profile_most_probable_kmer_problem(text, k, profile)"
     ],
     "language": "python",
     "metadata": {},
     "outputs": [
      {
       "metadata": {},
       "output_type": "pyout",
       "prompt_number": 61,
       "text": [
        "'CCGAG'"
       ]
      }
     ],
     "prompt_number": 61
    },
    {
     "cell_type": "code",
     "collapsed": false,
     "input": [
      "string = \" \".join(open(\"./data/profile_most_probable_kmer_problem.txt\")).split()\n",
      "text = string[0]\n",
      "k = int(string[1])\n",
      "profile = [float(x) for x in string[2:]]\n",
      "\n",
      "profile_most_probable_kmer_problem(text, k, profile)"
     ],
     "language": "python",
     "metadata": {},
     "outputs": [
      {
       "metadata": {},
       "output_type": "pyout",
       "prompt_number": 62,
       "text": [
        "'GTCATTTAGTACTTC'"
       ]
      }
     ],
     "prompt_number": 62
    },
    {
     "cell_type": "code",
     "collapsed": false,
     "input": [
      "def create_profile(motifs):\n",
      "    l = len(motifs)\n",
      "    k = len(motifs[0])\n",
      "    nucleotide = [\"A\", \"C\", \"G\", \"T\"]\n",
      "    count = np.zeros((4, k))\n",
      "    motifs = list(\"\".join(motifs))\n",
      "    motifs = np.array(motifs).reshape(l, k)\n",
      "    for j in range(k):\n",
      "        column = \"\".join(motifs[:,j])\n",
      "        for i in range(4):\n",
      "            count[i][j] = column.count(nucleotide[i])\n",
      "    profile = count * 1.0/len(motifs)\n",
      "    return [x for x in profile.ravel(order=\"C\")]\n",
      "\n",
      "motifs = [\"GGCGTTCAGGCA\", \"AAGAATCAGTCA\", \"CAAGGAGTTCGC\", \"CACGTCAATCAC\", \"CAATAATATTCG\"]\n",
      "print create_profile(motifs)"
     ],
     "language": "python",
     "metadata": {},
     "outputs": [
      {
       "output_type": "stream",
       "stream": "stdout",
       "text": [
        "[0.20000000000000001, 0.80000000000000004, 0.40000000000000002, 0.20000000000000001, 0.40000000000000002, 0.40000000000000002, 0.20000000000000001, 0.80000000000000004, 0.0, 0.0, 0.20000000000000001, 0.40000000000000002, 0.59999999999999998, 0.0, 0.40000000000000002, 0.0, 0.0, 0.20000000000000001, 0.40000000000000002, 0.0, 0.0, 0.40000000000000002, 0.59999999999999998, 0.40000000000000002, 0.20000000000000001, 0.20000000000000001, 0.20000000000000001, 0.59999999999999998, 0.20000000000000001, 0.0, 0.20000000000000001, 0.0, 0.40000000000000002, 0.20000000000000001, 0.20000000000000001, 0.20000000000000001, 0.0, 0.0, 0.0, 0.20000000000000001, 0.40000000000000002, 0.40000000000000002, 0.20000000000000001, 0.20000000000000001, 0.59999999999999998, 0.40000000000000002, 0.0, 0.0]\n"
       ]
      }
     ],
     "prompt_number": 63
    },
    {
     "cell_type": "code",
     "collapsed": false,
     "input": [
      "def score_motifs(motifs):\n",
      "    score = []\n",
      "    l = len(motifs)\n",
      "    k = len(motifs[0])\n",
      "    motifs = list(\"\".join(motifs))\n",
      "    motifs = np.array(motifs).reshape(l, k)\n",
      "    for j in range(k):\n",
      "        column = \"\".join(motifs[:,j])\n",
      "        score.append(l - collections.Counter(column).most_common(1)[0][1])\n",
      "    return sum(score)\n",
      "\n",
      "print score_motifs(motifs)"
     ],
     "language": "python",
     "metadata": {},
     "outputs": [
      {
       "output_type": "stream",
       "stream": "stdout",
       "text": [
        "28\n"
       ]
      }
     ],
     "prompt_number": 64
    },
    {
     "cell_type": "code",
     "collapsed": false,
     "input": [
      "## CODE CHALLENGE: Implement greedy_motif_search.\n",
      "## Input: Integers k and t, followed by a collection of strings dna.\n",
      "## Output: A collection of strings best_motifs resulting from applying greedy_motif_search(dna,k,t).\n",
      "## If at any step you find more than one Profile-most probable k-mer in a given string, use the one occurring first.\n",
      "\n",
      "def greedy_motif_search(dna, k, t):\n",
      "    best_motifs = [x[:k] for x in dna]\n",
      "    first_string_motifs = []\n",
      "    for i in range(len(dna[0]) - k+1):\n",
      "        first_string_motifs.append(dna[0][i:i+k])\n",
      "    for count in range(10000):\n",
      "        for motif in first_string_motifs:\n",
      "            motifs = []\n",
      "            motifs.append(motif)\n",
      "            for j in range(1, t):\n",
      "                text = dna[j]\n",
      "                profile = create_profile(motifs)\n",
      "                probable_kmer = profile_most_probable_kmer_problem(text, k, profile)\n",
      "                motifs.append(probable_kmer)\n",
      "            if score_motifs(motifs) < score_motifs(best_motifs):\n",
      "                best_motifs = motifs\n",
      "    return best_motifs\n",
      "    \n",
      "k = 4\n",
      "t = 5\n",
      "dna = [\"TTACCTTAAC\", \"AGGATCTGTC\", \"CCGACGTTAG\", \"CAGCAAGGTG\", \"CACCTGAGCT\"]\n",
      "\n",
      "print greedy_motif_search(dna, k, t)"
     ],
     "language": "python",
     "metadata": {},
     "outputs": [
      {
       "output_type": "stream",
       "stream": "stdout",
       "text": [
        "['ACCT', 'CTGT', 'ACGT', 'AAGG', 'ACCT']\n"
       ]
      }
     ],
     "prompt_number": 65
    },
    {
     "cell_type": "code",
     "collapsed": false,
     "input": [
      "profile = create_profile([\"ACCT\"])\n",
      "\n",
      "d = [\"TTACCTTAAC\"]\n",
      "[x[i:i+k] for x in d]"
     ],
     "language": "python",
     "metadata": {},
     "outputs": [
      {
       "metadata": {},
       "output_type": "pyout",
       "prompt_number": 66,
       "text": [
        "['']"
       ]
      }
     ],
     "prompt_number": 66
    },
    {
     "cell_type": "code",
     "collapsed": false,
     "input": [
      "## we define Motifs(Profile,Dna) as the collection of k-mers formed by the Profile-most probable k-mers in each sequence from Dna.\n",
      "\n",
      "def create_motifs(profile, dna):\n",
      "    motifs = []\n",
      "    k = len(profile)/4\n",
      "    for text in dna:\n",
      "        k_mer = profile_most_probable_kmer_problem(text, k, profile)\n",
      "        motifs.append(k_mer)\n",
      "    return motifs\n",
      "\n",
      "dna = ['TTACCTTAAC', 'GATGTCTGTC', 'ACGGCGTTAG', 'CCCTAACGAG', 'CGTCAGAGGT']\n",
      "profile = [4./5, 0, 0, 1./5, 0, 3./5, 1./5, 0, 1./5, 1./5, 4./5, 0, 0, 1./5, 0, 4./5]\n",
      "\n",
      "create_motifs(profile, dna)"
     ],
     "language": "python",
     "metadata": {},
     "outputs": [
      {
       "metadata": {},
       "output_type": "pyout",
       "prompt_number": 67,
       "text": [
        "['ACCT', 'ATGT', 'GCGT', 'ACGA', 'AGGT']"
       ]
      }
     ],
     "prompt_number": 67
    },
    {
     "cell_type": "code",
     "collapsed": false,
     "input": [
      "## Implement randomized_motif_search.\n",
      "## Input: Integers k and t, followed by a collection of strings Dna.\n",
      "## Output: A collection BestMotifs resulting from running randomized_motif_search(Dna, k, t) 1,000 times. Remember to use pseudocounts!\n",
      "\n",
      "def randomized_motif_search(dna, k, t):\n",
      "    results = []\n",
      "    for i in range(1000):\n",
      "        motifs = []\n",
      "        for j in range(t):\n",
      "            i = np.random.randint(len(dna[j]) - k+1)\n",
      "            motifs.append(dna[j][i:i+k])\n",
      "        best_motifs = list(motifs)\n",
      "        while True:\n",
      "            profile = np.array(create_profile(motifs)) + 1.0\n",
      "            motifs = create_motifs(profile, dna)\n",
      "            if score_motifs(motifs) < score_motifs(best_motifs):\n",
      "                best_motifs = list(motifs)\n",
      "            else:\n",
      "                results = list(best_motifs)\n",
      "                break\n",
      "    return results\n",
      "\n",
      "k = 8 \n",
      "t = 5\n",
      "dna = [\"CGCCCCTCTCGGGGGTGTTCAGTAAACGGCCA\", \"GGGCGAGGTATGTGTAAGTGCCAAGGTGCCAG\", \"TAGTACCGAGACCGAAAGAAGTATACAGGCGT\", \"TAGATCAAGTTTCAGGTGCACGTCGGTGAACC\", \"AATCCACCAGCTCCACGTGCAATGTTGGCCTA\"]\n",
      "\n",
      "randomized_motif_search(dna, k, t)"
     ],
     "language": "python",
     "metadata": {},
     "outputs": [
      {
       "metadata": {},
       "output_type": "pyout",
       "prompt_number": 68,
       "text": [
        "['AAACGGCC', 'AAGTGCCA', 'CCGAGACC', 'AAGTTTCA', 'CCACGTGC']"
       ]
      }
     ],
     "prompt_number": 68
    },
    {
     "cell_type": "code",
     "collapsed": false,
     "input": [
      "## CODE CHALLENGE: Implement GIBBSSAMPLER.\n",
      "## Input: Integers k, t, and N, followed by a collection of strings Dna.\n",
      "## Output: The strings best_motifs resulting from running gibbs_sampler(Dna, k, t, N) with 20 random starts. Remember to use pseudocounts!\n",
      "            \n",
      "def gibbs_sampler(dna, k, t, N):\n",
      "    motifs = []\n",
      "    for i in range(t):\n",
      "        r = np.random.randint(len(dna[i]) - k+1)\n",
      "        motifs.append(dna[i][r: r+k])\n",
      "    best_motifs = list(motifs)\n",
      "    for j in range(N):\n",
      "        r = np.random.randint(t)\n",
      "        matrix = [x for x in motifs if x != motifs[r]]\n",
      "        profile = create_profile(matrix) \n",
      "        if score_motifs(motifs) < score_motifs(best_motifs):\n",
      "            best_motifs = motifs\n",
      "    return best_motifs\n",
      "      \n",
      "k = 8 \n",
      "t = 5 \n",
      "N = 100\n",
      "dna = [\"CGCCCCTCTCGGGGGTGTTCAGTAAACGGCCA\", \"GGGCGAGGTATGTGTAAGTGCCAAGGTGCCAG\", \"TAGTACCGAGACCGAAAGAAGTATACAGGCGT\", \"TAGATCAAGTTTCAGGTGCACGTCGGTGAACC\", \"AATCCACCAGCTCCACGTGCAATGTTGGCCTA\"]\n",
      "\n",
      "gibbs_sampler(dna, k, t, N)"
     ],
     "language": "python",
     "metadata": {},
     "outputs": [
      {
       "metadata": {},
       "output_type": "pyout",
       "prompt_number": 69,
       "text": [
        "['CTCTCGGG', 'GAGGTATG', 'TAGTACCG', 'CAGGTGCA', 'CTCCACGT']"
       ]
      }
     ],
     "prompt_number": 69
    },
    {
     "cell_type": "markdown",
     "metadata": {},
     "source": [
      "# Chapter 4: How Do We Assemble Genomes? \n",
      "> ## Graph Algorithms."
     ]
    },
    {
     "cell_type": "code",
     "collapsed": false,
     "input": [],
     "language": "python",
     "metadata": {},
     "outputs": [],
     "prompt_number": 69
    }
   ],
   "metadata": {}
  }
 ]
}