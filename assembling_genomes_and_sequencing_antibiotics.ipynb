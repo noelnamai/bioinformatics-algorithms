{
 "cells": [
  {
   "cell_type": "code",
   "execution_count": 26,
   "metadata": {
    "collapsed": true
   },
   "outputs": [],
   "source": [
    "import operator\n",
    "import itertools\n",
    "\n",
    "%matplotlib inline  "
   ]
  },
  {
   "cell_type": "markdown",
   "metadata": {},
   "source": [
    "## The String Reconstruction Problem\n",
    "\n",
    "### CODE CHALLENGE: Solve the String Composition Problem.\n",
    "\n",
    "> Input: An integer $k$ and a string $Text$.\n",
    "\n",
    "> Output: $Composition_k(Text)$, where the $kmers$ are written in lexicographic order."
   ]
  },
  {
   "cell_type": "code",
   "execution_count": 2,
   "metadata": {
    "collapsed": false
   },
   "outputs": [],
   "source": [
    "def composition(text, k):\n",
    "    result = []\n",
    "    for i in range(len(text)-k+1):\n",
    "        result.append(text[i: i+k])\n",
    "    return sorted(result)"
   ]
  },
  {
   "cell_type": "code",
   "execution_count": 3,
   "metadata": {
    "collapsed": false,
    "scrolled": true
   },
   "outputs": [
    {
     "name": "stdout",
     "output_type": "stream",
     "text": [
      "AAAAAACATTATCTGGGATACAGGGACAGAACTCAAGAATGATTCCTACTCATTTTAGTAGAGTGAAGTCATACTCGTTGAAGAACCTTGCTAAACTAAT\n",
      "AAAAACATTATCTGGGATACAGGGACAGAACTCAAGAATGATTCCTACTCATTTTAGTAGAGTGAAGTCATACTCGTTGAAGAACCTTGCTAAACTAATG\n",
      "AAAAATACCCCGAACCTTTTTGTGTTGGTTAGTTCCAAGGTCACTTGGAATTCTTCACAGAGAGACCCGGTTTGCGATTGGCATGTTACTTTCTGACAGA\n",
      "AAAAATAGCCGCGTAGACGCTAACCAGAAAGCTGGTCGTTTCTCGATCATCTGTGTATTACCCCCACACAAAGACAATTGCTCGGTCTATATCAGAGTAG\n",
      "AAAACAGCGCTTCACCGAGGCTGCTCAGACTCACAGTGCATCAGGTCTCATTGGACGCTAAGCTGTGGTAACCGCGTAATTAATTTTTCACGCTTCCCGG\n",
      "AAAACATCAAGGTCGGCATATGAAAGCAATAATCCGTCACCGGGGTCTCGTCGGTTATTGCGTGGCATGCTCGATCACTTAGCTATCACCTAATTAGGCC\n",
      "AAAACATTATCTGGGATACAGGGACAGAACTCAAGAATGATTCCTACTCATTTTAGTAGAGTGAAGTCATACTCGTTGAAGAACCTTGCTAAACTAATGC\n",
      "AAAACCACTCTCAAACGGCAGAGTGGTACATCTAACGATGGAATTGACTTCGCACATGAAGTCTGTGAACTTCGATGACTCTGCCCCCCGAGTCCGAAAC\n",
      "AAAACCTCTGTGATAGCGCACTTACTTCGAGAAGCGACTCTGTATATCTTCTGCTAACTTACTTACAATCTAGGGGCGTGACAAGGGCTGAAGGTAGACC\n",
      "AAAACTCCACAGGGGTGGACACTGGACGACCCAAGTGGTAATCCATTGTGCCATACAGTCTGCGGCGATTCAATCTTACGTAGACGTCGTCCCGGCACTG\n"
     ]
    }
   ],
   "source": [
    "text_file = open(\"./data/string_composition.txt\")\n",
    "string = \"\".join(text_file).split() \n",
    "text_file.close()\n",
    "print \"\\n\".join(composition(string[1], int(string[0]))[:10])"
   ]
  },
  {
   "cell_type": "markdown",
   "metadata": {},
   "source": [
    "## String Spelled by a Genome Path Problem. \n",
    "\n",
    "### CODE CHALLENGE: Reconstruct a string from its genome path.\n",
    "     \n",
    "> Input: A sequence of $kmers$ $Pattern_1, \\dots ,Pattern_n$ such that the last $k-1$ symbols of $Pattern_i$ are equal to the first $k-1$ symbols of $Pattern_{i+1}$ for $1 \\le i \\le n-1$.\n",
    "     \n",
    "> Output: A string $Text$ of length $k+n-1$ such that the $i-th$ $kmer$ in $Text$ is equal to $Pattern_i$  for $1 \\le i \\le n$."
   ]
  },
  {
   "cell_type": "code",
   "execution_count": 4,
   "metadata": {
    "collapsed": false
   },
   "outputs": [],
   "source": [
    "def string_spelled_by_genome_path(patterns):\n",
    "    genome = patterns[0]\n",
    "    k = len(genome)\n",
    "    for i in range(1, len(patterns)):\n",
    "        genome = genome + patterns[i][k-1:]\n",
    "    return genome"
   ]
  },
  {
   "cell_type": "code",
   "execution_count": 5,
   "metadata": {
    "collapsed": false
   },
   "outputs": [
    {
     "name": "stdout",
     "output_type": "stream",
     "text": [
      "ACCCAGTCGCCGCGCCACGCTCCATCCAGAACAATTAAGAGCATCTTTAGCGCTGGAACAAACCAATCACGTTGAGCAAGTCGTAAACCGTCCATCGTTT\n"
     ]
    }
   ],
   "source": [
    "text_file = open(\"./data/genome_path.txt\")\n",
    "string = \"\".join(text_file).split() \n",
    "text_file.close()\n",
    "print string_spelled_by_genome_path(string)[:100]"
   ]
  },
  {
   "cell_type": "markdown",
   "metadata": {},
   "source": [
    "## Overlap Graph Problem.\n",
    "\n",
    "### CODE CHALLENGE: Solve the Overlap Graph Problem (restated below).\n",
    "     \n",
    "> Input: A collection Patterns of $kmers$.\n",
    "     \n",
    "> Output: The overlap graph $Overlap(Patterns)$, in the form of an adjacency list."
   ]
  },
  {
   "cell_type": "code",
   "execution_count": 6,
   "metadata": {
    "collapsed": false
   },
   "outputs": [],
   "source": [
    "def prefix(text):\n",
    "    return text[:-1]\n",
    "\n",
    "def suffix(text):\n",
    "    return text[1:]\n",
    "\n",
    "def overlap(patterns):\n",
    "    adjacency_list = []\n",
    "    patterns = sorted(patterns)\n",
    "    for i in range(len(patterns)):\n",
    "        for j in range(len(patterns)):\n",
    "            if patterns[i] != patterns[j] and prefix(patterns[j]) == suffix(patterns[i]):\n",
    "                adjacency_list.append(patterns[i] + \" -> \" + patterns[j])\n",
    "    return adjacency_list"
   ]
  },
  {
   "cell_type": "code",
   "execution_count": 7,
   "metadata": {
    "collapsed": false,
    "scrolled": true
   },
   "outputs": [
    {
     "name": "stdout",
     "output_type": "stream",
     "text": [
      "ATCTCCATAATCATTTCCCTCAGTG -> TCTCCATAATCATTTCCCTCAGTGA\n",
      "ATTAAGGCTCCTCGGCTACCGAACA -> TTAAGGCTCCTCGGCTACCGAACAT\n",
      "CAATTGGTATTGGGGCTCGCTTTTG -> AATTGGTATTGGGGCTCGCTTTTGA\n",
      "CACGAAGCATCAATAATTGACGTTA -> ACGAAGCATCAATAATTGACGTTAA\n",
      "CAGCTCGGTTAGGTGTCTGGCCATA -> AGCTCGGTTAGGTGTCTGGCCATAC\n",
      "CTCCTCGGCTACCGAACATCAGCAG -> TCCTCGGCTACCGAACATCAGCAGA\n",
      "GCGCGTCCCGAACAGGTCGATTTGA -> CGCGTCCCGAACAGGTCGATTTGAG\n",
      "TTAAGACTTCATTATGACCGTATAC -> TAAGACTTCATTATGACCGTATACA\n"
     ]
    }
   ],
   "source": [
    "text_file = open(\"./data/overlap_graph.txt\")\n",
    "string = \"\".join(text_file).split()[:250] \n",
    "text_file.close()\n",
    "print \"\\n\".join([x for x in overlap(string)])"
   ]
  },
  {
   "cell_type": "code",
   "execution_count": 8,
   "metadata": {
    "collapsed": false
   },
   "outputs": [
    {
     "data": {
      "text/plain": [
       "'\\nfor i in range(10):\\n    d = [string_spelled_by_genome_path(x.split(\" -> \")) for x in overlap(d)]\\n'"
      ]
     },
     "execution_count": 8,
     "metadata": {},
     "output_type": "execute_result"
    }
   ],
   "source": [
    "d = \"AAAT AATG ACCC ACGC ATAC ATCA ATGC CAAA CACC CATA CATC CCAG CCCA CGCT CTCA GCAT GCTC TACG TCAC TCAT TGCA\".split(\" \")\n",
    "\n",
    "\"\"\"\n",
    "for i in range(10):\n",
    "    d = [string_spelled_by_genome_path(x.split(\" -> \")) for x in overlap(d)]\n",
    "\"\"\""
   ]
  },
  {
   "cell_type": "markdown",
   "metadata": {},
   "source": [
    "## k-universal string\n",
    "\n",
    "A binary string is a string composed only of 0's and 1's; a binary string is $k-universal$ if it contains every binary $k-mer$ exactly once. For example, `0001110100` is a 3-universal string, as it contains each of the eight binary $3-mers$ (000, 001, 011, 111, 110, 101, 010, and 100) exactly once.\n",
    "\n",
    "Finding a $k-universal$ string is equivalent to solving the **String Reconstruction Problem** when the $k-mer$ composition is the collection of all binary $k-mers$. Thus, finding a $k-universal$ string is equivalent to finding a **Hamiltonian path** in the overlap graph formed on all binary k-mers (see the figure below). \n",
    "\n",
    "Although the Hamiltonian path below can easily be found by hand, **de Bruijn** was interested in constructing $k-universal$ strings for arbitrary values of $k$. For example, to find a 20-universal string, you would have to consider a graph with over a million nodes. It is absolutely unclear how to find a Hamiltonian path in such a huge graph, or even whether such a path exists!"
   ]
  },
  {
   "cell_type": "code",
   "execution_count": 9,
   "metadata": {
    "collapsed": false
   },
   "outputs": [],
   "source": [
    "def universal_string(patterns):\n",
    "    adjacency_list = []\n",
    "    patterns = sorted(patterns)\n",
    "    for i in range(len(patterns)):\n",
    "        for j in range(len(patterns)):\n",
    "            if patterns[i] != patterns[j] and prefix(patterns[j]) == suffix(patterns[i]):\n",
    "                adjacency_list.append(string_spelled_by_genome_path([patterns[i], patterns[j]]))\n",
    "    return adjacency_list\n",
    "\n",
    "patterns = [\"\".join(x) for x in itertools.product(\"01\", repeat=3)]\n",
    "path = universal_string(patterns)    "
   ]
  },
  {
   "cell_type": "markdown",
   "metadata": {},
   "source": [
    "## De Bruijn Graph \n",
    "\n",
    "### CODE CHALLENGE: Solve the De Bruijn Graph from a String Problem.\n",
    "\n",
    "> Input: An integer $k$ and a string $Text$.\n",
    "\n",
    "> Output: $DeBruijn_k(Text)$, in the form of an adjacency list."
   ]
  },
  {
   "cell_type": "code",
   "execution_count": 10,
   "metadata": {
    "collapsed": false
   },
   "outputs": [],
   "source": [
    "def de_bruijn(dna, k):\n",
    "    de_bruijn_dict = {}\n",
    "    for kmer in (dna[i: i+k] for i in xrange(len(dna)-k+1)):\n",
    "        if kmer[:-1] in de_bruijn_dict:\n",
    "            de_bruijn_dict[kmer[:-1]].append(kmer[1:])\n",
    "        else:\n",
    "            de_bruijn_dict[kmer[:-1]] = [kmer[1:]]\n",
    "    return [\" -> \".join([item[0], \",\".join(item[1])]) for item in de_bruijn_dict.items()]"
   ]
  },
  {
   "cell_type": "code",
   "execution_count": 11,
   "metadata": {
    "collapsed": false
   },
   "outputs": [
    {
     "name": "stdout",
     "output_type": "stream",
     "text": [
      "AGCAGAGTTCA -> GCAGAGTTCAC\n",
      "TATACTCTATT -> ATACTCTATTG\n",
      "TAGGGGCCCCC -> AGGGGCCCCCT\n",
      "GGGCTGTGACA -> GGCTGTGACAG\n",
      "GATCTCGGTCG -> ATCTCGGTCGA\n",
      "TCGGTCTGACG -> CGGTCTGACGG\n",
      "TCCTCATATCG -> CCTCATATCGT\n",
      "ACCTCATCACG -> CCTCATCACGC\n",
      "GTTATACTCTA -> TTATACTCTAT\n",
      "TCGATAATCCT -> CGATAATCCTG\n"
     ]
    }
   ],
   "source": [
    "text_file = open(\"./data/de_bruijn_graph.txt\")\n",
    "string = \"\".join(text_file).split()\n",
    "text_file.close()\n",
    "\n",
    "de_bruijn_graph = de_bruijn(string[1], int(string[0]))\n",
    "\n",
    "print \"\\n\".join(de_bruijn_graph[:10])\n",
    "with open(\"./data/output/de_bruijn_graph.txt\", \"w\") as output_data:\n",
    "    output_data.write(\"\\n\".join(de_bruijn_graph))"
   ]
  },
  {
   "cell_type": "markdown",
   "metadata": {},
   "source": [
    "## CODE CHALLENGE: Solve the de Bruijn Graph from k-mers Problem.\n",
    "    \n",
    "### DeBruijn Graph from k-mers Problem: Construct the de Bruijn graph from a set of k-mers.\n",
    "\n",
    "> Input: A collection of k-mers $Patterns$.\n",
    "\n",
    "> Output: The adjacency list of the de Bruijn graph $DeBruijn(Patterns)$."
   ]
  },
  {
   "cell_type": "code",
   "execution_count": 12,
   "metadata": {
    "collapsed": false
   },
   "outputs": [],
   "source": [
    "def de_bruijn_kmers(kmers):\n",
    "    de_bruijn_dict = dict()\n",
    "    for kmer in kmers:\n",
    "        if kmer[:-1] in de_bruijn_dict:\n",
    "            de_bruijn_dict[kmer[:-1]].append(kmer[1:])\n",
    "        else:\n",
    "            de_bruijn_dict[kmer[:-1]] = [kmer[1:]]\n",
    "    return [\" -> \".join([item[0], \",\".join(item[1])]) for item in de_bruijn_dict.items()]    "
   ]
  },
  {
   "cell_type": "code",
   "execution_count": 13,
   "metadata": {
    "collapsed": false
   },
   "outputs": [
    {
     "data": {
      "text/plain": [
       "['GCA -> CAT',\n",
       " 'GGT -> GTC',\n",
       " 'GCC -> CCG',\n",
       " 'ACG -> CGT',\n",
       " 'ATC -> TCC',\n",
       " 'GCG -> CGA,CGC,CGA,CGC,CGA',\n",
       " 'AGC -> GCC',\n",
       " 'ACA -> CAA,CAG',\n",
       " 'TCC -> CCT',\n",
       " 'TAG -> AGG,AGA,AGA',\n",
       " 'CCC -> CCC',\n",
       " 'TTC -> TCG',\n",
       " 'CAA -> AAG',\n",
       " 'AGT -> GTA,GTA,GTT,GTA,GTA',\n",
       " 'CGT -> GTA,GTA',\n",
       " 'AAG -> AGA,AGC,AGA']"
      ]
     },
     "execution_count": 13,
     "metadata": {},
     "output_type": "execute_result"
    }
   ],
   "source": [
    "kmers = [\"GCGA\",\"CAAG\",\"AAGA\",\"GCCG\",\"ACAA\",\"AGTA\",\"TAGG\",\"AGTA\",\"ACGT\",\"AGCC\",\"TTCG\",\"AGTT\",\"AGTA\",\"CGTA\",\"GCGC\",\"GCGA\",\n",
    "       \"GGTC\",\"GCAT\",\"AAGC\",\"TAGA\",\"ACAG\",\"TAGA\",\"TCCT\",\"CCCC\",\"GCGC\",\"ATCC\",\"AGTA\",\"AAGA\",\"GCGA\",\"CGTA\"]\n",
    "de_bruijn_kmers(kmers)"
   ]
  },
  {
   "cell_type": "code",
   "execution_count": 14,
   "metadata": {
    "collapsed": false
   },
   "outputs": [
    {
     "name": "stdout",
     "output_type": "stream",
     "text": [
      "GCGGGGGGAGTAAATGGAA -> CGGGGGGAGTAAATGGAAA\n",
      "TATACGACGGAGTTATACG -> ATACGACGGAGTTATACGT\n",
      "TGCTGAAATGGTTAAGGTC -> GCTGAAATGGTTAAGGTCA\n",
      "AGATTGAAGTACAATCGGC -> GATTGAAGTACAATCGGCC\n",
      "GCACGCGAGATCCCTCCAA -> CACGCGAGATCCCTCCAAC\n",
      "GAGCTGTACCTAATCGTTT -> AGCTGTACCTAATCGTTTC\n",
      "ACGCCAACCCAATTTGACC -> CGCCAACCCAATTTGACCA\n",
      "ATCGGCTTCCTTCTGTAGC -> TCGGCTTCCTTCTGTAGCG\n",
      "CGGAATGCCTGTTTGAGTT -> GGAATGCCTGTTTGAGTTA\n",
      "AACCCTAGCCGTGCGGGGG -> ACCCTAGCCGTGCGGGGGG\n"
     ]
    }
   ],
   "source": [
    "text_file = open(\"./data/de_bruijn_graph_kmers.txt\")\n",
    "kmers = \"\".join(text_file).split()\n",
    "text_file.close()\n",
    "\n",
    "de_bruijn_graph = de_bruijn_kmers(kmers)\n",
    "\n",
    "print \"\\n\".join(de_bruijn_graph[:10])\n",
    "with open(\"./data/output/de_bruijn_graph_kmers.txt\", \"w\") as output_data:\n",
    "    output_data.write(\"\\n\".join(de_bruijn_graph))"
   ]
  },
  {
   "cell_type": "markdown",
   "metadata": {},
   "source": [
    "## CODE CHALLENGE: Solve the Eulerian Cycle Problem.\n",
    "\n",
    "> Input: The adjacency list of an Eulerian directed graph.\n",
    "\n",
    "> Output: An Eulerian cycle in this graph."
   ]
  },
  {
   "cell_type": "code",
   "execution_count": 15,
   "metadata": {
    "collapsed": true
   },
   "outputs": [],
   "source": [
    "def eulerian_cycle(edge_dict):\n",
    "    # Generates an Eulerian cycle from the given edges.\n",
    "    current_node = edge_dict.keys()[0]\n",
    "    path = [current_node]\n",
    "\n",
    "    # Get the initial cycle.\n",
    "    while True:\n",
    "        path.append(edge_dict[current_node][0])\n",
    "        if len(edge_dict[current_node]) == 1:\n",
    "            del edge_dict[current_node]\n",
    "        else:\n",
    "            edge_dict[current_node] = edge_dict[current_node][1:]\n",
    "        if path[-1] in edge_dict:\n",
    "            current_node = path[-1]\n",
    "        else:\n",
    "            break\n",
    "\n",
    "    # Continually expand the initial cycle until we're out of edge_dict.\n",
    "    while len(edge_dict) > 0:\n",
    "        for i in xrange(len(path)):\n",
    "            if path[i] in edge_dict:\n",
    "                current_node = path[i]\n",
    "                cycle = [current_node]\n",
    "                while True:\n",
    "                    cycle.append(edge_dict[current_node][0])\n",
    "                    if len(edge_dict[current_node]) == 1:\n",
    "                        del edge_dict[current_node]\n",
    "                    else:\n",
    "                        edge_dict[current_node] = edge_dict[current_node][1:]\n",
    "                    if cycle[-1] in edge_dict:\n",
    "                        current_node = cycle[-1]\n",
    "                    else:\n",
    "                        break\n",
    "                path = path[:i] + cycle + path[i+1:]\n",
    "                break\n",
    "    return path"
   ]
  },
  {
   "cell_type": "code",
   "execution_count": 16,
   "metadata": {
    "collapsed": false
   },
   "outputs": [
    {
     "name": "stdout",
     "output_type": "stream",
     "text": [
      "0->156->154->184->186->185->780->778->779->1919->2212->2214->2213->1919->1920->1918->779->185->154->155->772->1006->1177->1179->2239->2240->2241->2483->2482->2484->2241->1179->1178->1006->1007->1008->772->1340->1341->1339->772->773->774->155->0->3->1401->1399->1400->2772->2771->2770->1400->3->1->4->75->282->436->437->438->282->1221->2349->2347->2348->1221->1220->1219->282->281->280->1863->1862->1861->280->2788->2789->2790->280->75->73->119->136->654->805->807->806->654->653->2466->2464->2465->653->652->136->138->137->423->421\n"
     ]
    }
   ],
   "source": [
    "# Read the input data.\n",
    "with open(\"./data/eulerian_cycle.txt\") as input_data:\n",
    "    edges = {}\n",
    "    for edge in [line.strip().split(\" -> \") for line in input_data.readlines()]:\n",
    "        if \",\" in edge[1]:\n",
    "            edges[int(edge[0])] = map(int,edge[1].split(\",\"))\n",
    "        else:\n",
    "            edges[int(edge[0])] = [int(edge[1])]\n",
    "\n",
    "# Get the Eulerian cycle.\n",
    "path = eulerian_cycle(edges)\n",
    "# Print and save the answer.\n",
    "print \"->\".join(map(str, path[:100]))\n",
    "with open(\"./data/output/eulerian_cycle.txt\", \"w\") as output_data:\n",
    "    output_data.write(\"->\".join(map(str, path)))"
   ]
  },
  {
   "cell_type": "code",
   "execution_count": 17,
   "metadata": {
    "collapsed": false
   },
   "outputs": [
    {
     "name": "stdout",
     "output_type": "stream",
     "text": [
      "0->156->154->184->186->185->780->778->779->1919->2212->2214->2213->1919->1920->1918->779->185->154->155->772->1340->1341->1339->772->1006->1177->1179->2239->2240->2241->2483->2482->2484->2241->1179->1178->1006->1007->1008->772->773->774->155->0->3->1401->1399->1400->2772->2771->2770->1400->3->1->4->2139->2138->2137->4->82->84->355->357->356->84->83->367->398->397->1362->1360->1460->1459->1461->1360->1361->397->399->367->1273->1274->1768->1917->1916->1915->1768->1770->1769->2154->2152->2331->2330->2329->2152->2153->1769->1274->1275->367\n"
     ]
    }
   ],
   "source": [
    "import networkx as nx\n",
    "\n",
    "# Read the input data.\n",
    "with open(\"./data/eulerian_cycle.txt\") as input_data:\n",
    "    edges = [line.strip().split(\" -> \") for line in input_data.readlines()]\n",
    "\n",
    "# Properly format the edges.\n",
    "edges2 = []\n",
    "for edge in edges:\n",
    "    if \",\" in edge[1]:\n",
    "        for node in edge[1].split(\",\"):\n",
    "            edges2.append(map(int, [edge[0], node]))\n",
    "    else:\n",
    "        edges2.append(map(int, edge))\n",
    "\n",
    "# Create the graph.\n",
    "G = nx.DiGraph()\n",
    "G.add_edges_from(edges2)\n",
    "\n",
    "# Find an eulerian cycle.\n",
    "path = [str(e[0]) for e in nx.eulerian_circuit(G)]\n",
    "path.append(path[0])\n",
    "\n",
    "# Print and save the answer.\n",
    "print \"->\".join(path[:100])"
   ]
  },
  {
   "cell_type": "markdown",
   "metadata": {},
   "source": [
    "## CODE CHALLENGE: Solve the Eulerian Path Problem.\n",
    "\n",
    "> Input: The adjacency list of a directed graph that has an Eulerian path.\n",
    "\n",
    "> Output: An Eulerian path in this graph."
   ]
  },
  {
   "cell_type": "code",
   "execution_count": 18,
   "metadata": {
    "collapsed": true
   },
   "outputs": [],
   "source": [
    "def eulerian_path(edge_dict):\n",
    "    # Returns an Eulerian path from the given edges.\n",
    "    # Determine the unbalanced edges.\n",
    "    out_values = reduce(lambda a,b: a+b, edge_dict.values())\n",
    "    for node in set(out_values+edge_dict.keys()):\n",
    "        out_value = out_values.count(node)\n",
    "        if node in edge_dict:\n",
    "            in_value = len(edge_dict[node])\n",
    "        else:\n",
    "            in_value = 0\n",
    "        if in_value < out_value:\n",
    "            unbalanced_from = node\n",
    "        elif out_value < in_value:\n",
    "            unbalanced_to = node\n",
    "\n",
    "    # Add an edge connecting the unbalanced edges.\n",
    "    if unbalanced_from in edge_dict:\n",
    "        edge_dict[unbalanced_from].append(unbalanced_to)\n",
    "    else:\n",
    "        edge_dict[unbalanced_from] = [unbalanced_to]\n",
    "\n",
    "    # Get the Eulerian Cycle from the edges, including the unbalanced edge.\n",
    "    cycle = eulerian_cycle(edge_dict)\n",
    "\n",
    "    # Find the location of the unbalanced edge in the eulerian cycle.\n",
    "    divide_point = filter(lambda i: cycle[i:i+2] == [unbalanced_from, unbalanced_to], xrange(len(cycle)-1))[0]\n",
    "\n",
    "    # Remove the unbalanced edge, and shift appropriately, overlapping the head and tail.\n",
    "    return cycle[divide_point+1:]+cycle[1:divide_point+1]"
   ]
  },
  {
   "cell_type": "code",
   "execution_count": 19,
   "metadata": {
    "collapsed": false
   },
   "outputs": [
    {
     "name": "stdout",
     "output_type": "stream",
     "text": [
      "1135->1136->639->638->15->13->2507->2508->2506->13->47->48->603->1823->1824->1822->2409->2408->2407->1822->603->2009->2010->2008->2079->2077->2078->2008->603->2013->2012->2011->603->601->1326->1325->1324->601->602->48->46->13->821->822->1206->1205->2065->2067->2066->1205->1204->822->820->13->0->22->883->885->928->929->1803->1801->1802->929->930->885->1243->1245->2202->2201->2200->1245->1244->2525->2524->2526->1244->885->884->22->176->175->177->22->24->1587->2108->2109->2107->1587->1586->1585->24->23->0->308->309->307->827->2486\n"
     ]
    }
   ],
   "source": [
    "# Read the input data.\n",
    "with open(\"./data/eulerian_path.txt\") as input_data:\n",
    "    edges = {}\n",
    "    for edge in [line.strip().split(\" -> \") for line in input_data.readlines()]:\n",
    "        if \",\" in edge[1]:\n",
    "            edges[int(edge[0])] = map(int,edge[1].split(\",\"))\n",
    "        else:\n",
    "            edges[int(edge[0])] = [int(edge[1])]\n",
    "\n",
    "# Get the Eulerian path associated with the edges.\n",
    "path = eulerian_path(edges)\n",
    "\n",
    "# Print and save the answer.\n",
    "print \"->\".join(map(str, path[:100]))\n",
    "with open(\"./data/output/eulerian_path.txt\", \"w\") as output_data:\n",
    "    output_data.write(\"->\".join(map(str, path)))"
   ]
  },
  {
   "cell_type": "markdown",
   "metadata": {},
   "source": [
    "## CODE CHALLENGE: Solve the String Reconstruction Problem.\n",
    "\n",
    "> Input: An integer $k$ followed by a list of k-mers $Patterns$.\n",
    "    \n",
    "> Output: A string $Text$ with k-mer composition equal to $Patterns$. (If multiple answers exist, you may return any one.)"
   ]
  },
  {
   "cell_type": "code",
   "execution_count": 20,
   "metadata": {
    "collapsed": false
   },
   "outputs": [
    {
     "data": {
      "text/plain": [
       "'\\n# Read the input data.\\nwith open(\"./data/string_reconstruction_problem.txt\") as input_data:\\n    string_dict = {line.strip().split(\\' -> \\')[0]:line.strip().split(\\' -> \\')[1] for line in input_data.readlines()}\\n    \\n# Find the head and tail strings of the reconstructed string.\\nhead = filter(lambda x: x not in string_dict.values(), string_dict.keys())[0]\\ntail = filter(lambda x: x not in string_dict.keys(), string_dict.values())[0]\\n\\n# Initialize the reconstruction process, starting at the head.\\nreconstructed_str = head[0]\\ncurrent_str = head\\n\\n# Iterate over all intermediary strings, appending the first character to reconstruct the string.\\nwhile current_str != tail:\\n    current_str = string_dict[current_str]\\n    reconstructed_str += current_str[0]\\n\\n# Complete the reconstruction by adding the end of the tail.\\nreconstructed_str += tail[1:]\\n\\n\\n    \\n# Print and save the answer.\\nprint reconstructed_str\\nwith open(\"./data/output/string_reconstruction_problem.txt\", \\'w\\') as output_data:\\n    output_data.write(reconstructed_str)\\n'"
      ]
     },
     "execution_count": 20,
     "metadata": {},
     "output_type": "execute_result"
    }
   ],
   "source": [
    "\"\"\"\n",
    "# Read the input data.\n",
    "with open(\"./data/string_reconstruction_problem.txt\") as input_data:\n",
    "    string_dict = {line.strip().split(' -> ')[0]:line.strip().split(' -> ')[1] for line in input_data.readlines()}\n",
    "    \n",
    "# Find the head and tail strings of the reconstructed string.\n",
    "head = filter(lambda x: x not in string_dict.values(), string_dict.keys())[0]\n",
    "tail = filter(lambda x: x not in string_dict.keys(), string_dict.values())[0]\n",
    "\n",
    "# Initialize the reconstruction process, starting at the head.\n",
    "reconstructed_str = head[0]\n",
    "current_str = head\n",
    "\n",
    "# Iterate over all intermediary strings, appending the first character to reconstruct the string.\n",
    "while current_str != tail:\n",
    "    current_str = string_dict[current_str]\n",
    "    reconstructed_str += current_str[0]\n",
    "\n",
    "# Complete the reconstruction by adding the end of the tail.\n",
    "reconstructed_str += tail[1:]\n",
    "\n",
    "\n",
    "    \n",
    "# Print and save the answer.\n",
    "print reconstructed_str\n",
    "with open(\"./data/output/string_reconstruction_problem.txt\", 'w') as output_data:\n",
    "    output_data.write(reconstructed_str)\n",
    "\"\"\""
   ]
  },
  {
   "cell_type": "markdown",
   "metadata": {},
   "source": [
    "## CODE CHALLENGE: Solve the k-Universal Circular String Problem.\n",
    "\n",
    "> Input: An integer $k$.\n",
    "    \n",
    "> Output: A $k-universal$ circular string."
   ]
  },
  {
   "cell_type": "code",
   "execution_count": 21,
   "metadata": {
    "collapsed": true
   },
   "outputs": [],
   "source": [
    "def circular_string_problem(k):\n",
    "    # Create the edges.\n",
    "    universal_dict = {}\n",
    "    for kmer in [''.join(item) for item in itertools.product('01', repeat=k)]:\n",
    "        if kmer[:-1] in universal_dict:\n",
    "            universal_dict[kmer[:-1]].append(kmer[1:])\n",
    "        else:\n",
    "            universal_dict[kmer[:-1]] = [kmer[1:]]\n",
    "\n",
    "    # Get the cycle, remove the repeated last entry for the associated path.\n",
    "    path = eulerian_cycle(universal_dict)\n",
    "    return \"\".join([item[0] for item in path[:-1]])"
   ]
  },
  {
   "cell_type": "code",
   "execution_count": 22,
   "metadata": {
    "collapsed": false
   },
   "outputs": [
    {
     "name": "stdout",
     "output_type": "stream",
     "text": [
      "00000101011111011100111011101111011111110011111111101100111001100111101101101111001101111100001101100001111100100100101100100110100100111100101101100101110100101111110001100110001101110001110110001111110100110110100111110101100110101101110101110110101111000001101000001111000100111000101101000101111010000111010001101010001111010100111010101011010101110000001110000100110000101110010000110010001110010100010010100110010101010010101100010001100010100100010101000010001000010100000000010000001011000000011000001001\n"
     ]
    }
   ],
   "source": [
    "# Read the input data.\n",
    "with open(\"data/circular_string_problem.txt\") as input_data:\n",
    "    k = int(input_data.read().strip())\n",
    "    \n",
    "string = circular_string_problem(k)\n",
    "\n",
    "# Print and save the answer.\n",
    "print string\n",
    "with open(\"./data/output/circular_string_problem.txt\", \"w\") as output_data:\n",
    "    output_data.write(string)"
   ]
  },
  {
   "cell_type": "markdown",
   "metadata": {},
   "source": [
    "## CODE CHALLENGE: Solve the String Reconstruction from Read-Pairs Problem.\n",
    "\n",
    "> Input: Integers $k$ and $d$ followed by a collection of paired k-mers $PairedReads$.\n",
    "\n",
    "> Output: A string $Text$ with $(k, d)-mer$ composition equal to $PairedReads$."
   ]
  },
  {
   "cell_type": "code",
   "execution_count": 23,
   "metadata": {
    "collapsed": true
   },
   "outputs": [],
   "source": [
    "def string_reconstruction_from_readpairs_problem(k, d, paired_reads):\n",
    "    # Construct a dictionary of edges from the paired reads.\n",
    "    paired_dict = {}\n",
    "    for pair in paired_reads:\n",
    "        if (pair[0][:-1], pair[1][:-1]) in paired_dict:\n",
    "            paired_dict[(pair[0][:-1], pair[1][:-1])].append((pair[0][1:], pair[1][1:]))\n",
    "        else:\n",
    "            paired_dict[(pair[0][:-1], pair[1][:-1])] = [(pair[0][1:], pair[1][1:])]\n",
    "\n",
    "    # Get an eulerian path from the paired edges.\n",
    "    paired_path = eulerian_path(paired_dict)\n",
    "    # Recombine the paths, accounting for their overlaps.\n",
    "    strings = [paired_path[0][i] + \"\".join(map(lambda x: x[i][-1], paired_path[1:])) for i in xrange(2)]\n",
    "    text = strings[0][:k+d] + strings[1]\n",
    "    return text"
   ]
  },
  {
   "cell_type": "code",
   "execution_count": 24,
   "metadata": {
    "collapsed": false
   },
   "outputs": [
    {
     "name": "stdout",
     "output_type": "stream",
     "text": [
      "ACTAGTCTGCTTTTCTACGGCTTCTCGGTGTCCTGTATAATCGCTTTTGGAGTAGCTGCCCAAAAAGTAATGACCCGCGTTTACAGAGAGAGATCCGGGCGGATAGCTGTGCGCATTTACGCGCAACCTAGTCTGCTTTTCTACGGCTTCTCGGTGTCCTGTATAATCGCTTTTGGAGCAAGTATATTACGGGTCGCAAGGGTTGGATCGTCAACCGACCCAGCACACCTTGTGCCGGCGGAACTTGTTACAATGGCTGATCCTTGACGGCTGCGACAGCGCTACACTGTCGCGAAAGAGGATGGGCTAACGTAGTCTGCTTTTCTACGGCTTCTCGGTGTCCTGTATAATCGCTTTTGGAGGGATTTACTAGTCAGAGTTCCCAGCCCACGGGCACGCCGAGGACCCGTTGACCACACGAGGAAGAGGTTTAGGTGCCATTCATTGAGTGTTAGCTCCAGTCTGAGTCCCACCAAAGCCCCAGAAGTGACTAGGTGAAGGATTCATTAAGGACTTGTGATTTCATATTCTGAAGACGTCCGAGATAAAGATCGACCACAAGTCTGAGAAGTGTCCGTCATGTAAGATTCTACGCTAGAACGCGTACAACCGGTTCTGATCATGATTGCAACCTCTGGCGCCGCGTGCTGCGTGAGGTCCCTCAGGCTAGTCTGCTTTTCTACGTAGTCTGCTTTTCTACGGCTTCTCGGTGTCCTGTATAATCGCTTTTGGAGGCTTCTCGGTGTCCTGTATAATCGCTTTTGGAGGACTTGGATTGTAATCTTGTTTACGTTGCTGTACTATTGGATAATGTAAGCGCCATGCGGCTGGACTCTATCCGAGACCCCGGGTAATAAGGGCATGGGTGTATGATTCCAGATGATTACTCTGGCCATAAGAAGTAGAGTCACAGTCTTCGTACTCGCGGCTAATAAGGAGTTCCTGAGTAGTCTGCTTTTCTACGGCTTCTCGGTGTCCTGTATAATCGCTTTTGGAGAAT\n"
     ]
    }
   ],
   "source": [
    "# Read the input data.\n",
    "with open(\"data/string_reconstruction_from_readpairs_problem.txt\") as input_data:\n",
    "    nums = input_data.readline().split(\" \")\n",
    "    k = int(nums[0])\n",
    "    d = int(nums[1])\n",
    "    paired_reads = [line.strip().split(\"|\") for line in input_data.readlines()]\n",
    "\n",
    "text = string_reconstruction_from_readpairs_problem(k, d, paired_reads)\n",
    "# Print and save the answer.\n",
    "print text[:1000]\n",
    "with open(\"./data/output/string_reconstruction_from_readpairs_problem.txt\", \"w\") as output_data:\n",
    "    output_data.write(text)"
   ]
  },
  {
   "cell_type": "markdown",
   "metadata": {},
   "source": [
    "## CODE CHALLENGE: Solve the Contig Generation Problem.\n",
    "\n",
    "### Contig Generation Problem: Generate the contigs from a collection of reads (with imperfect coverage).\n",
    "\n",
    "> Input: A collection of k-mers $Patterns$.\n",
    "     \n",
    "> Output: All contigs in $DeBruijn(Patterns)$."
   ]
  },
  {
   "cell_type": "code",
   "execution_count": 25,
   "metadata": {
    "collapsed": true
   },
   "outputs": [],
   "source": [
    "from compiler.ast import flatten\n",
    "    \n",
    "def contig_generation_problem(kmers):\n",
    "    # Construct a dictionary of edges.\n",
    "    edges = {}\n",
    "    for kmer in kmers:\n",
    "        if kmer[:-1] in edges:\n",
    "            edges[kmer[:-1]].append(kmer[1:])\n",
    "        else:\n",
    "            edges[kmer[:-1]] = [kmer[1:]]\n",
    "\n",
    "    # Determine the balanced and unbalanced edges.\n",
    "    balanced, unbalanced = [], []\n",
    "    out_values = reduce(lambda a,b: a+b, edges.values())\n",
    "    for node in set(out_values+edges.keys()):\n",
    "        out_value = out_values.count(node)\n",
    "        if node in edges:\n",
    "            in_value = len(edges[node])\n",
    "        else:\n",
    "            in_value = 0\n",
    "        if in_value == out_value == 1:\n",
    "            balanced.append(node)\n",
    "        else:\n",
    "            unbalanced.append(node)\n",
    "\n",
    "    # Generate the contigs.\n",
    "    get_contigs = lambda s, c: flatten([c+e[-1] if e not in balanced else get_contigs(e, c+e[-1]) for e in edges[s]])\n",
    "    return sorted(flatten([get_contigs(start,start) for start in set(unbalanced) & set(edges.keys())]))"
   ]
  },
  {
   "cell_type": "code",
   "execution_count": 26,
   "metadata": {
    "collapsed": false
   },
   "outputs": [
    {
     "name": "stdout",
     "output_type": "stream",
     "text": [
      "AAAGCCGCTTGCTAAGACGCACATAAGAACTACGCTGAGCAGGAGGGCGGCACGACTGGGCCTATGG\n",
      "AAAGCCGCTTGCTAAGACGCACATAAGAACTACGCTGAGCAGGAGGGCGGCACGACTGGGCCTATGG\n",
      "AACTTGAGCGTGCCGCAGGCCTTCTCTCGTAGAACATCTGAGTCTCACGACGATTGTTCATGGGCCAATTGGGAGAATACTACGCGCTCGCGAGCAACGGGTCCGAACAAAATAGGAAGAACGCACGGAAGA\n",
      "AAGCCGAGCGCCGTATTGAGTTTGCTAACCGCAGAGGTCACTGCGGTCACGCTTAGTTGCCTACCTT\n",
      "AAGCCGAGCGCCGTATTGAGTTTGCTAACCGCAGAGGTCACTGCGGTCACGCTTAGTTGCCTACCTT\n",
      "AAGCCGCTTGCTAAGACGCACATAAGAACTACGCTGAGCAGGAGGGCGGCACGACTGGGCCTATGGA\n",
      "AAGCCGCTTGCTAAGACGCACATAAGAACTACGCTGAGCAGGAGGGCGGCACGACTGGGCCTATGGA\n",
      "AATCTAAGGGTTTATCCTCCACCGATCCTTGGAGCAAAGTTCATAAACTTACCCGATTACGAGTTCT\n",
      "AATCTAAGGGTTTATCCTCCACCGATCCTTGGAGCAAAGTTCATAAACTTACCCGATTACGAGTTCT\n",
      "AATGGTGCATTCCCTGTGGGGCTACATTGCATGTCAGGGGAGAATCCGCGCGGGCGTTTTTTGGAAT\n",
      "AATGGTGCATTCCCTGTGGGGCTACATTGCATGTCAGGGGAGAATCCGCGCGGGCGTTTTTTGGAAT\n",
      "AATTGGGAGAATACTACGCGCTCGCGAGCAACGGGTCCGAACAAAATAGGAAGAACGCACGGAAGAC\n",
      "AATTGGGAGAATACTACGCGCTCGCGAGCAACGGGTCCGAACAAAATAGGAAGAACGCACGGAAGAC\n",
      "ACACCGTAGGTAATGGAAAAAAGCCTTACACCTTGCGGTACGCAGCGGAAACCTTTTTTCGTAGAGCGGGTTATTGACCTTTTGGTTGTCCTCGTGCTATTTTATGCACTCCCGCCAGAATGGGGAAA\n",
      "ACATGGTCATGCTGACCGGGCGCTTTGCCAGGGATTATGATTTTTTAACGCAAATGATCAAAGCCGC\n",
      "ACATGGTCATGCTGACCGGGCGCTTTGCCAGGGATTATGATTTTTTAACGCAAATGATCAAAGCCGC\n",
      "ACTTGCCTAGTGGGAAGAAGCACAACCGCTATGTAAATGGACCACGACGGGGCTGGATGTGTGGATTTGTTGAGTTGGTTAAGAGAGGTGCGTAAGGGTGTGTAAGGTTTTATTACGGCGGACGCGCGAA\n",
      "AGAATAAGTCATAAGCGGGTTTAGATATTATTGTCGTGGGAGGGTTCCTCGTACAATCGCTAGTCCGCTACGAGACTTTCTAAATTTCTTGAAACAAAAGGAGGCGGAGTAGGTGTCCCACGGTGGTCCGTCCAGTCGATTTAGTATGTTAGCGGTAATGTAGACCAGTGGTCAGAGGCCATATGGACGGTCGGCTTC\n",
      "AGAGCGGGTTATTGACCTTTTGGTTGTCCTCGTGCTATTTTATGCACTCCCGCCAGAATGGGGAAAA\n",
      "AGAGCGGGTTATTGACCTTTTGGTTGTCCTCGTGCTATTTTATGCACTCCCGCCAGAATGGGGAAAA\n"
     ]
    }
   ],
   "source": [
    "# Read the input data.\n",
    "with open(\"./data/contig_generation_problem.txt\") as input_data:\n",
    "    kmers = [line.strip() for line in input_data.readlines()]\n",
    "    \n",
    "contigs = contig_generation_problem(kmers)\n",
    "\n",
    "# Print and save the answer.\n",
    "print \"\\n\".join(contigs[:20])\n",
    "with open(\"./data/output/contig_generation_problem.txt\", \"w\") as output_data:\n",
    "    output_data.write(\"\\n\".join(contigs))"
   ]
  },
  {
   "cell_type": "markdown",
   "metadata": {},
   "source": [
    "## CODE CHALLENGE: Generating Theoretical Spectrum Problem\n",
    "\n",
    "### Generate the theoretical spectrum of a cyclic peptide.\n",
    "\n",
    "> Input: An amino acid string Peptide.\n",
    "\n",
    "> Output: $Cyclospectrum(Peptide)$"
   ]
  },
  {
   "cell_type": "code",
   "execution_count": 8,
   "metadata": {
    "collapsed": false
   },
   "outputs": [
    {
     "name": "stdout",
     "output_type": "stream",
     "text": [
      "{'A': 71, 'C': 103, 'E': 129, 'D': 115, 'G': 57, 'F': 147, 'I': 113, 'H': 137, 'K': 128, 'M': 131, 'L': 113, 'N': 114, 'Q': 128, 'P': 97, 'S': 87, 'R': 156, 'T': 101, 'W': 186, 'V': 99, 'Y': 163}\n"
     ]
    }
   ],
   "source": [
    "integer_mass_table = {}\n",
    "table = open(\"./data/integer_mass_table.txt\")\n",
    "for line in table:\n",
    "    l = line.split()\n",
    "    integer_mass_table[l[0]] = int(l[1])\n",
    "\n",
    "amino_acids = sorted(list(set(integer_mass_table.keys())))\n",
    "amino_acid_masses = sorted(list(set(integer_mass_table.values())))\n",
    "\n",
    "print integer_mass_table"
   ]
  },
  {
   "cell_type": "code",
   "execution_count": 9,
   "metadata": {
    "collapsed": false
   },
   "outputs": [
    {
     "name": "stdout",
     "output_type": "stream",
     "text": [
      "[0, 71, 87, 87, 101, 103, 113, 113, 128, 131, 147, 156, 156, 188, 190, 200, 202, 215, 227, 232, 241, 250, 260, 269, 291, 303, 312, 319, 328, 328, 337, 347, 358, 363, 383, 390, 397, 422, 425, 438, 441, 450, 450, 459, 475, 484, 493, 496, 514, 537, 546, 551, 553, 569, 578, 588, 597, 615, 624, 627, 638, 640, 640, 649, 665, 682, 691, 702, 711, 728, 744, 753, 753, 755, 766, 769, 778, 796, 805, 815, 824, 840, 842, 847, 856, 879, 897, 900, 909, 918, 934, 943, 943, 952, 955, 968, 971, 996, 1003, 1010, 1030, 1035, 1046, 1056, 1065, 1065, 1074, 1081, 1090, 1102, 1124, 1133, 1143, 1152, 1161, 1166, 1178, 1191, 1193, 1203, 1205, 1237, 1237, 1246, 1262, 1265, 1280, 1280, 1290, 1292, 1306, 1306, 1322, 1393]\n"
     ]
    }
   ],
   "source": [
    "def cyclic_spectrum(peptide):\n",
    "    prefix_mass = [0]\n",
    "    cyclic_spectrum = [0]\n",
    "    for i in range(1, len(peptide)+1):\n",
    "        p = peptide[i-1]\n",
    "        prefix_mass.append(prefix_mass[i-1] + integer_mass_table[p])\n",
    "    peptide_mass = prefix_mass[len(peptide)]\n",
    "    for i in range(0, len(peptide)):\n",
    "        for j in range(i+1, len(peptide)+1):\n",
    "            cyclic_spectrum.append(prefix_mass[j] - prefix_mass[i])\n",
    "            if i > 0 and j < len(peptide):\n",
    "                cyclic_spectrum.append(peptide_mass - (prefix_mass[j] - prefix_mass[i]))\n",
    "    return [x for x in sorted(cyclic_spectrum)]\n",
    "    \n",
    "print cyclic_spectrum(\"MARRLQSLFCST\")"
   ]
  },
  {
   "cell_type": "markdown",
   "metadata": {
    "collapsed": true
   },
   "source": [
    "## CODE CHALLENGE: Solve the Cyclopeptide Scoring Problem.\n",
    "    \n",
    "### Cyclopeptide Scoring Problem: Compute the score of a cyclic peptide against a spectrum.\n",
    "\n",
    "> Input: An amino acid string Peptide and a collection of integers Spectrum\n",
    "\n",
    "> Output: The score of Peptide against Spectrum, $Score(Peptide, Spectrum)$"
   ]
  },
  {
   "cell_type": "code",
   "execution_count": 14,
   "metadata": {
    "collapsed": false
   },
   "outputs": [
    {
     "data": {
      "text/plain": [
       "11"
      ]
     },
     "execution_count": 14,
     "metadata": {},
     "output_type": "execute_result"
    }
   ],
   "source": [
    "def score(peptide, experimental_spectrum):\n",
    "    the_score = 0\n",
    "    theoretical_spectrum = cyclic_spectrum(peptide)\n",
    "    for p in experimental_spectrum:\n",
    "        if p in theoretical_spectrum:\n",
    "            the_score = the_score + 1\n",
    "            theoretical_spectrum.remove(p)\n",
    "    return the_score\n",
    "            \n",
    "peptide = \"NQEL\" \n",
    "spectrum = [0, 99, 113, 114, 128, 227, 257, 299, 355, 356, 370, 371, 484]\n",
    "score(peptide, spectrum)"
   ]
  },
  {
   "cell_type": "code",
   "execution_count": 15,
   "metadata": {
    "collapsed": false
   },
   "outputs": [
    {
     "data": {
      "text/plain": [
       "579"
      ]
     },
     "execution_count": 15,
     "metadata": {},
     "output_type": "execute_result"
    }
   ],
   "source": [
    "string = \" \".join(open(\"./data/cyclopeptide_scoring_problem.txt\")).split()\n",
    "peptide = string[0]\n",
    "spectrum = [int(x) for x in string[1:]]\n",
    "score(peptide, spectrum)"
   ]
  },
  {
   "cell_type": "markdown",
   "metadata": {},
   "source": [
    "## Compute the score of a linear peptide with respect to a spectrum.\n",
    "\n",
    "> Input: An amino acid string $Peptide$ and a collection of integers $Spectrum$.\n",
    "\n",
    "> Output: The linear score of $Peptide$ with respect to $Spectrum$, $LinearScore(Peptide, Spectrum)$."
   ]
  },
  {
   "cell_type": "code",
   "execution_count": 20,
   "metadata": {
    "collapsed": true
   },
   "outputs": [],
   "source": [
    "def linear_score(peptide, experimental_spectrum):\n",
    "    the_score = 0\n",
    "    theoretical_spectrum = linear_spectrum(peptide)\n",
    "    for p in experimental_spectrum:\n",
    "        if p in theoretical_spectrum:\n",
    "            the_score = the_score + 1\n",
    "            theoretical_spectrum.remove(p)\n",
    "    return the_score"
   ]
  },
  {
   "cell_type": "markdown",
   "metadata": {},
   "source": [
    "## Implement LinearSpectrum.\n",
    "\n",
    "> Input: An amino acid string $Peptide$.\n",
    "    \n",
    "> Output: The linear spectrum of $Peptide$."
   ]
  },
  {
   "cell_type": "code",
   "execution_count": 24,
   "metadata": {
    "collapsed": false
   },
   "outputs": [],
   "source": [
    "def linear_spectrum(peptide):\n",
    "    prefix_mass = [0]\n",
    "    linear_spectrum = [0]\n",
    "    for i in range(1, len(peptide)+1):\n",
    "        p = peptide[i-1]\n",
    "        prefix_mass.append(prefix_mass[i-1] + integer_mass_table[p])\n",
    "    for i in range(0, len(peptide)):\n",
    "        for j in range(i+1, len(peptide)+1):\n",
    "            linear_spectrum.append(prefix_mass[j] - prefix_mass[i])\n",
    "    return [x for x in sorted(linear_spectrum)]"
   ]
  },
  {
   "cell_type": "markdown",
   "metadata": {},
   "source": [
    "## CODE CHALLENGE: Implement Trim (reproduced below).\n",
    "\n",
    "> Input: A collection of peptides $Leaderboard$, a collection of integers $Spectrum$, and an integer $N$.\n",
    "\n",
    "> Output: The $N$ highest-scoring linear peptides on $Leaderboard$ with respect to $Spectrum$. "
   ]
  },
  {
   "cell_type": "code",
   "execution_count": 28,
   "metadata": {
    "collapsed": false
   },
   "outputs": [
    {
     "data": {
      "text/plain": [
       "['LAST', 'ALST']"
      ]
     },
     "execution_count": 28,
     "metadata": {},
     "output_type": "execute_result"
    }
   ],
   "source": [
    "             \n",
    "def trim(leader_board, spectrum, N):\n",
    "    results = []\n",
    "    linear_scores = {}\n",
    "    for peptide in leader_board:\n",
    "        linear_scores[peptide] = linear_score(peptide, spectrum)  \n",
    "    d = sorted(linear_scores.items(), key=operator.itemgetter(1), reverse=True)\n",
    "    for k,v in d:\n",
    "        if v >= d[N-1][1]:\n",
    "            results.append(k)\n",
    "    return results\n",
    "        \n",
    "leader_board = [\"LAST\", \"ALST\", \"TLLT\", \"TQAS\"]\n",
    "spectrum = [0, 71, 87, 101, 113, 158, 184, 188, 259, 271, 372]\n",
    "N = 2\n",
    "\n",
    "trim(leader_board, spectrum, N)"
   ]
  },
  {
   "cell_type": "markdown",
   "metadata": {},
   "source": [
    "## CODE CHALLENGE: Implement leaderboard_cyclopeptide_sequencing.\n",
    "\n",
    "> Input: An integer $N$ and a collection of integers $Spectrum$.\n",
    "\n",
    "> Output: $LeaderPeptide$ after running $leaderboard\\_cyclopeptide\\_sequencing(Spectrum, N)$."
   ]
  },
  {
   "cell_type": "code",
   "execution_count": 30,
   "metadata": {
    "collapsed": true
   },
   "outputs": [],
   "source": [
    "def expand_peptides(p):\n",
    "    if len(p) == 0:\n",
    "        return amino_acids\n",
    "    else:\n",
    "        return [\"\".join((x, y)) for x in p for y in amino_acids]"
   ]
  },
  {
   "cell_type": "code",
   "execution_count": 31,
   "metadata": {
    "collapsed": true
   },
   "outputs": [],
   "source": [
    "def get_mass(peptide):\n",
    "    mass = 0\n",
    "    for p in peptide:\n",
    "        mass = mass + integer_mass_table[p]\n",
    "    return mass"
   ]
  },
  {
   "cell_type": "code",
   "execution_count": 33,
   "metadata": {
    "collapsed": false
   },
   "outputs": [],
   "source": [
    "def leaderboard_cyclopeptide_sequencing(spectrum, N):\n",
    "    leader_board = [\"\"]\n",
    "    leader_peptide = \"\"\n",
    "    while len(leader_board) > 0:\n",
    "        leader_board = expand_peptides(leader_board)\n",
    "        for peptide in leader_board:\n",
    "            peptide_mass = get_mass(peptide)\n",
    "            if peptide_mass == max(spectrum):\n",
    "                if score(peptide, spectrum) > score(leader_peptide, spectrum):\n",
    "                    leader_peptide = peptide\n",
    "            if peptide_mass > max(spectrum):\n",
    "                leader_board.remove(peptide)\n",
    "        leader_board = trim(leader_board, spectrum, N)\n",
    "    return leader_peptide    \n",
    "    \n",
    "N = 10\n",
    "spectrum = [0, 71, 113, 129, 147, 200, 218, 260, 313, 331, 347, 389, 460]\n",
    "\n",
    "#leaderboard_cyclopeptide_sequencing(spectrum, N)"
   ]
  },
  {
   "cell_type": "code",
   "execution_count": 40,
   "metadata": {
    "collapsed": false
   },
   "outputs": [
    {
     "name": "stdout",
     "output_type": "stream",
     "text": [
      "8\n",
      "10\n"
     ]
    }
   ],
   "source": [
    "Peptide = \"MAMA\" \n",
    "Spectrum = [0, 71, 178, 202, 202, 202, 333, 333, 333, 404, 507, 507]\n",
    "print score(Peptide, Spectrum)\n",
    "\n",
    "Peptide = \"PEEP\"\n",
    "Spectrum = [0, 97, 97, 129, 129, 194, 203, 226, 226, 258, 323, 323, 323, 355, 403, 452]\n",
    "print linear_score(Peptide, Spectrum)"
   ]
  }
 ],
 "metadata": {
  "kernelspec": {
   "display_name": "Python 2",
   "language": "python",
   "name": "python2"
  },
  "language_info": {
   "codemirror_mode": {
    "name": "ipython",
    "version": 2
   },
   "file_extension": ".py",
   "mimetype": "text/x-python",
   "name": "python",
   "nbconvert_exporter": "python",
   "pygments_lexer": "ipython2",
   "version": "2.7.9"
  }
 },
 "nbformat": 4,
 "nbformat_minor": 0
}
